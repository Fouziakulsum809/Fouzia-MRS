{
  "nbformat": 4,
  "nbformat_minor": 0,
  "metadata": {
    "colab": {
      "provenance": []
    },
    "kernelspec": {
      "name": "python3",
      "display_name": "Python 3"
    },
    "language_info": {
      "name": "python"
    }
  },
  "cells": [
    {
      "cell_type": "markdown",
      "source": [
        "**Movie Recommendation System:**\n",
        "\n",
        "A Recommendation System is a filtration program whose prime goal is to predict a user’s “rating” or “preference” toward a domain-specific item or item. In our case, this domain-specific item is a movie. Therefore, the main focus of our recommendation system is to filter and predict only those movies that a user would prefer, given some data about the user.\n",
        "\n",
        "**Content-based Filtering:** Content-based filtering is a recommendation strategy that suggests items similar to those a user has previously liked. It calculates similarity (often using cosine similarity) between the user’s preferences and item attributes, such as lead actors, directors, and genres.\n",
        "\n",
        "**Collaborative Filtering:** It is a recommendation strategy that considers the user’s behavior and compares it with other users in the database. It uses the history of all users to influence the recommendation algorithm. Unlike a content-based recommender system, a collaborative filtering recommender relies on multiple users’ interactions with items to generate suggestions. It doesn’t solely depend on one user’s data for modeling.\n",
        "\n",
        "**User-based Collaborative filtering:** User-based collaborative filtering aims to recommend items to a user (A) based on the preferences of similar users in the database. It involves creating a matrix of items rated/liked/clicked by each user, computing similarity scores between users, and then suggesting items that user A hasn’t encountered yet but similar users have liked.\n"
      ],
      "metadata": {
        "id": "wmfNZDYZ3-f-"
      }
    },
    {
      "cell_type": "markdown",
      "source": [
        "**Import Library**"
      ],
      "metadata": {
        "id": "ToLJoyoP6DBD"
      }
    },
    {
      "cell_type": "code",
      "source": [
        "import pandas as pd\n",
        "import numpy as np"
      ],
      "metadata": {
        "id": "swpBFEUy6I7z"
      },
      "execution_count": 1,
      "outputs": []
    },
    {
      "cell_type": "markdown",
      "source": [
        "**Import Dataset**"
      ],
      "metadata": {
        "id": "6XmtUruZ6cWp"
      }
    },
    {
      "cell_type": "code",
      "source": [
        "df=pd.read_csv('/content/Movies Recommendation.csv')\n",
        "df.head()"
      ],
      "metadata": {
        "colab": {
          "base_uri": "https://localhost:8080/",
          "height": 672
        },
        "id": "rFeymvvi6hsc",
        "outputId": "1192d470-96c6-48fb-cc66-18f5303bf764"
      },
      "execution_count": 2,
      "outputs": [
        {
          "output_type": "execute_result",
          "data": {
            "text/plain": [
              "   Movie_ID      Movie_Title                       Movie_Genre Movie_Language  \\\n",
              "0         1       Four Rooms                      Crime Comedy             en   \n",
              "1         2        Star Wars  Adventure Action Science Fiction             en   \n",
              "2         3     Finding Nemo                  Animation Family             en   \n",
              "3         4     Forrest Gump              Comedy Drama Romance             en   \n",
              "4         5  American Beauty                             Drama             en   \n",
              "\n",
              "   Movie_Budget  Movie_Popularity Movie_Release_Date  Movie_Revenue  \\\n",
              "0       4000000         22.876230         09-12-1995        4300000   \n",
              "1      11000000        126.393695         25-05-1977      775398007   \n",
              "2      94000000         85.688789         30-05-2003      940335536   \n",
              "3      55000000        138.133331         06-07-1994      677945399   \n",
              "4      15000000         80.878605         15-09-1999      356296601   \n",
              "\n",
              "   Movie_Runtime  Movie_Vote  ...  \\\n",
              "0           98.0         6.5  ...   \n",
              "1          121.0         8.1  ...   \n",
              "2          100.0         7.6  ...   \n",
              "3          142.0         8.2  ...   \n",
              "4          122.0         7.9  ...   \n",
              "\n",
              "                                      Movie_Homepage  \\\n",
              "0                                                NaN   \n",
              "1  http://www.starwars.com/films/star-wars-episod...   \n",
              "2              http://movies.disney.com/finding-nemo   \n",
              "3                                                NaN   \n",
              "4                      http://www.dreamworks.com/ab/   \n",
              "\n",
              "                                      Movie_Keywords  \\\n",
              "0          hotel new year's eve witch bet hotel room   \n",
              "1        android galaxy hermit death star lightsaber   \n",
              "2  father son relationship harbor underwater fish...   \n",
              "3  vietnam veteran hippie mentally disabled runni...   \n",
              "4  male nudity female nudity adultery midlife cri...   \n",
              "\n",
              "                                      Movie_Overview  \\\n",
              "0  It's Ted the Bellhop's first night on the job....   \n",
              "1  Princess Leia is captured and held hostage by ...   \n",
              "2  Nemo, an adventurous young clownfish, is unexp...   \n",
              "3  A man with a low IQ has accomplished great thi...   \n",
              "4  Lester Burnham, a depressed suburban father in...   \n",
              "\n",
              "                              Movie_Production_House  \\\n",
              "0  [{\"name\": \"Miramax Films\", \"id\": 14}, {\"name\":...   \n",
              "1  [{\"name\": \"Lucasfilm\", \"id\": 1}, {\"name\": \"Twe...   \n",
              "2     [{\"name\": \"Pixar Animation Studios\", \"id\": 3}]   \n",
              "3          [{\"name\": \"Paramount Pictures\", \"id\": 4}]   \n",
              "4  [{\"name\": \"DreamWorks SKG\", \"id\": 27}, {\"name\"...   \n",
              "\n",
              "                            Movie_Production_Country  \\\n",
              "0  [{\"iso_3166_1\": \"US\", \"name\": \"United States o...   \n",
              "1  [{\"iso_3166_1\": \"US\", \"name\": \"United States o...   \n",
              "2  [{\"iso_3166_1\": \"US\", \"name\": \"United States o...   \n",
              "3  [{\"iso_3166_1\": \"US\", \"name\": \"United States o...   \n",
              "4  [{\"iso_3166_1\": \"US\", \"name\": \"United States o...   \n",
              "\n",
              "                      Movie_Spoken_Language  \\\n",
              "0  [{\"iso_639_1\": \"en\", \"name\": \"English\"}]   \n",
              "1  [{\"iso_639_1\": \"en\", \"name\": \"English\"}]   \n",
              "2  [{\"iso_639_1\": \"en\", \"name\": \"English\"}]   \n",
              "3  [{\"iso_639_1\": \"en\", \"name\": \"English\"}]   \n",
              "4  [{\"iso_639_1\": \"en\", \"name\": \"English\"}]   \n",
              "\n",
              "                                       Movie_Tagline  \\\n",
              "0  Twelve outrageous guests. Four scandalous requ...   \n",
              "1       A long time ago in a galaxy far, far away...   \n",
              "2  There are 3.7 trillion fish in the ocean, they...   \n",
              "3  The world will never be the same, once you've ...   \n",
              "4                                       Look closer.   \n",
              "\n",
              "                                          Movie_Cast  \\\n",
              "0  Tim Roth Antonio Banderas Jennifer Beals Madon...   \n",
              "1  Mark Hamill Harrison Ford Carrie Fisher Peter ...   \n",
              "2  Albert Brooks Ellen DeGeneres Alexander Gould ...   \n",
              "3  Tom Hanks Robin Wright Gary Sinise Mykelti Wil...   \n",
              "4  Kevin Spacey Annette Bening Thora Birch Wes Be...   \n",
              "\n",
              "                                          Movie_Crew   Movie_Director  \n",
              "0  [{'name': 'Allison Anders', 'gender': 1, 'depa...   Allison Anders  \n",
              "1  [{'name': 'George Lucas', 'gender': 2, 'depart...     George Lucas  \n",
              "2  [{'name': 'Andrew Stanton', 'gender': 2, 'depa...   Andrew Stanton  \n",
              "3  [{'name': 'Alan Silvestri', 'gender': 2, 'depa...  Robert Zemeckis  \n",
              "4  [{'name': 'Thomas Newman', 'gender': 2, 'depar...       Sam Mendes  \n",
              "\n",
              "[5 rows x 21 columns]"
            ],
            "text/html": [
              "\n",
              "  <div id=\"df-a725a33a-32e9-4c93-a55b-e9f55c2045ef\" class=\"colab-df-container\">\n",
              "    <div>\n",
              "<style scoped>\n",
              "    .dataframe tbody tr th:only-of-type {\n",
              "        vertical-align: middle;\n",
              "    }\n",
              "\n",
              "    .dataframe tbody tr th {\n",
              "        vertical-align: top;\n",
              "    }\n",
              "\n",
              "    .dataframe thead th {\n",
              "        text-align: right;\n",
              "    }\n",
              "</style>\n",
              "<table border=\"1\" class=\"dataframe\">\n",
              "  <thead>\n",
              "    <tr style=\"text-align: right;\">\n",
              "      <th></th>\n",
              "      <th>Movie_ID</th>\n",
              "      <th>Movie_Title</th>\n",
              "      <th>Movie_Genre</th>\n",
              "      <th>Movie_Language</th>\n",
              "      <th>Movie_Budget</th>\n",
              "      <th>Movie_Popularity</th>\n",
              "      <th>Movie_Release_Date</th>\n",
              "      <th>Movie_Revenue</th>\n",
              "      <th>Movie_Runtime</th>\n",
              "      <th>Movie_Vote</th>\n",
              "      <th>...</th>\n",
              "      <th>Movie_Homepage</th>\n",
              "      <th>Movie_Keywords</th>\n",
              "      <th>Movie_Overview</th>\n",
              "      <th>Movie_Production_House</th>\n",
              "      <th>Movie_Production_Country</th>\n",
              "      <th>Movie_Spoken_Language</th>\n",
              "      <th>Movie_Tagline</th>\n",
              "      <th>Movie_Cast</th>\n",
              "      <th>Movie_Crew</th>\n",
              "      <th>Movie_Director</th>\n",
              "    </tr>\n",
              "  </thead>\n",
              "  <tbody>\n",
              "    <tr>\n",
              "      <th>0</th>\n",
              "      <td>1</td>\n",
              "      <td>Four Rooms</td>\n",
              "      <td>Crime Comedy</td>\n",
              "      <td>en</td>\n",
              "      <td>4000000</td>\n",
              "      <td>22.876230</td>\n",
              "      <td>09-12-1995</td>\n",
              "      <td>4300000</td>\n",
              "      <td>98.0</td>\n",
              "      <td>6.5</td>\n",
              "      <td>...</td>\n",
              "      <td>NaN</td>\n",
              "      <td>hotel new year's eve witch bet hotel room</td>\n",
              "      <td>It's Ted the Bellhop's first night on the job....</td>\n",
              "      <td>[{\"name\": \"Miramax Films\", \"id\": 14}, {\"name\":...</td>\n",
              "      <td>[{\"iso_3166_1\": \"US\", \"name\": \"United States o...</td>\n",
              "      <td>[{\"iso_639_1\": \"en\", \"name\": \"English\"}]</td>\n",
              "      <td>Twelve outrageous guests. Four scandalous requ...</td>\n",
              "      <td>Tim Roth Antonio Banderas Jennifer Beals Madon...</td>\n",
              "      <td>[{'name': 'Allison Anders', 'gender': 1, 'depa...</td>\n",
              "      <td>Allison Anders</td>\n",
              "    </tr>\n",
              "    <tr>\n",
              "      <th>1</th>\n",
              "      <td>2</td>\n",
              "      <td>Star Wars</td>\n",
              "      <td>Adventure Action Science Fiction</td>\n",
              "      <td>en</td>\n",
              "      <td>11000000</td>\n",
              "      <td>126.393695</td>\n",
              "      <td>25-05-1977</td>\n",
              "      <td>775398007</td>\n",
              "      <td>121.0</td>\n",
              "      <td>8.1</td>\n",
              "      <td>...</td>\n",
              "      <td>http://www.starwars.com/films/star-wars-episod...</td>\n",
              "      <td>android galaxy hermit death star lightsaber</td>\n",
              "      <td>Princess Leia is captured and held hostage by ...</td>\n",
              "      <td>[{\"name\": \"Lucasfilm\", \"id\": 1}, {\"name\": \"Twe...</td>\n",
              "      <td>[{\"iso_3166_1\": \"US\", \"name\": \"United States o...</td>\n",
              "      <td>[{\"iso_639_1\": \"en\", \"name\": \"English\"}]</td>\n",
              "      <td>A long time ago in a galaxy far, far away...</td>\n",
              "      <td>Mark Hamill Harrison Ford Carrie Fisher Peter ...</td>\n",
              "      <td>[{'name': 'George Lucas', 'gender': 2, 'depart...</td>\n",
              "      <td>George Lucas</td>\n",
              "    </tr>\n",
              "    <tr>\n",
              "      <th>2</th>\n",
              "      <td>3</td>\n",
              "      <td>Finding Nemo</td>\n",
              "      <td>Animation Family</td>\n",
              "      <td>en</td>\n",
              "      <td>94000000</td>\n",
              "      <td>85.688789</td>\n",
              "      <td>30-05-2003</td>\n",
              "      <td>940335536</td>\n",
              "      <td>100.0</td>\n",
              "      <td>7.6</td>\n",
              "      <td>...</td>\n",
              "      <td>http://movies.disney.com/finding-nemo</td>\n",
              "      <td>father son relationship harbor underwater fish...</td>\n",
              "      <td>Nemo, an adventurous young clownfish, is unexp...</td>\n",
              "      <td>[{\"name\": \"Pixar Animation Studios\", \"id\": 3}]</td>\n",
              "      <td>[{\"iso_3166_1\": \"US\", \"name\": \"United States o...</td>\n",
              "      <td>[{\"iso_639_1\": \"en\", \"name\": \"English\"}]</td>\n",
              "      <td>There are 3.7 trillion fish in the ocean, they...</td>\n",
              "      <td>Albert Brooks Ellen DeGeneres Alexander Gould ...</td>\n",
              "      <td>[{'name': 'Andrew Stanton', 'gender': 2, 'depa...</td>\n",
              "      <td>Andrew Stanton</td>\n",
              "    </tr>\n",
              "    <tr>\n",
              "      <th>3</th>\n",
              "      <td>4</td>\n",
              "      <td>Forrest Gump</td>\n",
              "      <td>Comedy Drama Romance</td>\n",
              "      <td>en</td>\n",
              "      <td>55000000</td>\n",
              "      <td>138.133331</td>\n",
              "      <td>06-07-1994</td>\n",
              "      <td>677945399</td>\n",
              "      <td>142.0</td>\n",
              "      <td>8.2</td>\n",
              "      <td>...</td>\n",
              "      <td>NaN</td>\n",
              "      <td>vietnam veteran hippie mentally disabled runni...</td>\n",
              "      <td>A man with a low IQ has accomplished great thi...</td>\n",
              "      <td>[{\"name\": \"Paramount Pictures\", \"id\": 4}]</td>\n",
              "      <td>[{\"iso_3166_1\": \"US\", \"name\": \"United States o...</td>\n",
              "      <td>[{\"iso_639_1\": \"en\", \"name\": \"English\"}]</td>\n",
              "      <td>The world will never be the same, once you've ...</td>\n",
              "      <td>Tom Hanks Robin Wright Gary Sinise Mykelti Wil...</td>\n",
              "      <td>[{'name': 'Alan Silvestri', 'gender': 2, 'depa...</td>\n",
              "      <td>Robert Zemeckis</td>\n",
              "    </tr>\n",
              "    <tr>\n",
              "      <th>4</th>\n",
              "      <td>5</td>\n",
              "      <td>American Beauty</td>\n",
              "      <td>Drama</td>\n",
              "      <td>en</td>\n",
              "      <td>15000000</td>\n",
              "      <td>80.878605</td>\n",
              "      <td>15-09-1999</td>\n",
              "      <td>356296601</td>\n",
              "      <td>122.0</td>\n",
              "      <td>7.9</td>\n",
              "      <td>...</td>\n",
              "      <td>http://www.dreamworks.com/ab/</td>\n",
              "      <td>male nudity female nudity adultery midlife cri...</td>\n",
              "      <td>Lester Burnham, a depressed suburban father in...</td>\n",
              "      <td>[{\"name\": \"DreamWorks SKG\", \"id\": 27}, {\"name\"...</td>\n",
              "      <td>[{\"iso_3166_1\": \"US\", \"name\": \"United States o...</td>\n",
              "      <td>[{\"iso_639_1\": \"en\", \"name\": \"English\"}]</td>\n",
              "      <td>Look closer.</td>\n",
              "      <td>Kevin Spacey Annette Bening Thora Birch Wes Be...</td>\n",
              "      <td>[{'name': 'Thomas Newman', 'gender': 2, 'depar...</td>\n",
              "      <td>Sam Mendes</td>\n",
              "    </tr>\n",
              "  </tbody>\n",
              "</table>\n",
              "<p>5 rows × 21 columns</p>\n",
              "</div>\n",
              "    <div class=\"colab-df-buttons\">\n",
              "\n",
              "  <div class=\"colab-df-container\">\n",
              "    <button class=\"colab-df-convert\" onclick=\"convertToInteractive('df-a725a33a-32e9-4c93-a55b-e9f55c2045ef')\"\n",
              "            title=\"Convert this dataframe to an interactive table.\"\n",
              "            style=\"display:none;\">\n",
              "\n",
              "  <svg xmlns=\"http://www.w3.org/2000/svg\" height=\"24px\" viewBox=\"0 -960 960 960\">\n",
              "    <path d=\"M120-120v-720h720v720H120Zm60-500h600v-160H180v160Zm220 220h160v-160H400v160Zm0 220h160v-160H400v160ZM180-400h160v-160H180v160Zm440 0h160v-160H620v160ZM180-180h160v-160H180v160Zm440 0h160v-160H620v160Z\"/>\n",
              "  </svg>\n",
              "    </button>\n",
              "\n",
              "  <style>\n",
              "    .colab-df-container {\n",
              "      display:flex;\n",
              "      gap: 12px;\n",
              "    }\n",
              "\n",
              "    .colab-df-convert {\n",
              "      background-color: #E8F0FE;\n",
              "      border: none;\n",
              "      border-radius: 50%;\n",
              "      cursor: pointer;\n",
              "      display: none;\n",
              "      fill: #1967D2;\n",
              "      height: 32px;\n",
              "      padding: 0 0 0 0;\n",
              "      width: 32px;\n",
              "    }\n",
              "\n",
              "    .colab-df-convert:hover {\n",
              "      background-color: #E2EBFA;\n",
              "      box-shadow: 0px 1px 2px rgba(60, 64, 67, 0.3), 0px 1px 3px 1px rgba(60, 64, 67, 0.15);\n",
              "      fill: #174EA6;\n",
              "    }\n",
              "\n",
              "    .colab-df-buttons div {\n",
              "      margin-bottom: 4px;\n",
              "    }\n",
              "\n",
              "    [theme=dark] .colab-df-convert {\n",
              "      background-color: #3B4455;\n",
              "      fill: #D2E3FC;\n",
              "    }\n",
              "\n",
              "    [theme=dark] .colab-df-convert:hover {\n",
              "      background-color: #434B5C;\n",
              "      box-shadow: 0px 1px 3px 1px rgba(0, 0, 0, 0.15);\n",
              "      filter: drop-shadow(0px 1px 2px rgba(0, 0, 0, 0.3));\n",
              "      fill: #FFFFFF;\n",
              "    }\n",
              "  </style>\n",
              "\n",
              "    <script>\n",
              "      const buttonEl =\n",
              "        document.querySelector('#df-a725a33a-32e9-4c93-a55b-e9f55c2045ef button.colab-df-convert');\n",
              "      buttonEl.style.display =\n",
              "        google.colab.kernel.accessAllowed ? 'block' : 'none';\n",
              "\n",
              "      async function convertToInteractive(key) {\n",
              "        const element = document.querySelector('#df-a725a33a-32e9-4c93-a55b-e9f55c2045ef');\n",
              "        const dataTable =\n",
              "          await google.colab.kernel.invokeFunction('convertToInteractive',\n",
              "                                                    [key], {});\n",
              "        if (!dataTable) return;\n",
              "\n",
              "        const docLinkHtml = 'Like what you see? Visit the ' +\n",
              "          '<a target=\"_blank\" href=https://colab.research.google.com/notebooks/data_table.ipynb>data table notebook</a>'\n",
              "          + ' to learn more about interactive tables.';\n",
              "        element.innerHTML = '';\n",
              "        dataTable['output_type'] = 'display_data';\n",
              "        await google.colab.output.renderOutput(dataTable, element);\n",
              "        const docLink = document.createElement('div');\n",
              "        docLink.innerHTML = docLinkHtml;\n",
              "        element.appendChild(docLink);\n",
              "      }\n",
              "    </script>\n",
              "  </div>\n",
              "\n",
              "\n",
              "<div id=\"df-636c4bea-0a43-4c3e-970e-9d05baf80222\">\n",
              "  <button class=\"colab-df-quickchart\" onclick=\"quickchart('df-636c4bea-0a43-4c3e-970e-9d05baf80222')\"\n",
              "            title=\"Suggest charts\"\n",
              "            style=\"display:none;\">\n",
              "\n",
              "<svg xmlns=\"http://www.w3.org/2000/svg\" height=\"24px\"viewBox=\"0 0 24 24\"\n",
              "     width=\"24px\">\n",
              "    <g>\n",
              "        <path d=\"M19 3H5c-1.1 0-2 .9-2 2v14c0 1.1.9 2 2 2h14c1.1 0 2-.9 2-2V5c0-1.1-.9-2-2-2zM9 17H7v-7h2v7zm4 0h-2V7h2v10zm4 0h-2v-4h2v4z\"/>\n",
              "    </g>\n",
              "</svg>\n",
              "  </button>\n",
              "\n",
              "<style>\n",
              "  .colab-df-quickchart {\n",
              "      --bg-color: #E8F0FE;\n",
              "      --fill-color: #1967D2;\n",
              "      --hover-bg-color: #E2EBFA;\n",
              "      --hover-fill-color: #174EA6;\n",
              "      --disabled-fill-color: #AAA;\n",
              "      --disabled-bg-color: #DDD;\n",
              "  }\n",
              "\n",
              "  [theme=dark] .colab-df-quickchart {\n",
              "      --bg-color: #3B4455;\n",
              "      --fill-color: #D2E3FC;\n",
              "      --hover-bg-color: #434B5C;\n",
              "      --hover-fill-color: #FFFFFF;\n",
              "      --disabled-bg-color: #3B4455;\n",
              "      --disabled-fill-color: #666;\n",
              "  }\n",
              "\n",
              "  .colab-df-quickchart {\n",
              "    background-color: var(--bg-color);\n",
              "    border: none;\n",
              "    border-radius: 50%;\n",
              "    cursor: pointer;\n",
              "    display: none;\n",
              "    fill: var(--fill-color);\n",
              "    height: 32px;\n",
              "    padding: 0;\n",
              "    width: 32px;\n",
              "  }\n",
              "\n",
              "  .colab-df-quickchart:hover {\n",
              "    background-color: var(--hover-bg-color);\n",
              "    box-shadow: 0 1px 2px rgba(60, 64, 67, 0.3), 0 1px 3px 1px rgba(60, 64, 67, 0.15);\n",
              "    fill: var(--button-hover-fill-color);\n",
              "  }\n",
              "\n",
              "  .colab-df-quickchart-complete:disabled,\n",
              "  .colab-df-quickchart-complete:disabled:hover {\n",
              "    background-color: var(--disabled-bg-color);\n",
              "    fill: var(--disabled-fill-color);\n",
              "    box-shadow: none;\n",
              "  }\n",
              "\n",
              "  .colab-df-spinner {\n",
              "    border: 2px solid var(--fill-color);\n",
              "    border-color: transparent;\n",
              "    border-bottom-color: var(--fill-color);\n",
              "    animation:\n",
              "      spin 1s steps(1) infinite;\n",
              "  }\n",
              "\n",
              "  @keyframes spin {\n",
              "    0% {\n",
              "      border-color: transparent;\n",
              "      border-bottom-color: var(--fill-color);\n",
              "      border-left-color: var(--fill-color);\n",
              "    }\n",
              "    20% {\n",
              "      border-color: transparent;\n",
              "      border-left-color: var(--fill-color);\n",
              "      border-top-color: var(--fill-color);\n",
              "    }\n",
              "    30% {\n",
              "      border-color: transparent;\n",
              "      border-left-color: var(--fill-color);\n",
              "      border-top-color: var(--fill-color);\n",
              "      border-right-color: var(--fill-color);\n",
              "    }\n",
              "    40% {\n",
              "      border-color: transparent;\n",
              "      border-right-color: var(--fill-color);\n",
              "      border-top-color: var(--fill-color);\n",
              "    }\n",
              "    60% {\n",
              "      border-color: transparent;\n",
              "      border-right-color: var(--fill-color);\n",
              "    }\n",
              "    80% {\n",
              "      border-color: transparent;\n",
              "      border-right-color: var(--fill-color);\n",
              "      border-bottom-color: var(--fill-color);\n",
              "    }\n",
              "    90% {\n",
              "      border-color: transparent;\n",
              "      border-bottom-color: var(--fill-color);\n",
              "    }\n",
              "  }\n",
              "</style>\n",
              "\n",
              "  <script>\n",
              "    async function quickchart(key) {\n",
              "      const quickchartButtonEl =\n",
              "        document.querySelector('#' + key + ' button');\n",
              "      quickchartButtonEl.disabled = true;  // To prevent multiple clicks.\n",
              "      quickchartButtonEl.classList.add('colab-df-spinner');\n",
              "      try {\n",
              "        const charts = await google.colab.kernel.invokeFunction(\n",
              "            'suggestCharts', [key], {});\n",
              "      } catch (error) {\n",
              "        console.error('Error during call to suggestCharts:', error);\n",
              "      }\n",
              "      quickchartButtonEl.classList.remove('colab-df-spinner');\n",
              "      quickchartButtonEl.classList.add('colab-df-quickchart-complete');\n",
              "    }\n",
              "    (() => {\n",
              "      let quickchartButtonEl =\n",
              "        document.querySelector('#df-636c4bea-0a43-4c3e-970e-9d05baf80222 button');\n",
              "      quickchartButtonEl.style.display =\n",
              "        google.colab.kernel.accessAllowed ? 'block' : 'none';\n",
              "    })();\n",
              "  </script>\n",
              "</div>\n",
              "\n",
              "    </div>\n",
              "  </div>\n"
            ],
            "application/vnd.google.colaboratory.intrinsic+json": {
              "type": "dataframe",
              "variable_name": "df"
            }
          },
          "metadata": {},
          "execution_count": 2
        }
      ]
    },
    {
      "cell_type": "code",
      "source": [
        "df.info()"
      ],
      "metadata": {
        "colab": {
          "base_uri": "https://localhost:8080/"
        },
        "id": "ex8hiwIW60bX",
        "outputId": "02649928-6590-48e9-c40c-b64b1d596302"
      },
      "execution_count": 3,
      "outputs": [
        {
          "output_type": "stream",
          "name": "stdout",
          "text": [
            "<class 'pandas.core.frame.DataFrame'>\n",
            "RangeIndex: 4760 entries, 0 to 4759\n",
            "Data columns (total 21 columns):\n",
            " #   Column                    Non-Null Count  Dtype  \n",
            "---  ------                    --------------  -----  \n",
            " 0   Movie_ID                  4760 non-null   int64  \n",
            " 1   Movie_Title               4760 non-null   object \n",
            " 2   Movie_Genre               4760 non-null   object \n",
            " 3   Movie_Language            4760 non-null   object \n",
            " 4   Movie_Budget              4760 non-null   int64  \n",
            " 5   Movie_Popularity          4760 non-null   float64\n",
            " 6   Movie_Release_Date        4760 non-null   object \n",
            " 7   Movie_Revenue             4760 non-null   int64  \n",
            " 8   Movie_Runtime             4758 non-null   float64\n",
            " 9   Movie_Vote                4760 non-null   float64\n",
            " 10  Movie_Vote_Count          4760 non-null   int64  \n",
            " 11  Movie_Homepage            1699 non-null   object \n",
            " 12  Movie_Keywords            4373 non-null   object \n",
            " 13  Movie_Overview            4757 non-null   object \n",
            " 14  Movie_Production_House    4760 non-null   object \n",
            " 15  Movie_Production_Country  4760 non-null   object \n",
            " 16  Movie_Spoken_Language     4760 non-null   object \n",
            " 17  Movie_Tagline             3942 non-null   object \n",
            " 18  Movie_Cast                4733 non-null   object \n",
            " 19  Movie_Crew                4760 non-null   object \n",
            " 20  Movie_Director            4738 non-null   object \n",
            "dtypes: float64(3), int64(4), object(14)\n",
            "memory usage: 781.1+ KB\n"
          ]
        }
      ]
    },
    {
      "cell_type": "code",
      "source": [
        "df.shape"
      ],
      "metadata": {
        "colab": {
          "base_uri": "https://localhost:8080/"
        },
        "id": "nNXe73Ds7DkR",
        "outputId": "b02b5035-be72-4b51-c8aa-985b7287aeb0"
      },
      "execution_count": 4,
      "outputs": [
        {
          "output_type": "execute_result",
          "data": {
            "text/plain": [
              "(4760, 21)"
            ]
          },
          "metadata": {},
          "execution_count": 4
        }
      ]
    },
    {
      "cell_type": "code",
      "source": [
        "df.columns"
      ],
      "metadata": {
        "colab": {
          "base_uri": "https://localhost:8080/"
        },
        "id": "hbFHI5_N7MpD",
        "outputId": "6e900327-835d-4cc9-d7e3-8a64965188c7"
      },
      "execution_count": 5,
      "outputs": [
        {
          "output_type": "execute_result",
          "data": {
            "text/plain": [
              "Index(['Movie_ID', 'Movie_Title', 'Movie_Genre', 'Movie_Language',\n",
              "       'Movie_Budget', 'Movie_Popularity', 'Movie_Release_Date',\n",
              "       'Movie_Revenue', 'Movie_Runtime', 'Movie_Vote', 'Movie_Vote_Count',\n",
              "       'Movie_Homepage', 'Movie_Keywords', 'Movie_Overview',\n",
              "       'Movie_Production_House', 'Movie_Production_Country',\n",
              "       'Movie_Spoken_Language', 'Movie_Tagline', 'Movie_Cast', 'Movie_Crew',\n",
              "       'Movie_Director'],\n",
              "      dtype='object')"
            ]
          },
          "metadata": {},
          "execution_count": 5
        }
      ]
    },
    {
      "cell_type": "markdown",
      "source": [
        "**Get Feature Selection**"
      ],
      "metadata": {
        "id": "SmIihAz07l1L"
      }
    },
    {
      "cell_type": "code",
      "source": [
        "df_features=df[['Movie_Genre','Movie_Keywords','Movie_Tagline','Movie_Cast','Movie_Director']].fillna('')"
      ],
      "metadata": {
        "id": "arjIxIzt7yWq"
      },
      "execution_count": 6,
      "outputs": []
    },
    {
      "cell_type": "code",
      "source": [
        "df_features.shape"
      ],
      "metadata": {
        "colab": {
          "base_uri": "https://localhost:8080/"
        },
        "id": "XcySni8-8nzn",
        "outputId": "333aaa25-b5e2-4b44-a7c8-4bc709ac4bec"
      },
      "execution_count": 7,
      "outputs": [
        {
          "output_type": "execute_result",
          "data": {
            "text/plain": [
              "(4760, 5)"
            ]
          },
          "metadata": {},
          "execution_count": 7
        }
      ]
    },
    {
      "cell_type": "code",
      "source": [
        "df_features"
      ],
      "metadata": {
        "colab": {
          "base_uri": "https://localhost:8080/",
          "height": 614
        },
        "id": "VAaWPt608rRF",
        "outputId": "f1773277-af8d-42e3-fce1-91f9ea6253c4"
      },
      "execution_count": 8,
      "outputs": [
        {
          "output_type": "execute_result",
          "data": {
            "text/plain": [
              "                           Movie_Genre  \\\n",
              "0                         Crime Comedy   \n",
              "1     Adventure Action Science Fiction   \n",
              "2                     Animation Family   \n",
              "3                 Comedy Drama Romance   \n",
              "4                                Drama   \n",
              "...                                ...   \n",
              "4755                            Horror   \n",
              "4756               Comedy Family Drama   \n",
              "4757                    Thriller Drama   \n",
              "4758                            Family   \n",
              "4759                       Documentary   \n",
              "\n",
              "                                         Movie_Keywords  \\\n",
              "0             hotel new year's eve witch bet hotel room   \n",
              "1           android galaxy hermit death star lightsaber   \n",
              "2     father son relationship harbor underwater fish...   \n",
              "3     vietnam veteran hippie mentally disabled runni...   \n",
              "4     male nudity female nudity adultery midlife cri...   \n",
              "...                                                 ...   \n",
              "4755                                                      \n",
              "4756                                                      \n",
              "4757                     christian film sex trafficking   \n",
              "4758                                                      \n",
              "4759  music actors legendary perfomer classic hollyw...   \n",
              "\n",
              "                                          Movie_Tagline  \\\n",
              "0     Twelve outrageous guests. Four scandalous requ...   \n",
              "1          A long time ago in a galaxy far, far away...   \n",
              "2     There are 3.7 trillion fish in the ocean, they...   \n",
              "3     The world will never be the same, once you've ...   \n",
              "4                                          Look closer.   \n",
              "...                                                 ...   \n",
              "4755                The hot spot where Satan's waitin'.   \n",
              "4756           It’s better to stand out than to fit in.   \n",
              "4757           She never knew it could happen to her...   \n",
              "4758                                                      \n",
              "4759                                                      \n",
              "\n",
              "                                             Movie_Cast     Movie_Director  \n",
              "0     Tim Roth Antonio Banderas Jennifer Beals Madon...     Allison Anders  \n",
              "1     Mark Hamill Harrison Ford Carrie Fisher Peter ...       George Lucas  \n",
              "2     Albert Brooks Ellen DeGeneres Alexander Gould ...     Andrew Stanton  \n",
              "3     Tom Hanks Robin Wright Gary Sinise Mykelti Wil...    Robert Zemeckis  \n",
              "4     Kevin Spacey Annette Bening Thora Birch Wes Be...         Sam Mendes  \n",
              "...                                                 ...                ...  \n",
              "4755  Lisa Hart Carroll Michael Des Barres Paul Drak...         Pece Dingo  \n",
              "4756  Roni Akurati Brighton Sharbino Jason Lee Anjul...       Frank Lotito  \n",
              "4757  Nicole Smolen Kim Baldwin Ariana Stephens Brys...       Jaco Booyens  \n",
              "4758                                                                        \n",
              "4759                                    Tony Oppedisano  Simon Napier-Bell  \n",
              "\n",
              "[4760 rows x 5 columns]"
            ],
            "text/html": [
              "\n",
              "  <div id=\"df-1a27513a-e33d-4980-a243-098da0cbd6b4\" class=\"colab-df-container\">\n",
              "    <div>\n",
              "<style scoped>\n",
              "    .dataframe tbody tr th:only-of-type {\n",
              "        vertical-align: middle;\n",
              "    }\n",
              "\n",
              "    .dataframe tbody tr th {\n",
              "        vertical-align: top;\n",
              "    }\n",
              "\n",
              "    .dataframe thead th {\n",
              "        text-align: right;\n",
              "    }\n",
              "</style>\n",
              "<table border=\"1\" class=\"dataframe\">\n",
              "  <thead>\n",
              "    <tr style=\"text-align: right;\">\n",
              "      <th></th>\n",
              "      <th>Movie_Genre</th>\n",
              "      <th>Movie_Keywords</th>\n",
              "      <th>Movie_Tagline</th>\n",
              "      <th>Movie_Cast</th>\n",
              "      <th>Movie_Director</th>\n",
              "    </tr>\n",
              "  </thead>\n",
              "  <tbody>\n",
              "    <tr>\n",
              "      <th>0</th>\n",
              "      <td>Crime Comedy</td>\n",
              "      <td>hotel new year's eve witch bet hotel room</td>\n",
              "      <td>Twelve outrageous guests. Four scandalous requ...</td>\n",
              "      <td>Tim Roth Antonio Banderas Jennifer Beals Madon...</td>\n",
              "      <td>Allison Anders</td>\n",
              "    </tr>\n",
              "    <tr>\n",
              "      <th>1</th>\n",
              "      <td>Adventure Action Science Fiction</td>\n",
              "      <td>android galaxy hermit death star lightsaber</td>\n",
              "      <td>A long time ago in a galaxy far, far away...</td>\n",
              "      <td>Mark Hamill Harrison Ford Carrie Fisher Peter ...</td>\n",
              "      <td>George Lucas</td>\n",
              "    </tr>\n",
              "    <tr>\n",
              "      <th>2</th>\n",
              "      <td>Animation Family</td>\n",
              "      <td>father son relationship harbor underwater fish...</td>\n",
              "      <td>There are 3.7 trillion fish in the ocean, they...</td>\n",
              "      <td>Albert Brooks Ellen DeGeneres Alexander Gould ...</td>\n",
              "      <td>Andrew Stanton</td>\n",
              "    </tr>\n",
              "    <tr>\n",
              "      <th>3</th>\n",
              "      <td>Comedy Drama Romance</td>\n",
              "      <td>vietnam veteran hippie mentally disabled runni...</td>\n",
              "      <td>The world will never be the same, once you've ...</td>\n",
              "      <td>Tom Hanks Robin Wright Gary Sinise Mykelti Wil...</td>\n",
              "      <td>Robert Zemeckis</td>\n",
              "    </tr>\n",
              "    <tr>\n",
              "      <th>4</th>\n",
              "      <td>Drama</td>\n",
              "      <td>male nudity female nudity adultery midlife cri...</td>\n",
              "      <td>Look closer.</td>\n",
              "      <td>Kevin Spacey Annette Bening Thora Birch Wes Be...</td>\n",
              "      <td>Sam Mendes</td>\n",
              "    </tr>\n",
              "    <tr>\n",
              "      <th>...</th>\n",
              "      <td>...</td>\n",
              "      <td>...</td>\n",
              "      <td>...</td>\n",
              "      <td>...</td>\n",
              "      <td>...</td>\n",
              "    </tr>\n",
              "    <tr>\n",
              "      <th>4755</th>\n",
              "      <td>Horror</td>\n",
              "      <td></td>\n",
              "      <td>The hot spot where Satan's waitin'.</td>\n",
              "      <td>Lisa Hart Carroll Michael Des Barres Paul Drak...</td>\n",
              "      <td>Pece Dingo</td>\n",
              "    </tr>\n",
              "    <tr>\n",
              "      <th>4756</th>\n",
              "      <td>Comedy Family Drama</td>\n",
              "      <td></td>\n",
              "      <td>It’s better to stand out than to fit in.</td>\n",
              "      <td>Roni Akurati Brighton Sharbino Jason Lee Anjul...</td>\n",
              "      <td>Frank Lotito</td>\n",
              "    </tr>\n",
              "    <tr>\n",
              "      <th>4757</th>\n",
              "      <td>Thriller Drama</td>\n",
              "      <td>christian film sex trafficking</td>\n",
              "      <td>She never knew it could happen to her...</td>\n",
              "      <td>Nicole Smolen Kim Baldwin Ariana Stephens Brys...</td>\n",
              "      <td>Jaco Booyens</td>\n",
              "    </tr>\n",
              "    <tr>\n",
              "      <th>4758</th>\n",
              "      <td>Family</td>\n",
              "      <td></td>\n",
              "      <td></td>\n",
              "      <td></td>\n",
              "      <td></td>\n",
              "    </tr>\n",
              "    <tr>\n",
              "      <th>4759</th>\n",
              "      <td>Documentary</td>\n",
              "      <td>music actors legendary perfomer classic hollyw...</td>\n",
              "      <td></td>\n",
              "      <td>Tony Oppedisano</td>\n",
              "      <td>Simon Napier-Bell</td>\n",
              "    </tr>\n",
              "  </tbody>\n",
              "</table>\n",
              "<p>4760 rows × 5 columns</p>\n",
              "</div>\n",
              "    <div class=\"colab-df-buttons\">\n",
              "\n",
              "  <div class=\"colab-df-container\">\n",
              "    <button class=\"colab-df-convert\" onclick=\"convertToInteractive('df-1a27513a-e33d-4980-a243-098da0cbd6b4')\"\n",
              "            title=\"Convert this dataframe to an interactive table.\"\n",
              "            style=\"display:none;\">\n",
              "\n",
              "  <svg xmlns=\"http://www.w3.org/2000/svg\" height=\"24px\" viewBox=\"0 -960 960 960\">\n",
              "    <path d=\"M120-120v-720h720v720H120Zm60-500h600v-160H180v160Zm220 220h160v-160H400v160Zm0 220h160v-160H400v160ZM180-400h160v-160H180v160Zm440 0h160v-160H620v160ZM180-180h160v-160H180v160Zm440 0h160v-160H620v160Z\"/>\n",
              "  </svg>\n",
              "    </button>\n",
              "\n",
              "  <style>\n",
              "    .colab-df-container {\n",
              "      display:flex;\n",
              "      gap: 12px;\n",
              "    }\n",
              "\n",
              "    .colab-df-convert {\n",
              "      background-color: #E8F0FE;\n",
              "      border: none;\n",
              "      border-radius: 50%;\n",
              "      cursor: pointer;\n",
              "      display: none;\n",
              "      fill: #1967D2;\n",
              "      height: 32px;\n",
              "      padding: 0 0 0 0;\n",
              "      width: 32px;\n",
              "    }\n",
              "\n",
              "    .colab-df-convert:hover {\n",
              "      background-color: #E2EBFA;\n",
              "      box-shadow: 0px 1px 2px rgba(60, 64, 67, 0.3), 0px 1px 3px 1px rgba(60, 64, 67, 0.15);\n",
              "      fill: #174EA6;\n",
              "    }\n",
              "\n",
              "    .colab-df-buttons div {\n",
              "      margin-bottom: 4px;\n",
              "    }\n",
              "\n",
              "    [theme=dark] .colab-df-convert {\n",
              "      background-color: #3B4455;\n",
              "      fill: #D2E3FC;\n",
              "    }\n",
              "\n",
              "    [theme=dark] .colab-df-convert:hover {\n",
              "      background-color: #434B5C;\n",
              "      box-shadow: 0px 1px 3px 1px rgba(0, 0, 0, 0.15);\n",
              "      filter: drop-shadow(0px 1px 2px rgba(0, 0, 0, 0.3));\n",
              "      fill: #FFFFFF;\n",
              "    }\n",
              "  </style>\n",
              "\n",
              "    <script>\n",
              "      const buttonEl =\n",
              "        document.querySelector('#df-1a27513a-e33d-4980-a243-098da0cbd6b4 button.colab-df-convert');\n",
              "      buttonEl.style.display =\n",
              "        google.colab.kernel.accessAllowed ? 'block' : 'none';\n",
              "\n",
              "      async function convertToInteractive(key) {\n",
              "        const element = document.querySelector('#df-1a27513a-e33d-4980-a243-098da0cbd6b4');\n",
              "        const dataTable =\n",
              "          await google.colab.kernel.invokeFunction('convertToInteractive',\n",
              "                                                    [key], {});\n",
              "        if (!dataTable) return;\n",
              "\n",
              "        const docLinkHtml = 'Like what you see? Visit the ' +\n",
              "          '<a target=\"_blank\" href=https://colab.research.google.com/notebooks/data_table.ipynb>data table notebook</a>'\n",
              "          + ' to learn more about interactive tables.';\n",
              "        element.innerHTML = '';\n",
              "        dataTable['output_type'] = 'display_data';\n",
              "        await google.colab.output.renderOutput(dataTable, element);\n",
              "        const docLink = document.createElement('div');\n",
              "        docLink.innerHTML = docLinkHtml;\n",
              "        element.appendChild(docLink);\n",
              "      }\n",
              "    </script>\n",
              "  </div>\n",
              "\n",
              "\n",
              "<div id=\"df-41594ab2-60de-4bbe-a4c1-34ea1bff5388\">\n",
              "  <button class=\"colab-df-quickchart\" onclick=\"quickchart('df-41594ab2-60de-4bbe-a4c1-34ea1bff5388')\"\n",
              "            title=\"Suggest charts\"\n",
              "            style=\"display:none;\">\n",
              "\n",
              "<svg xmlns=\"http://www.w3.org/2000/svg\" height=\"24px\"viewBox=\"0 0 24 24\"\n",
              "     width=\"24px\">\n",
              "    <g>\n",
              "        <path d=\"M19 3H5c-1.1 0-2 .9-2 2v14c0 1.1.9 2 2 2h14c1.1 0 2-.9 2-2V5c0-1.1-.9-2-2-2zM9 17H7v-7h2v7zm4 0h-2V7h2v10zm4 0h-2v-4h2v4z\"/>\n",
              "    </g>\n",
              "</svg>\n",
              "  </button>\n",
              "\n",
              "<style>\n",
              "  .colab-df-quickchart {\n",
              "      --bg-color: #E8F0FE;\n",
              "      --fill-color: #1967D2;\n",
              "      --hover-bg-color: #E2EBFA;\n",
              "      --hover-fill-color: #174EA6;\n",
              "      --disabled-fill-color: #AAA;\n",
              "      --disabled-bg-color: #DDD;\n",
              "  }\n",
              "\n",
              "  [theme=dark] .colab-df-quickchart {\n",
              "      --bg-color: #3B4455;\n",
              "      --fill-color: #D2E3FC;\n",
              "      --hover-bg-color: #434B5C;\n",
              "      --hover-fill-color: #FFFFFF;\n",
              "      --disabled-bg-color: #3B4455;\n",
              "      --disabled-fill-color: #666;\n",
              "  }\n",
              "\n",
              "  .colab-df-quickchart {\n",
              "    background-color: var(--bg-color);\n",
              "    border: none;\n",
              "    border-radius: 50%;\n",
              "    cursor: pointer;\n",
              "    display: none;\n",
              "    fill: var(--fill-color);\n",
              "    height: 32px;\n",
              "    padding: 0;\n",
              "    width: 32px;\n",
              "  }\n",
              "\n",
              "  .colab-df-quickchart:hover {\n",
              "    background-color: var(--hover-bg-color);\n",
              "    box-shadow: 0 1px 2px rgba(60, 64, 67, 0.3), 0 1px 3px 1px rgba(60, 64, 67, 0.15);\n",
              "    fill: var(--button-hover-fill-color);\n",
              "  }\n",
              "\n",
              "  .colab-df-quickchart-complete:disabled,\n",
              "  .colab-df-quickchart-complete:disabled:hover {\n",
              "    background-color: var(--disabled-bg-color);\n",
              "    fill: var(--disabled-fill-color);\n",
              "    box-shadow: none;\n",
              "  }\n",
              "\n",
              "  .colab-df-spinner {\n",
              "    border: 2px solid var(--fill-color);\n",
              "    border-color: transparent;\n",
              "    border-bottom-color: var(--fill-color);\n",
              "    animation:\n",
              "      spin 1s steps(1) infinite;\n",
              "  }\n",
              "\n",
              "  @keyframes spin {\n",
              "    0% {\n",
              "      border-color: transparent;\n",
              "      border-bottom-color: var(--fill-color);\n",
              "      border-left-color: var(--fill-color);\n",
              "    }\n",
              "    20% {\n",
              "      border-color: transparent;\n",
              "      border-left-color: var(--fill-color);\n",
              "      border-top-color: var(--fill-color);\n",
              "    }\n",
              "    30% {\n",
              "      border-color: transparent;\n",
              "      border-left-color: var(--fill-color);\n",
              "      border-top-color: var(--fill-color);\n",
              "      border-right-color: var(--fill-color);\n",
              "    }\n",
              "    40% {\n",
              "      border-color: transparent;\n",
              "      border-right-color: var(--fill-color);\n",
              "      border-top-color: var(--fill-color);\n",
              "    }\n",
              "    60% {\n",
              "      border-color: transparent;\n",
              "      border-right-color: var(--fill-color);\n",
              "    }\n",
              "    80% {\n",
              "      border-color: transparent;\n",
              "      border-right-color: var(--fill-color);\n",
              "      border-bottom-color: var(--fill-color);\n",
              "    }\n",
              "    90% {\n",
              "      border-color: transparent;\n",
              "      border-bottom-color: var(--fill-color);\n",
              "    }\n",
              "  }\n",
              "</style>\n",
              "\n",
              "  <script>\n",
              "    async function quickchart(key) {\n",
              "      const quickchartButtonEl =\n",
              "        document.querySelector('#' + key + ' button');\n",
              "      quickchartButtonEl.disabled = true;  // To prevent multiple clicks.\n",
              "      quickchartButtonEl.classList.add('colab-df-spinner');\n",
              "      try {\n",
              "        const charts = await google.colab.kernel.invokeFunction(\n",
              "            'suggestCharts', [key], {});\n",
              "      } catch (error) {\n",
              "        console.error('Error during call to suggestCharts:', error);\n",
              "      }\n",
              "      quickchartButtonEl.classList.remove('colab-df-spinner');\n",
              "      quickchartButtonEl.classList.add('colab-df-quickchart-complete');\n",
              "    }\n",
              "    (() => {\n",
              "      let quickchartButtonEl =\n",
              "        document.querySelector('#df-41594ab2-60de-4bbe-a4c1-34ea1bff5388 button');\n",
              "      quickchartButtonEl.style.display =\n",
              "        google.colab.kernel.accessAllowed ? 'block' : 'none';\n",
              "    })();\n",
              "  </script>\n",
              "</div>\n",
              "\n",
              "  <div id=\"id_2e2d9850-7f56-4f7c-bbdb-8e722bb28007\">\n",
              "    <style>\n",
              "      .colab-df-generate {\n",
              "        background-color: #E8F0FE;\n",
              "        border: none;\n",
              "        border-radius: 50%;\n",
              "        cursor: pointer;\n",
              "        display: none;\n",
              "        fill: #1967D2;\n",
              "        height: 32px;\n",
              "        padding: 0 0 0 0;\n",
              "        width: 32px;\n",
              "      }\n",
              "\n",
              "      .colab-df-generate:hover {\n",
              "        background-color: #E2EBFA;\n",
              "        box-shadow: 0px 1px 2px rgba(60, 64, 67, 0.3), 0px 1px 3px 1px rgba(60, 64, 67, 0.15);\n",
              "        fill: #174EA6;\n",
              "      }\n",
              "\n",
              "      [theme=dark] .colab-df-generate {\n",
              "        background-color: #3B4455;\n",
              "        fill: #D2E3FC;\n",
              "      }\n",
              "\n",
              "      [theme=dark] .colab-df-generate:hover {\n",
              "        background-color: #434B5C;\n",
              "        box-shadow: 0px 1px 3px 1px rgba(0, 0, 0, 0.15);\n",
              "        filter: drop-shadow(0px 1px 2px rgba(0, 0, 0, 0.3));\n",
              "        fill: #FFFFFF;\n",
              "      }\n",
              "    </style>\n",
              "    <button class=\"colab-df-generate\" onclick=\"generateWithVariable('df_features')\"\n",
              "            title=\"Generate code using this dataframe.\"\n",
              "            style=\"display:none;\">\n",
              "\n",
              "  <svg xmlns=\"http://www.w3.org/2000/svg\" height=\"24px\"viewBox=\"0 0 24 24\"\n",
              "       width=\"24px\">\n",
              "    <path d=\"M7,19H8.4L18.45,9,17,7.55,7,17.6ZM5,21V16.75L18.45,3.32a2,2,0,0,1,2.83,0l1.4,1.43a1.91,1.91,0,0,1,.58,1.4,1.91,1.91,0,0,1-.58,1.4L9.25,21ZM18.45,9,17,7.55Zm-12,3A5.31,5.31,0,0,0,4.9,8.1,5.31,5.31,0,0,0,1,6.5,5.31,5.31,0,0,0,4.9,4.9,5.31,5.31,0,0,0,6.5,1,5.31,5.31,0,0,0,8.1,4.9,5.31,5.31,0,0,0,12,6.5,5.46,5.46,0,0,0,6.5,12Z\"/>\n",
              "  </svg>\n",
              "    </button>\n",
              "    <script>\n",
              "      (() => {\n",
              "      const buttonEl =\n",
              "        document.querySelector('#id_2e2d9850-7f56-4f7c-bbdb-8e722bb28007 button.colab-df-generate');\n",
              "      buttonEl.style.display =\n",
              "        google.colab.kernel.accessAllowed ? 'block' : 'none';\n",
              "\n",
              "      buttonEl.onclick = () => {\n",
              "        google.colab.notebook.generateWithVariable('df_features');\n",
              "      }\n",
              "      })();\n",
              "    </script>\n",
              "  </div>\n",
              "\n",
              "    </div>\n",
              "  </div>\n"
            ],
            "application/vnd.google.colaboratory.intrinsic+json": {
              "type": "dataframe",
              "variable_name": "df_features",
              "summary": "{\n  \"name\": \"df_features\",\n  \"rows\": 4760,\n  \"fields\": [\n    {\n      \"column\": \"Movie_Genre\",\n      \"properties\": {\n        \"dtype\": \"category\",\n        \"num_unique_values\": 1164,\n        \"samples\": [\n          \"Family Animation Adventure\",\n          \"Adventure Science Fiction Action\",\n          \"Action Crime Drama Romance Thriller\"\n        ],\n        \"semantic_type\": \"\",\n        \"description\": \"\"\n      }\n    },\n    {\n      \"column\": \"Movie_Keywords\",\n      \"properties\": {\n        \"dtype\": \"string\",\n        \"num_unique_values\": 4203,\n        \"samples\": [\n          \"canada nazis sequel spin off ancient evil\",\n          \"sex professor wedding woman director columbia university\",\n          \"prophecy sea beach gold small town\"\n        ],\n        \"semantic_type\": \"\",\n        \"description\": \"\"\n      }\n    },\n    {\n      \"column\": \"Movie_Tagline\",\n      \"properties\": {\n        \"dtype\": \"string\",\n        \"num_unique_values\": 3928,\n        \"samples\": [\n          \"The messenger must be silenced.\",\n          \"It's not the house that's haunted.\",\n          \"The final hunt begins.\"\n        ],\n        \"semantic_type\": \"\",\n        \"description\": \"\"\n      }\n    },\n    {\n      \"column\": \"Movie_Cast\",\n      \"properties\": {\n        \"dtype\": \"string\",\n        \"num_unique_values\": 4715,\n        \"samples\": [\n          \"Robin Tunney Fairuza Balk Neve Campbell Rachel True Skeet Ulrich\",\n          \"Peter Sellers Christopher Plummer Herbert Lom Catherine Schell Peter Arne\",\n          \"John Wayne Laraine Day Cedric Hardwicke Judith Anderson Anthony Quinn\"\n        ],\n        \"semantic_type\": \"\",\n        \"description\": \"\"\n      }\n    },\n    {\n      \"column\": \"Movie_Director\",\n      \"properties\": {\n        \"dtype\": \"category\",\n        \"num_unique_values\": 2332,\n        \"samples\": [\n          \"Rob McKittrick\",\n          \"Terron R. Parsons\",\n          \"Cyrus Nowrasteh\"\n        ],\n        \"semantic_type\": \"\",\n        \"description\": \"\"\n      }\n    }\n  ]\n}"
            }
          },
          "metadata": {},
          "execution_count": 8
        }
      ]
    },
    {
      "cell_type": "code",
      "source": [
        "x=df_features['Movie_Genre']+' '+['Movie_Keywords']+' '+['Movie_Tagline']+' '+['Movie_Cast']+' '+['Movie_Director']"
      ],
      "metadata": {
        "id": "BeNyNd5d8utx"
      },
      "execution_count": 9,
      "outputs": []
    },
    {
      "cell_type": "code",
      "source": [
        "x"
      ],
      "metadata": {
        "colab": {
          "base_uri": "https://localhost:8080/"
        },
        "id": "xj9aHRKt9udK",
        "outputId": "0be7911e-e255-479d-87b7-8c6d630d3e93"
      },
      "execution_count": 10,
      "outputs": [
        {
          "output_type": "execute_result",
          "data": {
            "text/plain": [
              "0       Crime Comedy Movie_Keywords Movie_Tagline Movi...\n",
              "1       Adventure Action Science Fiction Movie_Keyword...\n",
              "2       Animation Family Movie_Keywords Movie_Tagline ...\n",
              "3       Comedy Drama Romance Movie_Keywords Movie_Tagl...\n",
              "4       Drama Movie_Keywords Movie_Tagline Movie_Cast ...\n",
              "                              ...                        \n",
              "4755    Horror Movie_Keywords Movie_Tagline Movie_Cast...\n",
              "4756    Comedy Family Drama Movie_Keywords Movie_Tagli...\n",
              "4757    Thriller Drama Movie_Keywords Movie_Tagline Mo...\n",
              "4758    Family Movie_Keywords Movie_Tagline Movie_Cast...\n",
              "4759    Documentary Movie_Keywords Movie_Tagline Movie...\n",
              "Name: Movie_Genre, Length: 4760, dtype: object"
            ]
          },
          "metadata": {},
          "execution_count": 10
        }
      ]
    },
    {
      "cell_type": "code",
      "source": [
        "x.shape"
      ],
      "metadata": {
        "colab": {
          "base_uri": "https://localhost:8080/"
        },
        "id": "F0KAgskF9xU6",
        "outputId": "56d6b630-05fa-4582-c718-c1089fe5e439"
      },
      "execution_count": 11,
      "outputs": [
        {
          "output_type": "execute_result",
          "data": {
            "text/plain": [
              "(4760,)"
            ]
          },
          "metadata": {},
          "execution_count": 11
        }
      ]
    },
    {
      "cell_type": "markdown",
      "source": [
        "**Get Feature Text Conversion To Tokens**"
      ],
      "metadata": {
        "id": "7ZMmGJ1E99jo"
      }
    },
    {
      "cell_type": "code",
      "source": [
        "from sklearn.feature_extraction.text import TfidfVectorizer"
      ],
      "metadata": {
        "id": "Al7a7lyt-JfT"
      },
      "execution_count": 12,
      "outputs": []
    },
    {
      "cell_type": "code",
      "source": [
        "tfidf=TfidfVectorizer()"
      ],
      "metadata": {
        "id": "ZnoFOmwV-hBT"
      },
      "execution_count": 13,
      "outputs": []
    },
    {
      "cell_type": "code",
      "source": [
        "x=tfidf.fit_transform(x)"
      ],
      "metadata": {
        "id": "Uj8qs_BU-tcS"
      },
      "execution_count": 14,
      "outputs": []
    },
    {
      "cell_type": "code",
      "source": [
        "x.shape"
      ],
      "metadata": {
        "colab": {
          "base_uri": "https://localhost:8080/"
        },
        "id": "OX3M0bQj-6cJ",
        "outputId": "f3d21f51-11fe-44a5-cea6-798a497e3fdf"
      },
      "execution_count": 15,
      "outputs": [
        {
          "output_type": "execute_result",
          "data": {
            "text/plain": [
              "(4760, 26)"
            ]
          },
          "metadata": {},
          "execution_count": 15
        }
      ]
    },
    {
      "cell_type": "code",
      "source": [
        "print(x)"
      ],
      "metadata": {
        "colab": {
          "base_uri": "https://localhost:8080/"
        },
        "id": "D5D-y88p_Ake",
        "outputId": "a4527905-8640-4737-9ec0-24148bfbe65b"
      },
      "execution_count": 16,
      "outputs": [
        {
          "output_type": "stream",
          "name": "stdout",
          "text": [
            "  (0, 15)\t0.24526016250489494\n",
            "  (0, 14)\t0.24526016250489494\n",
            "  (0, 17)\t0.24526016250489494\n",
            "  (0, 16)\t0.24526016250489494\n",
            "  (0, 3)\t0.49496773530062305\n",
            "  (0, 4)\t0.7172145786050801\n",
            "  (1, 9)\t0.5177907257262411\n",
            "  (1, 21)\t0.5177907257262411\n",
            "  (1, 0)\t0.39194077147527345\n",
            "  (1, 1)\t0.4531895100151198\n",
            "  (1, 15)\t0.16185427733875965\n",
            "  (1, 14)\t0.16185427733875965\n",
            "  (1, 17)\t0.16185427733875965\n",
            "  (1, 16)\t0.16185427733875965\n",
            "  (2, 7)\t0.5847336880297695\n",
            "  (2, 2)\t0.7260478843002506\n",
            "  (2, 15)\t0.18092884221858754\n",
            "  (2, 14)\t0.18092884221858754\n",
            "  (2, 17)\t0.18092884221858754\n",
            "  (2, 16)\t0.18092884221858754\n",
            "  (3, 20)\t0.6269911394318903\n",
            "  (3, 6)\t0.4054677815763429\n",
            "  (3, 15)\t0.23411651788682672\n",
            "  (3, 14)\t0.23411651788682672\n",
            "  (3, 17)\t0.23411651788682672\n",
            "  :\t:\n",
            "  (4755, 17)\t0.26391697709738293\n",
            "  (4755, 16)\t0.26391697709738293\n",
            "  (4756, 6)\t0.37336335770237256\n",
            "  (4756, 7)\t0.6967190894562192\n",
            "  (4756, 15)\t0.21557946940194858\n",
            "  (4756, 14)\t0.21557946940194858\n",
            "  (4756, 17)\t0.21557946940194858\n",
            "  (4756, 16)\t0.21557946940194858\n",
            "  (4756, 3)\t0.4350681360453833\n",
            "  (4757, 22)\t0.6613223527130238\n",
            "  (4757, 6)\t0.49103343701909863\n",
            "  (4757, 15)\t0.2835220051121791\n",
            "  (4757, 14)\t0.2835220051121791\n",
            "  (4757, 17)\t0.2835220051121791\n",
            "  (4757, 16)\t0.2835220051121791\n",
            "  (4758, 7)\t0.8503434408036582\n",
            "  (4758, 15)\t0.26311405924151765\n",
            "  (4758, 14)\t0.26311405924151765\n",
            "  (4758, 17)\t0.26311405924151765\n",
            "  (4758, 16)\t0.26311405924151765\n",
            "  (4759, 5)\t0.9218884832693588\n",
            "  (4759, 15)\t0.19372765962513022\n",
            "  (4759, 14)\t0.19372765962513022\n",
            "  (4759, 17)\t0.19372765962513022\n",
            "  (4759, 16)\t0.19372765962513022\n"
          ]
        }
      ]
    },
    {
      "cell_type": "markdown",
      "source": [
        "**Get Similarity Score using Cosine Similarity**"
      ],
      "metadata": {
        "id": "f3S6uRoz_fnV"
      }
    },
    {
      "cell_type": "code",
      "source": [
        "from sklearn.metrics.pairwise import cosine_similarity"
      ],
      "metadata": {
        "id": "L1AltZMT_pGN"
      },
      "execution_count": 17,
      "outputs": []
    },
    {
      "cell_type": "code",
      "source": [
        "Similarity_Score=cosine_similarity(x)"
      ],
      "metadata": {
        "id": "VAU_MIByBr1F"
      },
      "execution_count": 18,
      "outputs": []
    },
    {
      "cell_type": "code",
      "source": [
        "Similarity_Score"
      ],
      "metadata": {
        "colab": {
          "base_uri": "https://localhost:8080/"
        },
        "id": "od0AFLl5CBHp",
        "outputId": "4d7bbbd1-2a85-40fe-efda-8e86d8390aca"
      },
      "execution_count": 19,
      "outputs": [
        {
          "output_type": "execute_result",
          "data": {
            "text/plain": [
              "array([[1.        , 0.15878563, 0.17749855, ..., 0.27814661, 0.25812559,\n",
              "        0.19005471],\n",
              "       [0.15878563, 1.        , 0.11713643, ..., 0.183557  , 0.17034454,\n",
              "        0.1254226 ],\n",
              "       [0.17749855, 0.11713643, 1.        , ..., 0.20518923, 0.68764414,\n",
              "        0.14020368],\n",
              "       ...,\n",
              "       [0.27814661, 0.183557  , 0.20518923, ..., 1.        , 0.2983945 ,\n",
              "        0.21970422],\n",
              "       [0.25812559, 0.17034454, 0.68764414, ..., 0.2983945 , 1.        ,\n",
              "        0.20388988],\n",
              "       [0.19005471, 0.1254226 , 0.14020368, ..., 0.21970422, 0.20388988,\n",
              "        1.        ]])"
            ]
          },
          "metadata": {},
          "execution_count": 19
        }
      ]
    },
    {
      "cell_type": "code",
      "source": [
        "Similarity_Score.shape"
      ],
      "metadata": {
        "colab": {
          "base_uri": "https://localhost:8080/"
        },
        "id": "Fie9umltCGBI",
        "outputId": "3ae83896-803d-41c5-aba7-0f5dbe947c5e"
      },
      "execution_count": 20,
      "outputs": [
        {
          "output_type": "execute_result",
          "data": {
            "text/plain": [
              "(4760, 4760)"
            ]
          },
          "metadata": {},
          "execution_count": 20
        }
      ]
    },
    {
      "cell_type": "markdown",
      "source": [
        "**Get Movie Name as Input from User and Validate for Closest Spelling**"
      ],
      "metadata": {
        "id": "fJZIfMrgCrlq"
      }
    },
    {
      "cell_type": "code",
      "source": [
        "Favourite_Movie_Name = input('Enter your favourite movie name:')"
      ],
      "metadata": {
        "colab": {
          "base_uri": "https://localhost:8080/"
        },
        "id": "X29HGo5DCtGv",
        "outputId": "112a2761-4528-4d3d-cf80-323966e97bba"
      },
      "execution_count": 21,
      "outputs": [
        {
          "name": "stdout",
          "output_type": "stream",
          "text": [
            "Enter your favourite movie name:Harry Potter\n"
          ]
        }
      ]
    },
    {
      "cell_type": "code",
      "source": [
        "All_Movies_Title_List=df['Movie_Title'].tolist()"
      ],
      "metadata": {
        "id": "MOli3ElADP2L"
      },
      "execution_count": 22,
      "outputs": []
    },
    {
      "cell_type": "code",
      "source": [
        "import difflib"
      ],
      "metadata": {
        "id": "mw2NQC1XDml_"
      },
      "execution_count": 23,
      "outputs": []
    },
    {
      "cell_type": "code",
      "source": [
        "Movie_Recommendation = difflib.get_close_matches(Favourite_Movie_Name, All_Movies_Title_List)\n",
        "print(Movie_Recommendation)"
      ],
      "metadata": {
        "colab": {
          "base_uri": "https://localhost:8080/"
        },
        "id": "hJDsMAnMDu9N",
        "outputId": "56eef02e-ebf3-4b51-ff50-ef67ca9b3fa1"
      },
      "execution_count": 24,
      "outputs": [
        {
          "output_type": "stream",
          "name": "stdout",
          "text": [
            "['Party Monster', 'Miss Potter', 'Harry Brown']\n"
          ]
        }
      ]
    },
    {
      "cell_type": "code",
      "source": [
        "Close_Match = Movie_Recommendation[0]\n",
        "print(Close_Match)"
      ],
      "metadata": {
        "colab": {
          "base_uri": "https://localhost:8080/"
        },
        "id": "tgOTozpkEZEU",
        "outputId": "9df4f37e-6c4b-41b8-97ce-fb05067fc298"
      },
      "execution_count": 25,
      "outputs": [
        {
          "output_type": "stream",
          "name": "stdout",
          "text": [
            "Party Monster\n"
          ]
        }
      ]
    },
    {
      "cell_type": "code",
      "source": [
        "Index_of_Close_Match_Movie=df[df.Movie_Title==Close_Match]['Movie_ID'].values[0]\n",
        "print(Index_of_Close_Match_Movie)"
      ],
      "metadata": {
        "colab": {
          "base_uri": "https://localhost:8080/"
        },
        "id": "KC4bg9fNEyY7",
        "outputId": "977caf53-a7af-4fd0-b076-309a6f37116e"
      },
      "execution_count": 26,
      "outputs": [
        {
          "output_type": "stream",
          "name": "stdout",
          "text": [
            "480\n"
          ]
        }
      ]
    },
    {
      "cell_type": "code",
      "source": [
        "Recommendation_Score=list(enumerate(Similarity_Score[Index_of_Close_Match_Movie]))\n",
        "print(Recommendation_Score)"
      ],
      "metadata": {
        "colab": {
          "base_uri": "https://localhost:8080/"
        },
        "id": "mhxCWfdeFh4P",
        "outputId": "cfe8ae37-533d-464c-8be3-c8fada03d739"
      },
      "execution_count": 27,
      "outputs": [
        {
          "output_type": "stream",
          "name": "stdout",
          "text": [
            "[(0, 0.15667378361952497), (1, 0.10339356284639707), (2, 0.1155785186912302), (3, 0.26170274864909593), (4, 0.42251562901133605), (5, 0.19245940884522444), (6, 0.33866777982788865), (7, 0.21328542420875962), (8, 0.2969365696941186), (9, 0.46419171127758824), (10, 0.14885977272043888), (11, 0.8363388804806571), (12, 0.8363388804806571), (13, 0.1171322141598015), (14, 0.10856745756725035), (15, 0.18992588797564408), (16, 0.31692974383049843), (17, 0.46419171127758824), (18, 0.24397892028690443), (19, 0.0948020350457674), (20, 0.42251562901133605), (21, 0.24397892028690443), (22, 0.11957227164098491), (23, 0.19651866087474365), (24, 0.42251562901133605), (25, 0.206666516087713), (26, 0.42251562901133605), (27, 0.10397165272381316), (28, 0.39694320726421517), (29, 0.2969365696941186), (30, 0.1345615552426614), (31, 0.19485867491583542), (32, 0.18071822112619843), (33, 0.2969365696941186), (34, 0.31692974383049843), (35, 0.15182206853043462), (36, 0.15182206853043462), (37, 0.15182206853043462), (38, 0.1347070203388727), (39, 0.09672973779191392), (40, 0.1347070203388727), (41, 0.24567188681418672), (42, 0.15667378361952497), (43, 0.28346312666872564), (44, 0.26127712573150397), (45, 0.0933521810179795), (46, 0.09672973779191392), (47, 0.15060071192396793), (48, 0.21570392848760075), (49, 0.16360750867246077), (50, 0.15667378361952497), (51, 0.21063422593948203), (52, 0.1800411269917304), (53, 0.40814951601157223), (54, 0.46419171127758824), (55, 0.46419171127758824), (56, 0.46419171127758824), (57, 0.39992129609951965), (58, 0.35586671294924443), (59, 0.13689031068162444), (60, 0.5474092970153459), (61, 0.5312780777160403), (62, 0.2969365696941186), (63, 0.21172071742647136), (64, 0.10028965275304373), (65, 0.0948020350457674), (66, 0.42251562901133605), (67, 0.09672973779191392), (68, 0.21570392848760075), (69, 0.09672973779191392), (70, 0.15060071192396793), (71, 0.5887939699781928), (72, 0.15060071192396793), (73, 0.0933521810179795), (74, 0.21328542420875962), (75, 0.112385473815189), (76, 0.10680448758745494), (77, 0.10066946911699012), (78, 0.09672973779191392), (79, 0.18812174665006395), (80, 0.09672973779191392), (81, 0.10646043888869822), (82, 0.3359356668000059), (83, 0.15060071192396793), (84, 0.09137964461215384), (85, 0.5839998206481204), (86, 0.13095163219943884), (87, 0.19145868148352155), (88, 0.13078825409370246), (89, 0.15060071192396793), (90, 0.09672973779191392), (91, 0.0933521810179795), (92, 0.6142249444779615), (93, 0.09672973779191392), (94, 0.09672973779191392), (95, 0.09672973779191392), (96, 0.28346312666872564), (97, 0.6530349879446009), (98, 0.42251562901133605), (99, 0.11997711051565467), (100, 0.16859187786948177), (101, 0.15182206853043462), (102, 0.10680448758745494), (103, 0.26170274864909593), (104, 0.24935784535483707), (105, 0.28346312666872564), (106, 0.28346312666872564), (107, 0.31692974383049843), (108, 0.28346312666872564), (109, 0.28346312666872564), (110, 0.16360750867246077), (111, 0.28346312666872564), (112, 0.24397892028690443), (113, 0.18520719178990977), (114, 0.26170274864909593), (115, 0.3359356668000059), (116, 0.4497118504259401), (117, 0.492187164290595), (118, 0.13278369518155517), (119, 0.24567188681418672), (120, 0.21924224454021796), (121, 0.2969365696941186), (122, 0.5417657151068687), (123, 0.24155555349963556), (124, 0.24397892028690443), (125, 0.484312598125562), (126, 0.28346312666872564), (127, 0.1709856209028452), (128, 0.10680448758745494), (129, 0.26170274864909593), (130, 0.46419171127758824), (131, 0.1171322141598015), (132, 0.2969365696941186), (133, 0.12375448631866116), (134, 0.09135004412762696), (135, 0.10680448758745494), (136, 0.5312780777160403), (137, 0.15060071192396793), (138, 0.15060071192396793), (139, 0.1347070203388727), (140, 0.42251562901133605), (141, 0.5656726976330729), (142, 0.28346312666872564), (143, 0.14885977272043888), (144, 0.11468033257025095), (145, 0.1145694900204234), (146, 0.16360750867246077), (147, 0.19145868148352155), (148, 0.10921245407523593), (149, 0.24397892028690443), (150, 0.112385473815189), (151, 0.10339356284639707), (152, 0.09672973779191392), (153, 0.11253716569364308), (154, 0.42251562901133605), (155, 0.1171322141598015), (156, 0.26170274864909593), (157, 0.3359356668000059), (158, 0.24935784535483707), (159, 0.31167144351388154), (160, 0.09405365538047297), (161, 0.26170274864909593), (162, 0.5417657151068687), (163, 0.16859187786948177), (164, 0.42251562901133605), (165, 0.5717271642611946), (166, 0.24397892028690443), (167, 0.42251562901133605), (168, 0.1171322141598015), (169, 0.26170274864909593), (170, 0.13078825409370246), (171, 0.10339356284639707), (172, 0.28346312666872564), (173, 0.28346312666872564), (174, 0.26170274864909593), (175, 0.3359356668000059), (176, 0.42251562901133605), (177, 0.38742130842612077), (178, 0.7446194931247798), (179, 0.43185799912974876), (180, 0.4586899265814987), (181, 0.4586899265814987), (182, 0.2570421452120574), (183, 0.8363388804806571), (184, 0.6530349879446009), (185, 0.098033559344478), (186, 0.1171322141598015), (187, 0.09741059365981483), (188, 0.45791606998539897), (189, 0.09672973779191392), (190, 0.24397892028690443), (191, 0.3312262017597385), (192, 0.2969365696941186), (193, 0.2969365696941186), (194, 0.2969365696941186), (195, 0.26170274864909593), (196, 0.42251562901133605), (197, 0.18520719178990977), (198, 0.2969365696941186), (199, 0.24397892028690443), (200, 0.22120519376101744), (201, 0.11346615739081832), (202, 0.26170274864909593), (203, 0.42251562901133605), (204, 0.6274475714791884), (205, 0.224830662431076), (206, 0.5737472432345051), (207, 0.15060071192396793), (208, 0.21861987160865357), (209, 0.28346312666872564), (210, 0.21570392848760075), (211, 0.26170274864909593), (212, 0.26170274864909593), (213, 0.42251562901133605), (214, 0.13884074878836375), (215, 0.20891565177768012), (216, 0.28346312666872564), (217, 0.10016648430956641), (218, 0.515999241430717), (219, 0.098033559344478), (220, 0.10680448758745494), (221, 0.19651866087474365), (222, 0.23411821433756724), (223, 0.20339637823148113), (224, 0.2969365696941186), (225, 0.16360750867246077), (226, 0.42251562901133605), (227, 0.2969365696941186), (228, 0.22557641044757626), (229, 0.42251562901133605), (230, 0.5417657151068687), (231, 0.46419171127758824), (232, 0.46419171127758824), (233, 0.16328922425010584), (234, 0.09672973779191392), (235, 0.42251562901133605), (236, 0.19145868148352155), (237, 0.10420141843570474), (238, 0.5639100802433723), (239, 0.12151189764681765), (240, 0.14356931167742856), (241, 0.15367033179157952), (242, 0.17547161367973077), (243, 0.31692974383049843), (244, 0.13078825409370246), (245, 0.10856745756725035), (246, 0.3359356668000059), (247, 0.5813646817585733), (248, 0.12191894638299103), (249, 0.42251562901133605), (250, 0.1345615552426614), (251, 0.20884963347744223), (252, 0.16066953485458393), (253, 0.3359356668000059), (254, 0.28346312666872564), (255, 0.25241199627496314), (256, 0.28346312666872564), (257, 0.34132709821236984), (258, 0.10339356284639707), (259, 0.11598823909645205), (260, 0.09672973779191392), (261, 0.09672973779191392), (262, 0.42251562901133605), (263, 0.09828320985449998), (264, 0.09828320985449998), (265, 0.16859187786948177), (266, 0.18666571266281978), (267, 0.6530349879446009), (268, 0.42251562901133605), (269, 0.6142249444779615), (270, 0.20884963347744223), (271, 0.16917445596123143), (272, 0.19111639546519515), (273, 0.11138082555674446), (274, 0.28346312666872564), (275, 0.13767458497224), (276, 0.24397892028690443), (277, 0.43185799912974876), (278, 0.26170274864909593), (279, 0.26170274864909593), (280, 0.28346312666872564), (281, 0.28346312666872564), (282, 0.145713288596306), (283, 0.18812174665006395), (284, 0.13278369518155517), (285, 0.28346312666872564), (286, 0.7375374997357657), (287, 0.28346312666872564), (288, 0.13278369518155517), (289, 0.13278369518155517), (290, 0.13278369518155517), (291, 0.11997711051565467), (292, 0.24567188681418672), (293, 0.42251562901133605), (294, 0.13278369518155517), (295, 0.13278369518155517), (296, 0.19948392290596711), (297, 0.43185799912974876), (298, 0.43185799912974876), (299, 0.43185799912974876), (300, 0.43185799912974876), (301, 0.3670354487524628), (302, 0.5563775016775658), (303, 0.09405365538047297), (304, 0.15060071192396793), (305, 0.13278369518155517), (306, 0.13278369518155517), (307, 0.17551042564326555), (308, 0.42251562901133605), (309, 0.2969365696941186), (310, 0.13278369518155517), (311, 0.12298061018657402), (312, 0.16360750867246077), (313, 0.14356931167742856), (314, 0.09672973779191392), (315, 0.13278369518155517), (316, 0.13278369518155517), (317, 0.42251562901133605), (318, 0.26170274864909593), (319, 0.12466725786016215), (320, 0.13278369518155517), (321, 0.13278369518155517), (322, 0.13278369518155517), (323, 0.13278369518155517), (324, 0.42251562901133605), (325, 0.26170274864909593), (326, 0.2969365696941186), (327, 0.13278369518155517), (328, 0.6373207201183766), (329, 0.22120519376101744), (330, 0.22557641044757626), (331, 0.14880161040720175), (332, 0.484312598125562), (333, 0.09595011269269797), (334, 0.10921245407523593), (335, 0.09150906619405971), (336, 0.47896614649808894), (337, 0.16859187786948177), (338, 0.45858061357054397), (339, 0.45858061357054397), (340, 0.43185799912974876), (341, 0.11138082555674446), (342, 0.28346312666872564), (343, 0.7446194931247798), (344, 0.14844859700577456), (345, 0.10811845459818861), (346, 0.3359356668000059), (347, 0.09018047663531746), (348, 0.22557641044757626), (349, 0.2227526579826592), (350, 0.23630620732809635), (351, 0.24098145745562594), (352, 0.16859187786948177), (353, 0.7591110161787467), (354, 0.14356931167742856), (355, 0.5887939699781928), (356, 0.25241199627496314), (357, 0.7803959678317363), (358, 0.2969365696941186), (359, 0.20256381522188152), (360, 0.1145694900204234), (361, 0.3422462206950023), (362, 0.3422462206950023), (363, 0.3422462206950023), (364, 0.18812174665006395), (365, 0.3422462206950023), (366, 0.224830662431076), (367, 0.10488726980981274), (368, 0.09529860927580627), (369, 0.10488726980981274), (370, 0.24397892028690443), (371, 0.20409699256913869), (372, 0.22557641044757626), (373, 0.19651866087474365), (374, 0.6530349879446009), (375, 0.3655185693327051), (376, 0.09227868358446567), (377, 0.3359356668000059), (378, 0.21328542420875962), (379, 0.10339356284639707), (380, 0.09741059365981483), (381, 0.6344727811402835), (382, 0.46419171127758824), (383, 0.14844859700577456), (384, 0.7892792276858159), (385, 0.42258254505582027), (386, 0.5639330661623067), (387, 0.6530349879446009), (388, 0.2969365696941186), (389, 0.11680614086116985), (390, 0.10339356284639707), (391, 0.10856745756725035), (392, 0.10856745756725035), (393, 0.224830662431076), (394, 0.11598823909645205), (395, 0.42251562901133605), (396, 0.28346312666872564), (397, 0.09672973779191392), (398, 0.11048672006942493), (399, 0.42251562901133605), (400, 0.22557641044757626), (401, 0.40814951601157223), (402, 0.42251562901133605), (403, 0.19844945398312416), (404, 0.45791606998539897), (405, 0.0940248516298245), (406, 0.25241199627496314), (407, 0.7446194931247798), (408, 0.23449854348853955), (409, 0.098033559344478), (410, 0.19844945398312416), (411, 0.44556381238995424), (412, 0.42251562901133605), (413, 0.10230878315119958), (414, 0.45858061357054397), (415, 0.45858061357054397), (416, 0.7803959678317363), (417, 0.10681102828458613), (418, 0.10681102828458613), (419, 0.6026271229283753), (420, 0.14356931167742856), (421, 0.098033559344478), (422, 0.224830662431076), (423, 0.1155785186912302), (424, 0.13278369518155517), (425, 0.13278369518155517), (426, 0.13278369518155517), (427, 0.11957227164098491), (428, 0.1963940266019389), (429, 0.19145868148352155), (430, 0.4258903968013736), (431, 0.26170274864909593), (432, 0.42251562901133605), (433, 0.22120519376101744), (434, 0.692139244484234), (435, 0.13078825409370246), (436, 0.22120519376101744), (437, 0.26763895800256604), (438, 0.09741059365981483), (439, 0.09227868358446567), (440, 0.11598823909645205), (441, 0.6530349879446009), (442, 0.26127712573150397), (443, 0.22120519376101744), (444, 0.42251562901133605), (445, 0.42251562901133605), (446, 0.42251562901133605), (447, 0.24397892028690443), (448, 0.2969365696941186), (449, 0.42251562901133605), (450, 0.24397892028690443), (451, 0.41192454923502847), (452, 0.6829390770758129), (453, 0.18175456836106946), (454, 0.224830662431076), (455, 0.2969365696941186), (456, 0.5474092970153459), (457, 0.22230611442259507), (458, 0.21570392848760075), (459, 0.14844859700577456), (460, 0.11680614086116985), (461, 0.098033559344478), (462, 0.12375448631866116), (463, 0.24397892028690443), (464, 0.2969365696941186), (465, 0.2969365696941186), (466, 0.42251562901133605), (467, 0.5909600185419921), (468, 0.5909600185419921), (469, 0.5909600185419921), (470, 0.26127712573150397), (471, 0.26170274864909593), (472, 0.17150700595064522), (473, 0.3359356668000059), (474, 0.13095163219943884), (475, 0.2969365696941186), (476, 0.42251562901133605), (477, 0.15182206853043462), (478, 0.42251562901133605), (479, 0.2523385420293202), (480, 1.0), (481, 0.24397892028690443), (482, 0.22120519376101744), (483, 0.5737472432345051), (484, 0.20339637823148113), (485, 0.28346312666872564), (486, 0.12375448631866116), (487, 0.20530698367894185), (488, 0.19844945398312416), (489, 0.2969365696941186), (490, 0.2969365696941186), (491, 0.3566332276250594), (492, 0.38841092972707464), (493, 0.5353522115269894), (494, 0.1347070203388727), (495, 0.6042191544537332), (496, 0.5717271642611946), (497, 0.08800434745685856), (498, 0.37998336562301815), (499, 0.42251562901133605), (500, 0.13078825409370246), (501, 0.11346615739081832), (502, 0.24397892028690443), (503, 0.15667378361952497), (504, 0.26170274864909593), (505, 0.3359356668000059), (506, 0.14880161040720175), (507, 0.3359356668000059), (508, 0.3359356668000059), (509, 0.16994298268274644), (510, 0.26170274864909593), (511, 0.10066946911699012), (512, 0.16328922425010584), (513, 0.16328922425010584), (514, 0.16328922425010584), (515, 0.16915233542170294), (516, 0.10014445626805085), (517, 0.10014445626805085), (518, 0.42251562901133605), (519, 0.21861987160865357), (520, 0.16360750867246077), (521, 0.12466725786016215), (522, 0.5548535865843454), (523, 0.1345615552426614), (524, 0.2969365696941186), (525, 0.224830662431076), (526, 0.42251562901133605), (527, 0.42251562901133605), (528, 0.37998336562301815), (529, 0.16360750867246077), (530, 0.15060071192396793), (531, 0.16360750867246077), (532, 0.1208763084359316), (533, 0.21570392848760075), (534, 0.21570392848760075), (535, 0.224830662431076), (536, 0.224830662431076), (537, 0.09672973779191392), (538, 0.48484528637728397), (539, 0.1246693603405489), (540, 0.13278369518155517), (541, 0.42251562901133605), (542, 0.1768506769571036), (543, 0.24397892028690443), (544, 0.28346312666872564), (545, 0.10590810108889781), (546, 0.32925399875613875), (547, 0.23449854348853955), (548, 0.15182206853043462), (549, 0.10489182488587262), (550, 0.13278369518155517), (551, 0.2227526579826592), (552, 0.16859187786948177), (553, 0.0948020350457674), (554, 0.11598823909645205), (555, 0.11598823909645205), (556, 0.16859187786948177), (557, 0.16859187786948177), (558, 0.21961324640437818), (559, 0.14356931167742856), (560, 0.13078825409370246), (561, 0.11598823909645205), (562, 0.31692974383049843), (563, 0.31692974383049843), (564, 0.19844945398312416), (565, 0.10339356284639707), (566, 0.19245940884522444), (567, 0.10339356284639707), (568, 0.46419171127758824), (569, 0.46419171127758824), (570, 0.46419171127758824), (571, 0.31692974383049843), (572, 0.10339356284639707), (573, 0.12375448631866116), (574, 0.09608341433525026), (575, 0.12375448631866116), (576, 0.1708653459430432), (577, 0.224830662431076), (578, 0.2227526579826592), (579, 0.26170274864909593), (580, 0.1865811808041037), (581, 0.31692974383049843), (582, 0.16360750867246077), (583, 0.16360750867246077), (584, 0.24397892028690443), (585, 0.224830662431076), (586, 0.47896614649808894), (587, 0.2969365696941186), (588, 0.21406632696936276), (589, 0.26170274864909593), (590, 0.20409699256913869), (591, 0.10339356284639707), (592, 0.46419171127758824), (593, 0.22557641044757626), (594, 0.2570421452120574), (595, 0.16328922425010584), (596, 0.22557641044757626), (597, 0.42251562901133605), (598, 0.22557641044757626), (599, 0.10339356284639707), (600, 0.10339356284639707), (601, 0.10339356284639707), (602, 0.10339356284639707), (603, 0.10339356284639707), (604, 0.24397892028690443), (605, 0.26170274864909593), (606, 0.15328941416138944), (607, 0.19844945398312416), (608, 0.21334679630894132), (609, 0.26170274864909593), (610, 0.46419171127758824), (611, 0.42251562901133605), (612, 0.2969365696941186), (613, 0.3566332276250594), (614, 0.1936174097363334), (615, 0.46419171127758824), (616, 0.2227526579826592), (617, 0.1865811808041037), (618, 0.11918108637383942), (619, 0.09405365538047297), (620, 0.42251562901133605), (621, 0.13078825409370246), (622, 0.19145868148352155), (623, 0.2969365696941186), (624, 0.42251562901133605), (625, 0.11680614086116985), (626, 0.22557641044757626), (627, 0.21149297457830313), (628, 0.31692974383049843), (629, 0.08746271102998968), (630, 0.14880161040720175), (631, 0.5717271642611946), (632, 0.09198226829899368), (633, 0.11138082555674446), (634, 0.14356931167742856), (635, 0.42650924810754015), (636, 0.22120519376101744), (637, 0.31692974383049843), (638, 0.2969365696941186), (639, 0.42650924810754015), (640, 0.42650924810754015), (641, 0.22230611442259507), (642, 0.31692974383049843), (643, 0.24397892028690443), (644, 0.49142311937190575), (645, 0.42251562901133605), (646, 0.23256476871009651), (647, 0.42251562901133605), (648, 0.224830662431076), (649, 0.16360750867246077), (650, 0.10420141843570474), (651, 0.6142249444779615), (652, 0.19145868148352155), (653, 0.21570392848760075), (654, 0.10508655077950065), (655, 0.21406632696936276), (656, 0.11598823909645205), (657, 0.18727591826517132), (658, 0.1171322141598015), (659, 0.3359356668000059), (660, 0.19545362163993293), (661, 0.10611326891390957), (662, 0.3700292397593583), (663, 0.12914093023833523), (664, 0.15667378361952497), (665, 0.16360750867246077), (666, 0.09672973779191392), (667, 0.13599301668662364), (668, 0.13078825409370246), (669, 0.21570392848760075), (670, 0.26127712573150397), (671, 0.16360750867246077), (672, 0.27162293022630135), (673, 0.21570392848760075), (674, 0.31013365362307027), (675, 0.24397892028690443), (676, 0.19145868148352155), (677, 0.18565003433627728), (678, 0.13599301668662364), (679, 0.224830662431076), (680, 0.42251562901133605), (681, 0.10339356284639707), (682, 0.13078825409370246), (683, 0.24155555349963556), (684, 0.17477467394400606), (685, 0.20790635966579069), (686, 0.09769759618486827), (687, 0.14511764860071796), (688, 0.26127712573150397), (689, 0.31692974383049843), (690, 0.14511764860071796), (691, 0.3359356668000059), (692, 0.11346615739081832), (693, 0.19844945398312416), (694, 0.31692974383049843), (695, 0.1145694900204234), (696, 0.6167978094135766), (697, 0.26170274864909593), (698, 0.2969365696941186), (699, 0.5186136977629994), (700, 0.39251275234532274), (701, 0.19145868148352155), (702, 0.11957227164098491), (703, 0.4715136432056499), (704, 0.12375448631866116), (705, 0.2969365696941186), (706, 0.42251562901133605), (707, 0.20891565177768012), (708, 0.224830662431076), (709, 0.16360750867246077), (710, 0.224830662431076), (711, 0.224830662431076), (712, 0.4267721164131206), (713, 0.43185799912974876), (714, 0.10986636107501048), (715, 0.5262868913113005), (716, 0.21861987160865357), (717, 0.42251562901133605), (718, 0.12375448631866116), (719, 0.19948392290596711), (720, 0.40814951601157223), (721, 0.22557641044757626), (722, 0.22557641044757626), (723, 0.16328922425010584), (724, 0.43185799912974876), (725, 0.39889097522365097), (726, 0.37445761785431114), (727, 0.19948392290596711), (728, 0.26127712573150397), (729, 0.19948392290596711), (730, 0.224830662431076), (731, 0.42251562901133605), (732, 0.31692974383049843), (733, 0.1765655665093363), (734, 0.8363388804806571), (735, 0.26170274864909593), (736, 0.48484528637728397), (737, 0.26170274864909593), (738, 0.16328922425010584), (739, 0.20256381522188152), (740, 0.3359356668000059), (741, 0.16360750867246077), (742, 0.22120519376101744), (743, 0.31692974383049843), (744, 0.1865811808041037), (745, 0.0858423076812407), (746, 0.16859187786948177), (747, 0.10422630650539216), (748, 0.12191894638299103), (749, 0.20267199728327695), (750, 0.1648058653539824), (751, 0.39694320726421517), (752, 0.45791606998539897), (753, 0.13078825409370246), (754, 0.16360750867246077), (755, 0.3359356668000059), (756, 0.09672973779191392), (757, 0.2523385420293202), (758, 0.16360750867246077), (759, 0.3359356668000059), (760, 0.09818068145268384), (761, 0.31692974383049843), (762, 0.10680448758745494), (763, 0.11598823909645205), (764, 0.16360750867246077), (765, 0.1345615552426614), (766, 0.42251562901133605), (767, 0.42251562901133605), (768, 0.16360750867246077), (769, 0.19485867491583542), (770, 0.45858061357054397), (771, 0.224830662431076), (772, 0.224830662431076), (773, 0.09644251010941732), (774, 0.2969365696941186), (775, 0.15367033179157952), (776, 0.10242412545256913), (777, 0.42251562901133605), (778, 0.11957227164098491), (779, 0.484312598125562), (780, 0.13884074878836375), (781, 0.45791606998539897), (782, 0.42251562901133605), (783, 0.7446194931247798), (784, 0.11048672006942493), (785, 0.16360750867246077), (786, 0.11048672006942493), (787, 0.3359356668000059), (788, 0.3359356668000059), (789, 0.1171322141598015), (790, 0.1145694900204234), (791, 0.42251562901133605), (792, 0.19427191443239383), (793, 0.12244631857835774), (794, 0.19299471954651165), (795, 0.11729479344679129), (796, 0.7446194931247798), (797, 0.1299198839684924), (798, 0.22557641044757626), (799, 0.24397892028690443), (800, 0.703774743860973), (801, 0.1145694900204234), (802, 0.09417390700954753), (803, 0.16328922425010584), (804, 0.703774743860973), (805, 0.42251562901133605), (806, 0.20884963347744223), (807, 0.45791606998539897), (808, 0.22120519376101744), (809, 0.16328922425010584), (810, 0.11138082555674446), (811, 0.11138082555674446), (812, 0.12914093023833523), (813, 0.2969365696941186), (814, 0.224830662431076), (815, 0.6530349879446009), (816, 0.20884963347744223), (817, 0.42251562901133605), (818, 0.2227526579826592), (819, 0.33316285928278394), (820, 0.16360750867246077), (821, 0.08531573947460244), (822, 0.5656726976330729), (823, 0.42251562901133605), (824, 0.24098145745562594), (825, 0.13078825409370246), (826, 0.18071822112619843), (827, 0.13078825409370246), (828, 0.28346312666872564), (829, 0.24397892028690443), (830, 0.2969365696941186), (831, 0.31692974383049843), (832, 0.22120519376101744), (833, 0.10646043888869822), (834, 0.12191894638299103), (835, 0.12191894638299103), (836, 0.45791606998539897), (837, 0.224830662431076), (838, 0.2969365696941186), (839, 0.224830662431076), (840, 0.224830662431076), (841, 0.224830662431076), (842, 0.10681102828458613), (843, 0.2969365696941186), (844, 0.2969365696941186), (845, 0.26127712573150397), (846, 0.16360750867246077), (847, 0.26170274864909593), (848, 0.31167144351388154), (849, 0.40362526818162975), (850, 0.22557641044757626), (851, 0.4913478287840266), (852, 0.6723292739411906), (853, 0.24397892028690443), (854, 0.1799060152238968), (855, 0.14356931167742856), (856, 0.18071822112619843), (857, 0.19844945398312416), (858, 0.22557641044757626), (859, 0.41176915529412517), (860, 0.24397892028690443), (861, 0.31692974383049843), (862, 0.15667378361952497), (863, 0.31692974383049843), (864, 0.20884963347744223), (865, 0.2969365696941186), (866, 0.21570392848760075), (867, 0.26170274864909593), (868, 0.26127712573150397), (869, 0.1347070203388727), (870, 0.19145868148352155), (871, 0.17631500755870666), (872, 0.16618474849273826), (873, 0.16360750867246077), (874, 0.28346312666872564), (875, 0.11346615739081832), (876, 0.24397892028690443), (877, 0.11680614086116985), (878, 0.21570392848760075), (879, 0.19687915647755108), (880, 0.4497118504259401), (881, 0.1171322141598015), (882, 0.39992129609951965), (883, 0.26170274864909593), (884, 0.3359356668000059), (885, 0.26170274864909593), (886, 0.3359356668000059), (887, 0.692139244484234), (888, 0.24397892028690443), (889, 0.42251562901133605), (890, 0.26170274864909593), (891, 0.10680448758745494), (892, 0.224830662431076), (893, 0.14356931167742856), (894, 0.28346312666872564), (895, 0.42251562901133605), (896, 0.19145868148352155), (897, 0.2969365696941186), (898, 0.13074880165178304), (899, 0.42251562901133605), (900, 0.31692974383049843), (901, 0.42251562901133605), (902, 0.08482833750708024), (903, 0.178128338918463), (904, 0.1208763084359316), (905, 0.1208763084359316), (906, 0.1171322141598015), (907, 0.26170274864909593), (908, 0.10708717634346245), (909, 0.35586671294924443), (910, 0.22120519376101744), (911, 0.21861987160865357), (912, 0.30824087456615096), (913, 0.5475190056920979), (914, 0.18565003433627728), (915, 0.0954480060247614), (916, 0.13599301668662364), (917, 0.42251562901133605), (918, 0.0884464750724163), (919, 0.13278369518155517), (920, 0.098033559344478), (921, 0.23825897506402494), (922, 0.42251562901133605), (923, 0.275082368988544), (924, 0.19651866087474365), (925, 0.24147438593266327), (926, 0.10020323776955511), (927, 0.1345615552426614), (928, 0.13078825409370246), (929, 0.2497313533446277), (930, 0.25241199627496314), (931, 0.13599301668662364), (932, 0.10066946911699012), (933, 0.3359356668000059), (934, 0.6530349879446009), (935, 0.2901802634428017), (936, 0.5738003406801729), (937, 0.19145868148352155), (938, 0.16360750867246077), (939, 0.2523385420293202), (940, 0.5474092970153459), (941, 0.3359356668000059), (942, 0.24397892028690443), (943, 0.224830662431076), (944, 0.2969365696941186), (945, 0.09266843882923091), (946, 0.11872770480383187), (947, 0.21570392848760075), (948, 0.11729479344679129), (949, 0.42251562901133605), (950, 0.13767458497224), (951, 0.4290568003292382), (952, 0.16994298268274644), (953, 0.51010506393159), (954, 0.46419171127758824), (955, 0.224830662431076), (956, 0.13689031068162444), (957, 0.6274475714791884), (958, 0.224830662431076), (959, 0.2969365696941186), (960, 0.16859187786948177), (961, 0.3136465276891126), (962, 0.2227526579826592), (963, 0.15947891323005448), (964, 0.14880161040720175), (965, 0.13689031068162444), (966, 0.21172071742647136), (967, 0.31692974383049843), (968, 0.23411821433756724), (969, 0.20891565177768012), (970, 0.13074880165178304), (971, 0.16360750867246077), (972, 0.12466725786016215), (973, 0.26170274864909593), (974, 0.16328922425010584), (975, 0.2969365696941186), (976, 0.1145694900204234), (977, 0.34132709821236984), (978, 0.224830662431076), (979, 0.11138082555674446), (980, 0.22120519376101744), (981, 0.1795198033501711), (982, 0.16360750867246077), (983, 0.16360750867246077), (984, 0.3359356668000059), (985, 0.26170274864909593), (986, 0.16773475163810278), (987, 0.42251562901133605), (988, 0.1555471791071311), (989, 0.24397892028690443), (990, 0.4351140159779841), (991, 0.51010506393159), (992, 0.10680448758745494), (993, 0.42251562901133605), (994, 0.24155555349963556), (995, 0.224830662431076), (996, 0.14511764860071796), (997, 0.10680448758745494), (998, 0.26170274864909593), (999, 0.26170274864909593), (1000, 0.21570392848760075), (1001, 0.21861987160865357), (1002, 0.26170274864909593), (1003, 0.10066946911699012), (1004, 0.42251562901133605), (1005, 0.24155555349963556), (1006, 0.3359356668000059), (1007, 0.18164089033682534), (1008, 0.10856745756725035), (1009, 0.7639839962821692), (1010, 0.17111461853069052), (1011, 0.079404973134554), (1012, 0.13278369518155517), (1013, 0.0933521810179795), (1014, 0.10003663738220822), (1015, 0.21570392848760075), (1016, 0.1031030277483371), (1017, 0.1768506769571036), (1018, 0.15060071192396793), (1019, 0.42251562901133605), (1020, 0.15947263333968992), (1021, 0.3359356668000059), (1022, 0.10590810108889781), (1023, 0.2497313533446277), (1024, 0.1208763084359316), (1025, 0.10856745756725035), (1026, 0.2969365696941186), (1027, 0.2969365696941186), (1028, 0.224830662431076), (1029, 0.224830662431076), (1030, 0.31692974383049843), (1031, 0.10014445626805085), (1032, 0.42251562901133605), (1033, 0.42251562901133605), (1034, 0.2969365696941186), (1035, 0.21570392848760075), (1036, 0.42251562901133605), (1037, 0.42251562901133605), (1038, 0.16360750867246077), (1039, 0.09540961227009447), (1040, 0.26170274864909593), (1041, 0.23411821433756724), (1042, 0.42251562901133605), (1043, 0.692139244484234), (1044, 0.703774743860973), (1045, 0.46419171127758824), (1046, 0.38841092972707464), (1047, 0.13599301668662364), (1048, 0.42251562901133605), (1049, 0.26170274864909593), (1050, 0.14170167879585002), (1051, 0.41597367043256767), (1052, 0.2969365696941186), (1053, 0.23449854348853955), (1054, 0.13078825409370246), (1055, 0.12914093023833523), (1056, 0.10014445626805085), (1057, 0.10014445626805085), (1058, 0.15060071192396793), (1059, 0.42251562901133605), (1060, 0.19844945398312416), (1061, 0.11814085082857032), (1062, 0.224830662431076), (1063, 0.11346615739081832), (1064, 0.19145868148352155), (1065, 0.221465814401595), (1066, 0.11598823909645205), (1067, 0.43185799912974876), (1068, 0.1145694900204234), (1069, 0.3796081260894502), (1070, 0.224830662431076), (1071, 0.22120519376101744), (1072, 0.42251562901133605), (1073, 0.16360750867246077), (1074, 0.0918241093701141), (1075, 0.2969365696941186), (1076, 0.14885977272043888), (1077, 0.2969365696941186), (1078, 0.2523385420293202), (1079, 0.2063097469900779), (1080, 0.19651866087474365), (1081, 0.12191894638299103), (1082, 0.09405365538047297), (1083, 0.1648058653539824), (1084, 0.26170274864909593), (1085, 0.098033559344478), (1086, 0.12375448631866116), (1087, 0.2901802634428017), (1088, 0.24098145745562594), (1089, 0.224830662431076), (1090, 0.18565003433627728), (1091, 0.10339356284639707), (1092, 0.13078825409370246), (1093, 0.224830662431076), (1094, 0.16360750867246077), (1095, 0.10824780061160146), (1096, 0.31167144351388154), (1097, 0.09227868358446567), (1098, 0.42251562901133605), (1099, 0.12244631857835774), (1100, 0.3359356668000059), (1101, 0.12914093023833523), (1102, 0.31167144351388154), (1103, 0.224830662431076), (1104, 0.11997711051565467), (1105, 0.224830662431076), (1106, 0.224830662431076), (1107, 0.24397892028690443), (1108, 0.07747319814651876), (1109, 0.26170274864909593), (1110, 0.42251562901133605), (1111, 0.3566332276250594), (1112, 0.3359356668000059), (1113, 0.09266843882923091), (1114, 0.19299471954651165), (1115, 0.10681102828458613), (1116, 0.13346584018998722), (1117, 0.3359356668000059), (1118, 0.18565003433627728), (1119, 0.1996484786617149), (1120, 0.11680614086116985), (1121, 0.42251562901133605), (1122, 0.2497313533446277), (1123, 0.20409699256913869), (1124, 0.3359356668000059), (1125, 0.224830662431076), (1126, 0.1329546758112592), (1127, 0.16328922425010584), (1128, 0.1261372924472868), (1129, 0.3655185693327051), (1130, 0.224830662431076), (1131, 0.6530349879446009), (1132, 0.24397892028690443), (1133, 0.224830662431076), (1134, 0.09672973779191392), (1135, 0.12059190012755909), (1136, 0.1709856209028452), (1137, 0.09595011269269797), (1138, 0.19948392290596711), (1139, 0.224830662431076), (1140, 0.1648058653539824), (1141, 0.21570392848760075), (1142, 0.45791606998539897), (1143, 0.6344727811402835), (1144, 0.42251562901133605), (1145, 0.2969365696941186), (1146, 0.10066946911699012), (1147, 0.12375448631866116), (1148, 0.24397892028690443), (1149, 0.224830662431076), (1150, 0.33866777982788865), (1151, 0.10339356284639707), (1152, 0.224830662431076), (1153, 0.11714896701219944), (1154, 0.10680448758745494), (1155, 0.45791606998539897), (1156, 0.12466725786016215), (1157, 0.16360750867246077), (1158, 0.14356931167742856), (1159, 0.10513943193805182), (1160, 0.5986083450946492), (1161, 0.6638494693360666), (1162, 0.13078825409370246), (1163, 0.26831471800689144), (1164, 0.10680448758745494), (1165, 0.098033559344478), (1166, 0.10856745756725035), (1167, 0.14356931167742856), (1168, 0.42251562901133605), (1169, 0.3359356668000059), (1170, 0.26170274864909593), (1171, 0.34836531941492443), (1172, 0.5417657151068687), (1173, 0.10681102828458613), (1174, 0.26127712573150397), (1175, 0.515999241430717), (1176, 0.692139244484234), (1177, 0.1865811808041037), (1178, 0.224830662431076), (1179, 0.21861987160865357), (1180, 0.224830662431076), (1181, 0.20790635966579069), (1182, 0.26763895800256604), (1183, 0.21570392848760075), (1184, 0.17402421454372471), (1185, 0.11346615739081832), (1186, 0.8363388804806571), (1187, 0.26170274864909593), (1188, 0.31692974383049843), (1189, 0.16859187786948177), (1190, 0.48484528637728397), (1191, 0.31692974383049843), (1192, 0.23411821433756724), (1193, 0.1152586118149726), (1194, 0.12915249310987165), (1195, 0.29990947122666833), (1196, 0.45791606998539897), (1197, 0.11138082555674446), (1198, 0.0773507434395208), (1199, 0.18682073527287227), (1200, 0.16360750867246077), (1201, 0.16360750867246077), (1202, 0.23411821433756724), (1203, 0.3359356668000059), (1204, 0.3359356668000059), (1205, 0.10242412545256913), (1206, 0.22230611442259507), (1207, 0.11036627375223211), (1208, 0.26170274864909593), (1209, 0.22557641044757626), (1210, 0.13278369518155517), (1211, 0.13074880165178304), (1212, 0.3708911866567049), (1213, 0.15667378361952497), (1214, 0.1347070203388727), (1215, 0.7639839962821692), (1216, 0.26170274864909593), (1217, 0.26170274864909593), (1218, 0.4930126386208641), (1219, 0.6723292739411906), (1220, 0.204190834468871), (1221, 0.18565003433627728), (1222, 0.14844859700577456), (1223, 0.51010506393159), (1224, 0.6493773432130386), (1225, 0.21861987160865357), (1226, 0.13078825409370246), (1227, 0.224830662431076), (1228, 0.18565003433627728), (1229, 0.19948392290596711), (1230, 0.09595011269269797), (1231, 0.12915249310987165), (1232, 0.223278067563858), (1233, 0.09227868358446567), (1234, 0.2523385420293202), (1235, 0.14844859700577456), (1236, 0.12734298251306028), (1237, 0.21063422593948203), (1238, 0.16013871096403834), (1239, 0.12191894638299103), (1240, 0.46419171127758824), (1241, 0.6142249444779615), (1242, 0.16013871096403834), (1243, 0.3359356668000059), (1244, 0.13689031068162444), (1245, 0.44025639043371995), (1246, 0.3700292397593583), (1247, 0.2969365696941186), (1248, 0.21063422593948203), (1249, 0.39694320726421517), (1250, 0.3692155000454744), (1251, 0.24098145745562594), (1252, 0.1768506769571036), (1253, 0.5417657151068687), (1254, 0.24567188681418672), (1255, 0.22120519376101744), (1256, 0.3657474008222066), (1257, 0.26127712573150397), (1258, 0.46419171127758824), (1259, 0.13078825409370246), (1260, 0.15667378361952497), (1261, 0.5474092970153459), (1262, 0.09672973779191392), (1263, 0.15182206853043462), (1264, 0.28346312666872564), (1265, 0.10014445626805085), (1266, 0.13278369518155517), (1267, 0.224830662431076), (1268, 0.14844859700577456), (1269, 0.10339356284639707), (1270, 0.14356931167742856), (1271, 0.12191894638299103), (1272, 0.12151189764681765), (1273, 0.1658411608512903), (1274, 0.142058632725914), (1275, 0.24397892028690443), (1276, 0.13078825409370246), (1277, 0.19250811543871038), (1278, 0.5656726976330729), (1279, 0.14356931167742856), (1280, 0.09672973779191392), (1281, 0.10680448758745494), (1282, 0.15667378361952497), (1283, 0.46419171127758824), (1284, 0.3359356668000059), (1285, 0.09374368546079266), (1286, 0.26170274864909593), (1287, 0.13558838327212727), (1288, 0.16013871096403834), (1289, 0.224830662431076), (1290, 0.24155555349963556), (1291, 0.10856745756725035), (1292, 0.1208763084359316), (1293, 0.13689031068162444), (1294, 0.42251562901133605), (1295, 0.09227868358446567), (1296, 0.5475190056920979), (1297, 0.224830662431076), (1298, 0.3359356668000059), (1299, 0.224830662431076), (1300, 0.13599301668662364), (1301, 0.24567188681418672), (1302, 0.12397625205212041), (1303, 0.19145868148352155), (1304, 0.3359356668000059), (1305, 0.2969365696941186), (1306, 0.22557641044757626), (1307, 0.1155785186912302), (1308, 0.46767225556105047), (1309, 0.12244631857835774), (1310, 0.37998336562301815), (1311, 0.224830662431076), (1312, 0.3359356668000059), (1313, 0.26170274864909593), (1314, 0.10508655077950065), (1315, 0.09169924537685628), (1316, 0.08087749517182016), (1317, 0.2159432364019647), (1318, 0.3359356668000059), (1319, 0.42251562901133605), (1320, 0.4305729770814247), (1321, 0.13689031068162444), (1322, 0.224830662431076), (1323, 0.0981506759380954), (1324, 0.21172071742647136), (1325, 0.19145868148352155), (1326, 0.13689031068162444), (1327, 0.098033559344478), (1328, 0.12040377226494588), (1329, 0.16360750867246077), (1330, 0.15667378361952497), (1331, 0.224830662431076), (1332, 0.484312598125562), (1333, 0.098033559344478), (1334, 0.20884963347744223), (1335, 0.21570392848760075), (1336, 0.10856745756725035), (1337, 0.20100016612324645), (1338, 0.24155555349963556), (1339, 0.28346312666872564), (1340, 0.206666516087713), (1341, 0.34292788247232925), (1342, 0.16859187786948177), (1343, 0.11997711051565467), (1344, 0.15667378361952497), (1345, 0.16360750867246077), (1346, 0.4163143183487166), (1347, 0.14356931167742856), (1348, 0.09973391403382441), (1349, 0.22557641044757626), (1350, 0.21172071742647136), (1351, 0.23411821433756724), (1352, 0.18071822112619843), (1353, 0.224830662431076), (1354, 0.10339356284639707), (1355, 0.42251562901133605), (1356, 0.22120519376101744), (1357, 0.7591110161787467), (1358, 0.09161644645758449), (1359, 0.3359356668000059), (1360, 0.19145868148352155), (1361, 0.10230878315119958), (1362, 0.16360750867246077), (1363, 0.16360750867246077), (1364, 0.26170274864909593), (1365, 0.2969365696941186), (1366, 0.1526573698799409), (1367, 0.3359356668000059), (1368, 0.37998336562301815), (1369, 0.21570392848760075), (1370, 0.5198166254606322), (1371, 0.15667378361952497), (1372, 0.26170274864909593), (1373, 0.40814951601157223), (1374, 0.46419171127758824), (1375, 0.22120519376101744), (1376, 0.224830662431076), (1377, 0.21570392848760075), (1378, 0.42675166812478804), (1379, 0.13689031068162444), (1380, 0.13278369518155517), (1381, 0.08482833750708024), (1382, 0.26170274864909593), (1383, 0.31692974383049843), (1384, 0.16328922425010584), (1385, 0.18977499363738135), (1386, 0.46419171127758824), (1387, 0.1717682709625007), (1388, 0.11860472021791847), (1389, 0.224830662431076), (1390, 0.224830662431076), (1391, 0.11138082555674446), (1392, 0.6274475714791884), (1393, 0.14885977272043888), (1394, 0.2086963795356728), (1395, 0.14356931167742856), (1396, 0.09672973779191392), (1397, 0.18890592789384716), (1398, 0.1658411608512903), (1399, 0.7892792276858159), (1400, 0.4910274839979238), (1401, 0.16013871096403834), (1402, 0.42251562901133605), (1403, 0.26170274864909593), (1404, 0.42251562901133605), (1405, 0.48484528637728397), (1406, 0.13078825409370246), (1407, 0.14356931167742856), (1408, 0.21886902768455083), (1409, 0.3359356668000059), (1410, 0.26170274864909593), (1411, 0.3359356668000059), (1412, 0.11346615739081832), (1413, 0.1795198033501711), (1414, 0.4910274839979238), (1415, 0.2969365696941186), (1416, 0.42251562901133605), (1417, 0.21570392848760075), (1418, 0.8185029751115205), (1419, 0.13078825409370246), (1420, 0.3610162246967178), (1421, 0.25241199627496314), (1422, 0.3359356668000059), (1423, 0.2969365696941186), (1424, 0.11048672006942493), (1425, 0.224830662431076), (1426, 0.14356931167742856), (1427, 0.26170274864909593), (1428, 0.14356931167742856), (1429, 0.22120519376101744), (1430, 0.14356931167742856), (1431, 0.14356931167742856), (1432, 0.1208763084359316), (1433, 0.19485867491583542), (1434, 0.42251562901133605), (1435, 0.20790635966579069), (1436, 0.11346615739081832), (1437, 0.13689031068162444), (1438, 0.17477467394400606), (1439, 0.42251562901133605), (1440, 0.20666964411220384), (1441, 0.16360750867246077), (1442, 0.26127712573150397), (1443, 0.16328922425010584), (1444, 0.224830662431076), (1445, 0.16360750867246077), (1446, 0.3359356668000059), (1447, 0.12466725786016215), (1448, 0.31692974383049843), (1449, 0.14356931167742856), (1450, 0.42251562901133605), (1451, 0.14356931167742856), (1452, 0.14356931167742856), (1453, 0.16360750867246077), (1454, 0.26127712573150397), (1455, 0.13078825409370246), (1456, 0.42251562901133605), (1457, 0.16360750867246077), (1458, 0.13278369518155517), (1459, 0.15182206853043462), (1460, 0.0960290928841871), (1461, 0.15667378361952497), (1462, 0.31692974383049843), (1463, 0.1708653459430432), (1464, 0.42251562901133605), (1465, 0.3359356668000059), (1466, 0.39889097522365097), (1467, 0.38841092972707464), (1468, 0.34292788247232925), (1469, 0.09015780315127453), (1470, 0.15182206853043462), (1471, 0.16773475163810278), (1472, 0.25241199627496314), (1473, 0.1299198839684924), (1474, 0.14483010648672487), (1475, 0.6723292739411906), (1476, 0.26170274864909593), (1477, 0.17251412467166805), (1478, 0.21570392848760075), (1479, 0.26170274864909593), (1480, 0.14356931167742856), (1481, 0.24397892028690443), (1482, 0.12603392139334885), (1483, 0.21570392848760075), (1484, 0.26127712573150397), (1485, 0.16360750867246077), (1486, 0.10890683529252858), (1487, 0.14844859700577456), (1488, 0.275082368988544), (1489, 0.22968699695779107), (1490, 0.16013871096403834), (1491, 0.12466725786016215), (1492, 0.224830662431076), (1493, 0.14356931167742856), (1494, 0.3359356668000059), (1495, 0.3422462206950023), (1496, 0.10856745756725035), (1497, 0.42251562901133605), (1498, 0.1865811808041037), (1499, 0.42251562901133605), (1500, 0.42251562901133605), (1501, 0.16360750867246077), (1502, 0.10680448758745494), (1503, 0.2901802634428017), (1504, 0.14885977272043888), (1505, 0.0860665171499489), (1506, 0.19687915647755108), (1507, 0.15667378361952497), (1508, 0.224830662431076), (1509, 0.19145868148352155), (1510, 0.4716783893653753), (1511, 0.3753387626925378), (1512, 0.5417657151068687), (1513, 0.2214161950990944), (1514, 0.7375374997357657), (1515, 0.3245713249083636), (1516, 0.27162293022630135), (1517, 0.224830662431076), (1518, 0.26170274864909593), (1519, 0.22120519376101744), (1520, 0.14844859700577456), (1521, 0.098033559344478), (1522, 0.12040377226494588), (1523, 0.12603392139334885), (1524, 0.10856745756725035), (1525, 0.45791606998539897), (1526, 0.224830662431076), (1527, 0.24155555349963556), (1528, 0.3359356668000059), (1529, 0.35586671294924443), (1530, 0.08963944320147127), (1531, 0.14356931167742856), (1532, 0.14880161040720175), (1533, 0.5474092970153459), (1534, 0.16859187786948177), (1535, 0.10014445626805085), (1536, 0.08505062716593517), (1537, 0.19511687784237763), (1538, 0.42251562901133605), (1539, 0.4715136432056499), (1540, 0.14885977272043888), (1541, 0.10125690894865688), (1542, 0.13599301668662364), (1543, 0.26170274864909593), (1544, 0.1347070203388727), (1545, 0.17111461853069052), (1546, 0.10680448758745494), (1547, 0.5717271642611946), (1548, 0.20339637823148113), (1549, 0.16360750867246077), (1550, 0.42251562901133605), (1551, 0.14356931167742856), (1552, 0.11253716569364308), (1553, 0.42251562901133605), (1554, 0.09672973779191392), (1555, 0.23411821433756724), (1556, 0.16859187786948177), (1557, 0.14844859700577456), (1558, 0.2969365696941186), (1559, 0.14356931167742856), (1560, 0.12960469148247145), (1561, 0.224830662431076), (1562, 0.14356931167742856), (1563, 0.224830662431076), (1564, 0.17111461853069052), (1565, 0.4977938538270533), (1566, 0.09672973779191392), (1567, 0.11599661640590882), (1568, 0.14356931167742856), (1569, 0.48484528637728397), (1570, 0.5717271642611946), (1571, 0.3359356668000059), (1572, 0.19363013532437923), (1573, 0.14356931167742856), (1574, 0.42251562901133605), (1575, 0.09741059365981483), (1576, 0.16328922425010584), (1577, 0.13689031068162444), (1578, 0.3700292397593583), (1579, 0.10339356284639707), (1580, 0.22557641044757626), (1581, 0.43185799912974876), (1582, 0.2523385420293202), (1583, 0.224830662431076), (1584, 0.12914093023833523), (1585, 0.13095163219943884), (1586, 0.224830662431076), (1587, 0.12244631857835774), (1588, 0.14356931167742856), (1589, 0.16360750867246077), (1590, 0.10066946911699012), (1591, 0.13078825409370246), (1592, 0.10890683529252858), (1593, 0.42251562901133605), (1594, 0.26170274864909593), (1595, 0.1676734103757778), (1596, 0.12466725786016215), (1597, 0.3359356668000059), (1598, 0.2063097469900779), (1599, 0.17111461853069052), (1600, 0.35586671294924443), (1601, 0.3422462206950023), (1602, 0.10856745756725035), (1603, 0.46419171127758824), (1604, 0.39889097522365097), (1605, 0.19651866087474365), (1606, 0.08543746854348301), (1607, 0.1031030277483371), (1608, 0.19485867491583542), (1609, 0.224830662431076), (1610, 0.41176915529412517), (1611, 0.13689031068162444), (1612, 0.2969365696941186), (1613, 0.3537634915917961), (1614, 0.09069192748013401), (1615, 0.40814951601157223), (1616, 0.5474092970153459), (1617, 0.42251562901133605), (1618, 0.16360750867246077), (1619, 0.2969365696941186), (1620, 0.28346312666872564), (1621, 0.24397892028690443), (1622, 0.11138082555674446), (1623, 0.11138082555674446), (1624, 0.2969365696941186), (1625, 0.42251562901133605), (1626, 0.224830662431076), (1627, 0.4716783893653753), (1628, 0.19651866087474365), (1629, 0.21063422593948203), (1630, 0.14356931167742856), (1631, 0.14356931167742856), (1632, 0.14356931167742856), (1633, 0.44853995583156475), (1634, 0.20901630188041348), (1635, 0.14356931167742856), (1636, 0.16859187786948177), (1637, 0.3359356668000059), (1638, 0.7307055321836432), (1639, 0.16360750867246077), (1640, 0.098033559344478), (1641, 0.42251562901133605), (1642, 0.3359356668000059), (1643, 0.23411821433756724), (1644, 0.224830662431076), (1645, 0.1517408649187061), (1646, 0.224830662431076), (1647, 0.16859187786948177), (1648, 0.2969365696941186), (1649, 0.3245713249083636), (1650, 0.2901802634428017), (1651, 0.11598823909645205), (1652, 0.5656726976330729), (1653, 0.1795198033501711), (1654, 0.224830662431076), (1655, 0.2969365696941186), (1656, 0.7803959678317363), (1657, 0.11598823909645205), (1658, 0.7803959678317363), (1659, 0.16328922425010584), (1660, 0.3359356668000059), (1661, 0.14356931167742856), (1662, 0.10066946911699012), (1663, 0.3359356668000059), (1664, 0.29990947122666833), (1665, 0.1768506769571036), (1666, 0.2969365696941186), (1667, 0.1996484786617149), (1668, 0.224830662431076), (1669, 0.6344727811402835), (1670, 0.42251562901133605), (1671, 0.19145868148352155), (1672, 0.42251562901133605), (1673, 0.224830662431076), (1674, 0.11641931456156605), (1675, 0.21861987160865357), (1676, 0.14844859700577456), (1677, 0.1796576822597618), (1678, 0.21570392848760075), (1679, 0.224830662431076), (1680, 0.21570392848760075), (1681, 0.13078825409370246), (1682, 0.2969365696941186), (1683, 0.5198166254606322), (1684, 0.45791606998539897), (1685, 0.2969365696941186), (1686, 0.18565003433627728), (1687, 0.21570392848760075), (1688, 0.3359356668000059), (1689, 0.224830662431076), (1690, 0.2086963795356728), (1691, 0.42251562901133605), (1692, 0.20339637823148113), (1693, 0.26170274864909593), (1694, 0.13599301668662364), (1695, 0.14844859700577456), (1696, 0.10680448758745494), (1697, 0.40814951601157223), (1698, 0.224830662431076), (1699, 0.14356931167742856), (1700, 0.098033559344478), (1701, 0.11680614086116985), (1702, 0.224830662431076), (1703, 0.22557641044757626), (1704, 0.1155785186912302), (1705, 0.10183266368471888), (1706, 0.1737566739646028), (1707, 0.19844945398312416), (1708, 0.31167144351388154), (1709, 0.17111461853069052), (1710, 0.2227526579826592), (1711, 0.19299471954651165), (1712, 0.42251562901133605), (1713, 0.13278369518155517), (1714, 0.10039740368843696), (1715, 0.224830662431076), (1716, 0.1736038880560914), (1717, 0.2227526579826592), (1718, 0.16360750867246077), (1719, 0.26170274864909593), (1720, 0.1155785186912302), (1721, 0.1347070203388727), (1722, 0.26170274864909593), (1723, 0.14356931167742856), (1724, 0.14356931167742856), (1725, 0.18565003433627728), (1726, 0.45791606998539897), (1727, 0.2214161950990944), (1728, 0.5639330661623067), (1729, 0.224830662431076), (1730, 0.8363388804806571), (1731, 0.11031974129826906), (1732, 0.4515541293596748), (1733, 0.3359356668000059), (1734, 0.17111461853069052), (1735, 0.1347070203388727), (1736, 0.24155555349963556), (1737, 0.224830662431076), (1738, 0.12915249310987165), (1739, 0.24397892028690443), (1740, 0.21570392848760075), (1741, 0.224830662431076), (1742, 0.42251562901133605), (1743, 0.2969365696941186), (1744, 0.2086963795356728), (1745, 0.09169924537685628), (1746, 0.16360750867246077), (1747, 0.2969365696941186), (1748, 0.6530349879446009), (1749, 0.16328922425010584), (1750, 0.39694320726421517), (1751, 0.17111461853069052), (1752, 0.224830662431076), (1753, 0.14356931167742856), (1754, 0.28346312666872564), (1755, 0.1031030277483371), (1756, 0.09227868358446567), (1757, 0.224830662431076), (1758, 0.1155785186912302), (1759, 0.3359356668000059), (1760, 0.6460347345909531), (1761, 0.1345615552426614), (1762, 0.2969365696941186), (1763, 0.2969365696941186), (1764, 0.5750071659138317), (1765, 0.3359356668000059), (1766, 0.14844859700577456), (1767, 0.224830662431076), (1768, 0.2969365696941186), (1769, 0.10856745756725035), (1770, 0.20339637823148113), (1771, 0.45791606998539897), (1772, 0.09672973779191392), (1773, 0.14356931167742856), (1774, 0.19145868148352155), (1775, 0.4739974823465657), (1776, 0.28346312666872564), (1777, 0.224830662431076), (1778, 0.16360750867246077), (1779, 0.22120519376101744), (1780, 0.22557641044757626), (1781, 0.1208763084359316), (1782, 0.2969365696941186), (1783, 0.10230878315119958), (1784, 0.3606917240821631), (1785, 0.224830662431076), (1786, 0.224830662431076), (1787, 0.16360750867246077), (1788, 0.12244631857835774), (1789, 0.11346615739081832), (1790, 0.224830662431076), (1791, 0.1011988981953192), (1792, 0.3359356668000059), (1793, 0.42251562901133605), (1794, 0.10557217114241445), (1795, 0.16859187786948177), (1796, 0.1768506769571036), (1797, 0.10431582959670944), (1798, 0.21172071742647136), (1799, 0.10680448758745494), (1800, 0.1155785186912302), (1801, 0.42251562901133605), (1802, 0.094864805290069), (1803, 0.16360750867246077), (1804, 0.41176915529412517), (1805, 0.42251562901133605), (1806, 0.13095163219943884), (1807, 0.42251562901133605), (1808, 0.22557641044757626), (1809, 0.13278369518155517), (1810, 0.08326668576807426), (1811, 0.22120519376101744), (1812, 0.10611326891390957), (1813, 0.26831471800689144), (1814, 0.42251562901133605), (1815, 0.13078825409370246), (1816, 0.13095163219943884), (1817, 0.11138082555674446), (1818, 0.17111461853069052), (1819, 0.204190834468871), (1820, 0.1155785186912302), (1821, 0.2159432364019647), (1822, 0.17110668165383783), (1823, 0.20339637823148113), (1824, 0.14880161040720175), (1825, 0.16859187786948177), (1826, 0.42251562901133605), (1827, 0.26170274864909593), (1828, 0.14915891425252073), (1829, 0.1345615552426614), (1830, 0.09269183952206887), (1831, 0.42251562901133605), (1832, 0.15060071192396793), (1833, 0.1785824800435341), (1834, 0.224830662431076), (1835, 0.12191894638299103), (1836, 0.39694320726421517), (1837, 0.10856745756725035), (1838, 0.14356931167742856), (1839, 0.14844859700577456), (1840, 0.14356931167742856), (1841, 0.336732037296566), (1842, 0.14844859700577456), (1843, 0.42251562901133605), (1844, 0.098033559344478), (1845, 0.25241199627496314), (1846, 0.13278369518155517), (1847, 0.1347070203388727), (1848, 0.3359356668000059), (1849, 0.224830662431076), (1850, 0.14844859700577456), (1851, 0.26170274864909593), (1852, 0.11138082555674446), (1853, 0.21570392848760075), (1854, 0.28346312666872564), (1855, 0.3946617486990414), (1856, 0.224830662431076), (1857, 0.11138082555674446), (1858, 0.23449854348853955), (1859, 0.11138082555674446), (1860, 0.2969365696941186), (1861, 0.2523385420293202), (1862, 0.42251562901133605), (1863, 0.16859187786948177), (1864, 0.16994298268274644), (1865, 0.31692974383049843), (1866, 0.25241199627496314), (1867, 0.16360750867246077), (1868, 0.10985215309639847), (1869, 0.2969365696941186), (1870, 0.17111461853069052), (1871, 0.26170274864909593), (1872, 0.42251562901133605), (1873, 0.11138082555674446), (1874, 0.28346312666872564), (1875, 0.1708653459430432), (1876, 0.26127712573150397), (1877, 0.3359356668000059), (1878, 0.2086963795356728), (1879, 0.224830662431076), (1880, 0.16360750867246077), (1881, 0.12397625205212041), (1882, 0.26831471800689144), (1883, 0.1329546758112592), (1884, 0.22557641044757626), (1885, 0.2969365696941186), (1886, 0.5717271642611946), (1887, 0.42251562901133605), (1888, 0.11048672006942493), (1889, 0.12442752943226194), (1890, 0.42251562901133605), (1891, 0.26831471800689144), (1892, 0.22120519376101744), (1893, 0.26170274864909593), (1894, 0.10056645972220707), (1895, 0.13689031068162444), (1896, 0.6530349879446009), (1897, 0.19545362163993293), (1898, 0.11253716569364308), (1899, 0.14880161040720175), (1900, 0.12383624528683045), (1901, 0.13278369518155517), (1902, 0.275082368988544), (1903, 0.3657474008222066), (1904, 0.0869544512331262), (1905, 0.26170274864909593), (1906, 0.224830662431076), (1907, 0.24147438593266327), (1908, 0.3796081260894502), (1909, 0.2969365696941186), (1910, 0.20790635966579069), (1911, 0.0933521810179795), (1912, 0.16013871096403834), (1913, 0.45791606998539897), (1914, 0.13074880165178304), (1915, 0.224830662431076), (1916, 0.26831471800689144), (1917, 0.224830662431076), (1918, 0.31692974383049843), (1919, 0.3359356668000059), (1920, 0.24935784535483707), (1921, 0.42251562901133605), (1922, 0.19427191443239383), (1923, 0.2523385420293202), (1924, 0.22120519376101744), (1925, 0.10066946911699012), (1926, 0.40861987484753115), (1927, 0.14356931167742856), (1928, 0.224830662431076), (1929, 0.3359356668000059), (1930, 0.14356931167742856), (1931, 0.21861987160865357), (1932, 0.43185799912974876), (1933, 0.14356931167742856), (1934, 0.21861987160865357), (1935, 0.16360750867246077), (1936, 0.24567188681418672), (1937, 0.13078825409370246), (1938, 0.224830662431076), (1939, 0.12244631857835774), (1940, 0.11138082555674446), (1941, 0.14511764860071796), (1942, 0.21063422593948203), (1943, 0.5198166254606322), (1944, 0.224830662431076), (1945, 0.1246693603405489), (1946, 0.19844945398312416), (1947, 0.3359356668000059), (1948, 0.10339356284639707), (1949, 0.10508655077950065), (1950, 0.7446194931247798), (1951, 0.26170274864909593), (1952, 0.1345615552426614), (1953, 0.14356931167742856), (1954, 0.3359356668000059), (1955, 0.37445761785431114), (1956, 0.16360750867246077), (1957, 0.224830662431076), (1958, 0.1145694900204234), (1959, 0.42251562901133605), (1960, 0.31692974383049843), (1961, 0.12442752943226194), (1962, 0.14356931167742856), (1963, 0.16360750867246077), (1964, 0.22120519376101744), (1965, 0.47896614649808894), (1966, 0.10824780061160146), (1967, 0.24397892028690443), (1968, 0.4716783893653753), (1969, 0.22557641044757626), (1970, 0.09922703208136761), (1971, 0.1627788959668866), (1972, 0.12375448631866116), (1973, 0.1347070203388727), (1974, 0.16360750867246077), (1975, 0.11138082555674446), (1976, 0.10680448758745494), (1977, 0.2497313533446277), (1978, 0.224830662431076), (1979, 0.1155785186912302), (1980, 0.3359356668000059), (1981, 0.15667378361952497), (1982, 0.34292788247232925), (1983, 0.19145868148352155), (1984, 0.10689340463464712), (1985, 0.1832442547548461), (1986, 0.15667378361952497), (1987, 0.11599661640590882), (1988, 0.1171322141598015), (1989, 0.2081812730871493), (1990, 0.44853995583156475), (1991, 0.09741059365981483), (1992, 0.1121885532268843), (1993, 0.37711266743879623), (1994, 0.224830662431076), (1995, 0.8363388804806571), (1996, 0.11138082555674446), (1997, 0.24397892028690443), (1998, 0.37711266743879623), (1999, 0.098033559344478), (2000, 0.19844945398312416), (2001, 0.16360750867246077), (2002, 0.224830662431076), (2003, 0.16360750867246077), (2004, 0.2969365696941186), (2005, 0.224830662431076), (2006, 0.11031974129826906), (2007, 0.16360750867246077), (2008, 0.22120519376101744), (2009, 0.16360750867246077), (2010, 0.5717271642611946), (2011, 0.5222294439402501), (2012, 0.14511764860071796), (2013, 0.13278369518155517), (2014, 0.13689031068162444), (2015, 0.13278369518155517), (2016, 0.1717682709625007), (2017, 0.16859187786948177), (2018, 0.39694320726421517), (2019, 0.3422462206950023), (2020, 0.20339637823148113), (2021, 0.10890683529252858), (2022, 0.1171322141598015), (2023, 0.28346312666872564), (2024, 0.21570392848760075), (2025, 0.17111461853069052), (2026, 0.13095163219943884), (2027, 0.8363388804806571), (2028, 0.18565003433627728), (2029, 0.28346312666872564), (2030, 0.1155785186912302), (2031, 0.23411821433756724), (2032, 0.16360750867246077), (2033, 0.49702364493033513), (2034, 0.24567188681418672), (2035, 0.2969365696941186), (2036, 0.16360750867246077), (2037, 0.24397892028690443), (2038, 0.10028965275304373), (2039, 0.18217036879522835), (2040, 0.21570392848760075), (2041, 0.10856745756725035), (2042, 0.224830662431076), (2043, 0.7307055321836432), (2044, 0.10710436362929093), (2045, 0.21861987160865357), (2046, 0.14844859700577456), (2047, 0.42251562901133605), (2048, 0.6723292739411906), (2049, 0.1632732985839015), (2050, 0.12442752943226194), (2051, 0.2969365696941186), (2052, 0.17111461853069052), (2053, 0.24397892028690443), (2054, 0.1171322141598015), (2055, 0.17741175127292563), (2056, 0.14880161040720175), (2057, 0.11997711051565467), (2058, 0.10890683529252858), (2059, 0.14880161040720175), (2060, 0.3359356668000059), (2061, 0.1795198033501711), (2062, 0.34938639948928024), (2063, 0.224830662431076), (2064, 0.224830662431076), (2065, 0.1507310550491094), (2066, 0.11346615739081832), (2067, 0.13972519195915328), (2068, 0.26170274864909593), (2069, 0.31692974383049843), (2070, 0.24397892028690443), (2071, 0.224830662431076), (2072, 0.42251562901133605), (2073, 0.5556884469235283), (2074, 0.44853995583156475), (2075, 0.19366331766439646), (2076, 0.2523385420293202), (2077, 0.1347070203388727), (2078, 0.10680448758745494), (2079, 0.224830662431076), (2080, 0.28346312666872564), (2081, 0.10561756720825133), (2082, 0.09415664644732287), (2083, 0.6142249444779615), (2084, 0.20790635966579069), (2085, 0.10705359603949059), (2086, 0.3657474008222066), (2087, 0.206666516087713), (2088, 0.26127712573150397), (2089, 0.22120519376101744), (2090, 0.11957227164098491), (2091, 0.1795198033501711), (2092, 0.224830662431076), (2093, 0.10681102828458613), (2094, 0.41192454923502847), (2095, 0.1031030277483371), (2096, 0.24397892028690443), (2097, 0.20884963347744223), (2098, 0.224830662431076), (2099, 0.24098145745562594), (2100, 0.43185799912974876), (2101, 0.12624974188063348), (2102, 0.5887939699781928), (2103, 0.1799060152238968), (2104, 0.7639839962821692), (2105, 0.2969365696941186), (2106, 0.16360750867246077), (2107, 0.11048672006942493), (2108, 0.26170274864909593), (2109, 0.42251562901133605), (2110, 0.11997711051565467), (2111, 0.26170274864909593), (2112, 0.19145868148352155), (2113, 0.17111461853069052), (2114, 0.38841092972707464), (2115, 0.16859187786948177), (2116, 0.26170274864909593), (2117, 0.20029020647080337), (2118, 0.09608341433525026), (2119, 0.1145694900204234), (2120, 0.1375865316248355), (2121, 0.31692974383049843), (2122, 0.26170274864909593), (2123, 0.42251562901133605), (2124, 0.17111461853069052), (2125, 0.08800434745685856), (2126, 0.28346312666872564), (2127, 0.24567188681418672), (2128, 0.224830662431076), (2129, 0.42251562901133605), (2130, 0.11590369711197415), (2131, 0.26170274864909593), (2132, 0.2969365696941186), (2133, 0.42251562901133605), (2134, 0.8363388804806571), (2135, 0.1155785186912302), (2136, 0.33866777982788865), (2137, 0.3359356668000059), (2138, 0.224830662431076), (2139, 0.11036627375223211), (2140, 0.1152586118149726), (2141, 0.42251562901133605), (2142, 0.42251562901133605), (2143, 0.206666516087713), (2144, 0.2969365696941186), (2145, 0.12466725786016215), (2146, 0.3359356668000059), (2147, 0.224830662431076), (2148, 0.3359356668000059), (2149, 0.2969365696941186), (2150, 0.09189332541093187), (2151, 0.3359356668000059), (2152, 0.09521672042882588), (2153, 0.09189332541093187), (2154, 0.24397892028690443), (2155, 0.2969365696941186), (2156, 0.16360750867246077), (2157, 0.12466725786016215), (2158, 0.15667378361952497), (2159, 0.19651866087474365), (2160, 0.16360750867246077), (2161, 0.16360750867246077), (2162, 0.1739530894523285), (2163, 0.42251562901133605), (2164, 0.13689031068162444), (2165, 0.13562967496430284), (2166, 0.27162293022630135), (2167, 0.16360750867246077), (2168, 0.16360750867246077), (2169, 0.19844945398312416), (2170, 0.48484528637728397), (2171, 0.1155785186912302), (2172, 0.18565003433627728), (2173, 0.42251562901133605), (2174, 0.24397892028690443), (2175, 0.12375448631866116), (2176, 0.26763895800256604), (2177, 0.112385473815189), (2178, 0.08638679221884232), (2179, 0.1152586118149726), (2180, 0.10014445626805085), (2181, 0.1198677734831664), (2182, 0.20339637823148113), (2183, 0.098033559344478), (2184, 0.14885977272043888), (2185, 0.13689031068162444), (2186, 0.16360750867246077), (2187, 0.26170274864909593), (2188, 0.26127712573150397), (2189, 0.42251562901133605), (2190, 0.42251562901133605), (2191, 0.22120519376101744), (2192, 0.3359356668000059), (2193, 0.26170274864909593), (2194, 0.14880161040720175), (2195, 0.2969365696941186), (2196, 0.24397892028690443), (2197, 0.16328922425010584), (2198, 0.43185799912974876), (2199, 0.24098145745562594), (2200, 0.1299198839684924), (2201, 0.26170274864909593), (2202, 0.224830662431076), (2203, 0.224830662431076), (2204, 0.224830662431076), (2205, 0.09693469853178692), (2206, 0.13078825409370246), (2207, 0.053920581735844124), (2208, 0.12244631857835774), (2209, 0.3359356668000059), (2210, 0.1768506769571036), (2211, 0.5474092970153459), (2212, 0.2090689344875759), (2213, 0.42251562901133605), (2214, 0.24397892028690443), (2215, 0.224830662431076), (2216, 0.24397892028690443), (2217, 0.10890683529252858), (2218, 0.16013871096403834), (2219, 0.224830662431076), (2220, 0.12375448631866116), (2221, 0.21328542420875962), (2222, 0.12466725786016215), (2223, 0.24098145745562594), (2224, 0.21570392848760075), (2225, 0.12466725786016215), (2226, 0.8363388804806571), (2227, 0.17111461853069052), (2228, 0.15667378361952497), (2229, 0.1996484786617149), (2230, 0.2969365696941186), (2231, 0.1345615552426614), (2232, 0.10680448758745494), (2233, 0.10339356284639707), (2234, 0.16360750867246077), (2235, 0.1145694900204234), (2236, 0.3359356668000059), (2237, 0.21172071742647136), (2238, 0.20339637823148113), (2239, 0.10705359603949059), (2240, 0.18520719178990977), (2241, 0.17111461853069052), (2242, 0.43201726054275924), (2243, 0.10705359603949059), (2244, 0.12375448631866116), (2245, 0.14356931167742856), (2246, 0.11138082555674446), (2247, 0.12375448631866116), (2248, 0.20530698367894185), (2249, 0.1329546758112592), (2250, 0.20884963347744223), (2251, 0.22557641044757626), (2252, 0.20790635966579069), (2253, 0.19111639546519515), (2254, 0.19145868148352155), (2255, 0.23411821433756724), (2256, 0.09540961227009447), (2257, 0.26763895800256604), (2258, 0.16360750867246077), (2259, 0.43185799912974876), (2260, 0.1774097725280064), (2261, 0.14844859700577456), (2262, 0.14844859700577456), (2263, 0.1155785186912302), (2264, 0.2523385420293202), (2265, 0.4090812401195678), (2266, 0.2969365696941186), (2267, 0.1155785186912302), (2268, 0.42251562901133605), (2269, 0.39777729811087736), (2270, 0.3359356668000059), (2271, 0.224830662431076), (2272, 0.224830662431076), (2273, 0.11138082555674446), (2274, 0.17111461853069052), (2275, 0.13078825409370246), (2276, 0.13078825409370246), (2277, 0.1517408649187061), (2278, 0.10066946911699012), (2279, 0.19245940884522444), (2280, 0.09794953378319898), (2281, 0.14844859700577456), (2282, 0.224830662431076), (2283, 0.3254779700176502), (2284, 0.1121885532268843), (2285, 0.2901802634428017), (2286, 0.4787928007090346), (2287, 0.23825897506402494), (2288, 0.42251562901133605), (2289, 0.17256427098521404), (2290, 0.14844859700577456), (2291, 0.1171322141598015), (2292, 0.3359356668000059), (2293, 0.42251562901133605), (2294, 0.5639330661623067), (2295, 0.1996484786617149), (2296, 0.13689031068162444), (2297, 0.5656726976330729), (2298, 0.13689031068162444), (2299, 0.42251562901133605), (2300, 0.09540961227009447), (2301, 0.22530045534904217), (2302, 0.26170274864909593), (2303, 0.3359356668000059), (2304, 0.15667378361952497), (2305, 0.224830662431076), (2306, 0.42251562901133605), (2307, 0.224830662431076), (2308, 0.11048672006942493), (2309, 0.3359356668000059), (2310, 0.42251562901133605), (2311, 0.224830662431076), (2312, 0.224830662431076), (2313, 0.19651866087474365), (2314, 0.11138082555674446), (2315, 0.17111461853069052), (2316, 0.09052519934876471), (2317, 0.42251562901133605), (2318, 0.08373932785124837), (2319, 0.2969365696941186), (2320, 0.26170274864909593), (2321, 0.28346312666872564), (2322, 0.45791606998539897), (2323, 0.42251562901133605), (2324, 0.2901802634428017), (2325, 0.224830662431076), (2326, 0.11680614086116985), (2327, 0.14844859700577456), (2328, 0.15672762338571175), (2329, 0.098033559344478), (2330, 0.33866777982788865), (2331, 0.12603392139334885), (2332, 0.1031030277483371), (2333, 0.16360750867246077), (2334, 0.24397892028690443), (2335, 0.41176915529412517), (2336, 0.13599301668662364), (2337, 0.09769759618486827), (2338, 0.2969365696941186), (2339, 0.224830662431076), (2340, 0.3359356668000059), (2341, 0.12375448631866116), (2342, 0.12375448631866116), (2343, 0.12375448631866116), (2344, 0.1566932359919059), (2345, 0.12375448631866116), (2346, 0.28346312666872564), (2347, 0.22557641044757626), (2348, 0.275082368988544), (2349, 0.2969365696941186), (2350, 0.1709856209028452), (2351, 0.14844859700577456), (2352, 0.1031030277483371), (2353, 0.11872770480383187), (2354, 0.42251562901133605), (2355, 0.19485867491583542), (2356, 0.24567188681418672), (2357, 0.08455114052268309), (2358, 0.10489182488587262), (2359, 0.24935784535483707), (2360, 0.224830662431076), (2361, 0.20267199728327695), (2362, 0.2969365696941186), (2363, 0.1347070203388727), (2364, 0.12442752943226194), (2365, 0.1031030277483371), (2366, 0.224830662431076), (2367, 0.2086963795356728), (2368, 0.16360750867246077), (2369, 0.12191894638299103), (2370, 0.42251562901133605), (2371, 0.45791606998539897), (2372, 0.1155785186912302), (2373, 0.14880161040720175), (2374, 0.22120519376101744), (2375, 0.26170274864909593), (2376, 0.6344727811402835), (2377, 0.224830662431076), (2378, 0.20267199728327695), (2379, 0.24098145745562594), (2380, 0.224830662431076), (2381, 0.11253716569364308), (2382, 0.8363388804806571), (2383, 0.13078825409370246), (2384, 0.224830662431076), (2385, 0.26170274864909593), (2386, 0.6064718856104543), (2387, 0.3359356668000059), (2388, 0.15947263333968992), (2389, 0.37998336562301815), (2390, 0.22530045534904217), (2391, 0.26170274864909593), (2392, 0.42251562901133605), (2393, 0.26763895800256604), (2394, 0.16475374777194354), (2395, 0.12466725786016215), (2396, 0.3359356668000059), (2397, 0.26170274864909593), (2398, 0.09288353422219377), (2399, 0.2276616209789298), (2400, 0.26831471800689144), (2401, 0.42251562901133605), (2402, 0.26170274864909593), (2403, 0.3359356668000059), (2404, 0.3359356668000059), (2405, 0.2969365696941186), (2406, 0.24397892028690443), (2407, 0.2969365696941186), (2408, 0.1155785186912302), (2409, 0.16360750867246077), (2410, 0.26170274864909593), (2411, 0.6274475714791884), (2412, 0.19162759152638068), (2413, 0.09672973779191392), (2414, 0.1031030277483371), (2415, 0.1404596699624565), (2416, 0.42251562901133605), (2417, 0.42251562901133605), (2418, 0.42251562901133605), (2419, 0.42251562901133605), (2420, 0.16360750867246077), (2421, 0.09201791552793119), (2422, 0.26170274864909593), (2423, 0.24098145745562594), (2424, 0.1347070203388727), (2425, 0.42251562901133605), (2426, 0.09266843882923091), (2427, 0.21861987160865357), (2428, 0.21861987160865357), (2429, 0.13078825409370246), (2430, 0.1708653459430432), (2431, 0.16360750867246077), (2432, 0.09405365538047297), (2433, 0.09189332541093187), (2434, 0.26170274864909593), (2435, 0.14844859700577456), (2436, 0.3359356668000059), (2437, 0.692139244484234), (2438, 0.2227526579826592), (2439, 0.0954798440717945), (2440, 0.3359356668000059), (2441, 0.26170274864909593), (2442, 0.09672973779191392), (2443, 0.40429712646094407), (2444, 0.11599661640590882), (2445, 0.224830662431076), (2446, 0.3359356668000059), (2447, 0.24397892028690443), (2448, 0.26763895800256604), (2449, 0.14844859700577456), (2450, 0.08052706717143976), (2451, 0.08326668576807426), (2452, 0.224830662431076), (2453, 0.2969365696941186), (2454, 0.42251562901133605), (2455, 0.224830662431076), (2456, 0.45791606998539897), (2457, 0.2969365696941186), (2458, 0.224830662431076), (2459, 0.26127712573150397), (2460, 0.224830662431076), (2461, 0.2086963795356728), (2462, 0.1155785186912302), (2463, 0.42251562901133605), (2464, 0.2523385420293202), (2465, 0.224830662431076), (2466, 0.1544132464332762), (2467, 0.26170274864909593), (2468, 0.14511764860071796), (2469, 0.2227526579826592), (2470, 0.20339637823148113), (2471, 0.12375448631866116), (2472, 0.1329546758112592), (2473, 0.22230611442259507), (2474, 0.1963940266019389), (2475, 0.2969365696941186), (2476, 0.16328922425010584), (2477, 0.22120519376101744), (2478, 0.20891565177768012), (2479, 0.08362834912893077), (2480, 0.14356931167742856), (2481, 0.42251562901133605), (2482, 0.6530349879446009), (2483, 0.224830662431076), (2484, 0.15209459600650935), (2485, 0.16807896873197933), (2486, 0.10772985331691443), (2487, 0.15667378361952497), (2488, 0.26170274864909593), (2489, 0.23449854348853955), (2490, 0.3359356668000059), (2491, 0.224830662431076), (2492, 0.26170274864909593), (2493, 0.12960469148247145), (2494, 0.26170274864909593), (2495, 0.3359356668000059), (2496, 0.16994298268274644), (2497, 0.45858061357054397), (2498, 0.16859187786948177), (2499, 0.10561756720825133), (2500, 0.3657474008222066), (2501, 0.09672973779191392), (2502, 0.19651866087474365), (2503, 0.16859187786948177), (2504, 0.098033559344478), (2505, 0.8363388804806571), (2506, 0.13278369518155517), (2507, 0.3359356668000059), (2508, 0.224830662431076), (2509, 0.26170274864909593), (2510, 0.224830662431076), (2511, 0.16360750867246077), (2512, 0.21330243550137074), (2513, 0.5417657151068687), (2514, 0.12466725786016215), (2515, 0.224830662431076), (2516, 0.10856745756725035), (2517, 0.492187164290595), (2518, 0.224830662431076), (2519, 0.13095163219943884), (2520, 0.6530349879446009), (2521, 0.08470060495059771), (2522, 0.18977499363738135), (2523, 0.224830662431076), (2524, 0.1145694900204234), (2525, 0.42251562901133605), (2526, 0.2227526579826592), (2527, 0.44025639043371995), (2528, 0.2969365696941186), (2529, 0.26170274864909593), (2530, 0.20029020647080337), (2531, 0.2086963795356728), (2532, 0.35586671294924443), (2533, 0.42251562901133605), (2534, 0.2227526579826592), (2535, 0.26170274864909593), (2536, 0.224830662431076), (2537, 0.3359356668000059), (2538, 0.2227526579826592), (2539, 0.08052706717143976), (2540, 0.703774743860973), (2541, 0.14356931167742856), (2542, 0.224830662431076), (2543, 0.16360750867246077), (2544, 0.3655185693327051), (2545, 0.42251562901133605), (2546, 0.2523385420293202), (2547, 0.20339637823148113), (2548, 0.224830662431076), (2549, 0.12040377226494588), (2550, 0.7446194931247798), (2551, 0.224830662431076), (2552, 0.42251562901133605), (2553, 0.26170274864909593), (2554, 0.18835405255821855), (2555, 0.21861987160865357), (2556, 0.14489407456523729), (2557, 0.42251562901133605), (2558, 0.31692974383049843), (2559, 0.21172071742647136), (2560, 0.2969365696941186), (2561, 0.3359356668000059), (2562, 0.13532114545478915), (2563, 0.22557641044757626), (2564, 0.14880161040720175), (2565, 0.42251562901133605), (2566, 0.16360750867246077), (2567, 0.5909600185419921), (2568, 0.26763895800256604), (2569, 0.2570421452120574), (2570, 0.26170274864909593), (2571, 0.21328542420875962), (2572, 0.42251562901133605), (2573, 0.09405365538047297), (2574, 0.09971670731862484), (2575, 0.16013871096403834), (2576, 0.16328922425010584), (2577, 0.16807896873197933), (2578, 0.12914093023833523), (2579, 0.26763895800256604), (2580, 0.31692974383049843), (2581, 0.1347070203388727), (2582, 0.12603392139334885), (2583, 0.1155785186912302), (2584, 0.09189332541093187), (2585, 0.42251562901133605), (2586, 0.12466725786016215), (2587, 0.3359356668000059), (2588, 0.16360750867246077), (2589, 0.11790240343848338), (2590, 0.40814951601157223), (2591, 0.24098145745562594), (2592, 0.24098145745562594), (2593, 0.18727591826517132), (2594, 0.16360750867246077), (2595, 0.23256476871009651), (2596, 0.16859187786948177), (2597, 0.1152586118149726), (2598, 0.22120519376101744), (2599, 0.10066946911699012), (2600, 0.1347070203388727), (2601, 0.206666516087713), (2602, 0.24397892028690443), (2603, 0.1632732985839015), (2604, 0.14844859700577456), (2605, 0.10590810108889781), (2606, 0.31692974383049843), (2607, 0.21063422593948203), (2608, 0.14880161040720175), (2609, 0.515999241430717), (2610, 0.26170274864909593), (2611, 0.22557641044757626), (2612, 0.26763895800256604), (2613, 0.42251562901133605), (2614, 0.19844945398312416), (2615, 0.12442752943226194), (2616, 0.37998336562301815), (2617, 0.1996484786617149), (2618, 0.10066946911699012), (2619, 0.3359356668000059), (2620, 0.224830662431076), (2621, 0.24397892028690443), (2622, 0.10680448758745494), (2623, 0.8363388804806571), (2624, 0.42251562901133605), (2625, 0.24155555349963556), (2626, 0.14511764860071796), (2627, 0.12375448631866116), (2628, 0.42251562901133605), (2629, 0.21406632696936276), (2630, 0.14356931167742856), (2631, 0.224830662431076), (2632, 0.22120519376101744), (2633, 0.26170274864909593), (2634, 0.6142249444779615), (2635, 0.15667378361952497), (2636, 0.42251562901133605), (2637, 0.14844859700577456), (2638, 0.19145868148352155), (2639, 0.224830662431076), (2640, 0.24567188681418672), (2641, 0.46419171127758824), (2642, 0.19776552374160256), (2643, 0.1721298572571615), (2644, 0.10242412545256913), (2645, 0.21570392848760075), (2646, 0.11253716569364308), (2647, 0.21861987160865357), (2648, 0.224830662431076), (2649, 0.28346312666872564), (2650, 0.2969365696941186), (2651, 0.42251562901133605), (2652, 0.4139836968406093), (2653, 0.3359356668000059), (2654, 0.38742130842612077), (2655, 0.31692974383049843), (2656, 0.14844859700577456), (2657, 0.17111461853069052), (2658, 0.12375448631866116), (2659, 0.17111461853069052), (2660, 0.16859187786948177), (2661, 0.26170274864909593), (2662, 0.16360750867246077), (2663, 0.16360750867246077), (2664, 0.2969365696941186), (2665, 0.12466725786016215), (2666, 0.0860665171499489), (2667, 0.17111461853069052), (2668, 0.21570392848760075), (2669, 0.224830662431076), (2670, 0.5639330661623067), (2671, 0.16360750867246077), (2672, 0.37998336562301815), (2673, 0.42251562901133605), (2674, 0.20267199728327695), (2675, 0.224830662431076), (2676, 0.17111461853069052), (2677, 0.16360750867246077), (2678, 0.26170274864909593), (2679, 0.42251562901133605), (2680, 0.08300616277482464), (2681, 0.16360750867246077), (2682, 0.3312262017597385), (2683, 0.11138082555674446), (2684, 0.224830662431076), (2685, 0.14880161040720175), (2686, 0.12191894638299103), (2687, 0.26170274864909593), (2688, 0.3422462206950023), (2689, 0.10680448758745494), (2690, 0.14880161040720175), (2691, 0.3566332276250594), (2692, 0.24397892028690443), (2693, 0.16360750867246077), (2694, 0.42251562901133605), (2695, 0.19145868148352155), (2696, 0.26170274864909593), (2697, 0.21570392848760075), (2698, 0.24935784535483707), (2699, 0.16360750867246077), (2700, 0.20790635966579069), (2701, 0.16360750867246077), (2702, 0.26170274864909593), (2703, 0.224830662431076), (2704, 0.1155785186912302), (2705, 0.15947263333968992), (2706, 0.14328475684836012), (2707, 0.24567188681418672), (2708, 0.31807919793733264), (2709, 0.09737764146953994), (2710, 0.12040377226494588), (2711, 0.10680448758745494), (2712, 0.3359356668000059), (2713, 0.10339356284639707), (2714, 0.40145824566352284), (2715, 0.31442556498352786), (2716, 0.31692974383049843), (2717, 0.07892511766888355), (2718, 0.15182206853043462), (2719, 0.1155785186912302), (2720, 0.27162293022630135), (2721, 0.24098145745562594), (2722, 0.3359356668000059), (2723, 0.42251562901133605), (2724, 0.19485867491583542), (2725, 0.2901802634428017), (2726, 0.224830662431076), (2727, 0.13599301668662364), (2728, 0.3359356668000059), (2729, 0.32925399875613875), (2730, 0.16360750867246077), (2731, 0.3359356668000059), (2732, 0.16360750867246077), (2733, 0.44853995583156475), (2734, 0.224830662431076), (2735, 0.42251562901133605), (2736, 0.11138082555674446), (2737, 0.16360750867246077), (2738, 0.3359356668000059), (2739, 0.28346312666872564), (2740, 0.23825897506402494), (2741, 0.24098145745562594), (2742, 0.13078825409370246), (2743, 0.6530349879446009), (2744, 0.26170274864909593), (2745, 0.17693298481468098), (2746, 0.26170274864909593), (2747, 0.26170274864909593), (2748, 0.26170274864909593), (2749, 0.10339356284639707), (2750, 0.09540961227009447), (2751, 0.13078825409370246), (2752, 0.28346312666872564), (2753, 0.42251562901133605), (2754, 0.11271443336269898), (2755, 0.21886902768455083), (2756, 0.10230878315119958), (2757, 0.42251562901133605), (2758, 0.5198166254606322), (2759, 0.14356931167742856), (2760, 0.42251562901133605), (2761, 0.2969365696941186), (2762, 0.12375448631866116), (2763, 0.12442752943226194), (2764, 0.26170274864909593), (2765, 0.42251562901133605), (2766, 0.5638341483457363), (2767, 0.20267199728327695), (2768, 0.21570392848760075), (2769, 0.26170274864909593), (2770, 0.10230878315119958), (2771, 0.17859561855903203), (2772, 0.0984032128375906), (2773, 0.16859187786948177), (2774, 0.13689031068162444), (2775, 0.2969365696941186), (2776, 0.26170274864909593), (2777, 0.14887620639526505), (2778, 0.26127712573150397), (2779, 0.7446194931247798), (2780, 0.10508655077950065), (2781, 0.10856745756725035), (2782, 0.24098145745562594), (2783, 0.42251562901133605), (2784, 0.24397892028690443), (2785, 0.12191894638299103), (2786, 0.3359356668000059), (2787, 0.14511764860071796), (2788, 0.13078825409370246), (2789, 0.09741059365981483), (2790, 0.11680614086116985), (2791, 0.13078825409370246), (2792, 0.42251562901133605), (2793, 0.16859187786948177), (2794, 0.16360750867246077), (2795, 0.21570392848760075), (2796, 0.16475374777194354), (2797, 0.26170274864909593), (2798, 0.2969365696941186), (2799, 0.14844859700577456), (2800, 0.22557641044757626), (2801, 0.14356931167742856), (2802, 0.7446194931247798), (2803, 0.6418068349213448), (2804, 0.10590810108889781), (2805, 0.16360750867246077), (2806, 0.11769955928609332), (2807, 0.48484528637728397), (2808, 0.24397892028690443), (2809, 0.2969365696941186), (2810, 0.12937123636081402), (2811, 0.10141073036807638), (2812, 0.1774097725280064), (2813, 0.3136465276891126), (2814, 0.14844859700577456), (2815, 0.14885977272043888), (2816, 0.16360750867246077), (2817, 0.16360750867246077), (2818, 0.224830662431076), (2819, 0.484312598125562), (2820, 0.14511764860071796), (2821, 0.19651866087474365), (2822, 0.3576820151939876), (2823, 0.224830662431076), (2824, 0.10824780061160146), (2825, 0.1347070203388727), (2826, 0.24567188681418672), (2827, 0.12191894638299103), (2828, 0.09227868358446567), (2829, 0.14880161040720175), (2830, 0.515999241430717), (2831, 0.15541771171741048), (2832, 0.26170274864909593), (2833, 0.15667378361952497), (2834, 0.26170274864909593), (2835, 0.1282706039938143), (2836, 0.16360750867246077), (2837, 0.3692155000454744), (2838, 0.26170274864909593), (2839, 0.16859187786948177), (2840, 0.26127712573150397), (2841, 0.42251562901133605), (2842, 0.20339637823148113), (2843, 0.34292788247232925), (2844, 0.14907904978401842), (2845, 0.2227526579826592), (2846, 0.3359356668000059), (2847, 0.42650924810754015), (2848, 0.5887939699781928), (2849, 0.28346312666872564), (2850, 0.10339356284639707), (2851, 0.16807896873197933), (2852, 0.224830662431076), (2853, 0.42251562901133605), (2854, 0.26127712573150397), (2855, 0.16360750867246077), (2856, 0.08790916092142584), (2857, 0.26170274864909593), (2858, 0.3359356668000059), (2859, 0.2969365696941186), (2860, 0.10339356284639707), (2861, 0.42251562901133605), (2862, 0.1799060152238968), (2863, 0.2969365696941186), (2864, 0.5417657151068687), (2865, 0.12191894638299103), (2866, 0.16360750867246077), (2867, 0.3487112170095469), (2868, 0.22557641044757626), (2869, 0.12375448631866116), (2870, 0.2969365696941186), (2871, 0.11997711051565467), (2872, 0.26170274864909593), (2873, 0.14844859700577456), (2874, 0.11717620377818624), (2875, 0.224830662431076), (2876, 0.26170274864909593), (2877, 0.16360750867246077), (2878, 0.19651866087474365), (2879, 0.22120519376101744), (2880, 0.0792124541798548), (2881, 0.19948392290596711), (2882, 0.3359356668000059), (2883, 0.2969365696941186), (2884, 0.3359356668000059), (2885, 0.1031030277483371), (2886, 0.18677352159053953), (2887, 0.22230611442259507), (2888, 0.6829390770758129), (2889, 0.24935784535483707), (2890, 0.2969365696941186), (2891, 0.16360750867246077), (2892, 0.2969365696941186), (2893, 0.26170274864909593), (2894, 0.2969365696941186), (2895, 0.24567188681418672), (2896, 0.224830662431076), (2897, 0.13095163219943884), (2898, 0.10339356284639707), (2899, 0.15947891323005448), (2900, 0.42251562901133605), (2901, 0.26763895800256604), (2902, 0.42251562901133605), (2903, 0.21570392848760075), (2904, 0.2969365696941186), (2905, 0.12375448631866116), (2906, 0.12191894638299103), (2907, 0.2969365696941186), (2908, 0.21570392848760075), (2909, 0.42251562901133605), (2910, 0.1768506769571036), (2911, 0.2969365696941186), (2912, 0.206666516087713), (2913, 0.1347070203388727), (2914, 0.3359356668000059), (2915, 0.2969365696941186), (2916, 0.1544132464332762), (2917, 0.22120519376101744), (2918, 0.13078825409370246), (2919, 0.24397892028690443), (2920, 0.1963940266019389), (2921, 0.16859187786948177), (2922, 0.17111461853069052), (2923, 0.42251562901133605), (2924, 0.26170274864909593), (2925, 0.223278067563858), (2926, 0.16475374777194354), (2927, 0.29990947122666833), (2928, 0.16360750867246077), (2929, 0.11138082555674446), (2930, 0.224830662431076), (2931, 0.21406632696936276), (2932, 0.19145868148352155), (2933, 0.26170274864909593), (2934, 0.19245940884522444), (2935, 0.5639330661623067), (2936, 0.42251562901133605), (2937, 0.24567188681418672), (2938, 0.38742130842612077), (2939, 0.13599301668662364), (2940, 0.4961067191394418), (2941, 0.224830662431076), (2942, 0.42251562901133605), (2943, 0.2497313533446277), (2944, 0.08482833750708024), (2945, 0.26170274864909593), (2946, 0.48984955077259285), (2947, 0.16328922425010584), (2948, 0.15667378361952497), (2949, 0.14356931167742856), (2950, 0.10339356284639707), (2951, 0.224830662431076), (2952, 0.16859187786948177), (2953, 0.42251562901133605), (2954, 0.3359356668000059), (2955, 0.3566332276250594), (2956, 0.5186136977629994), (2957, 0.42251562901133605), (2958, 0.20339637823148113), (2959, 0.1198677734831664), (2960, 0.13278369518155517), (2961, 0.24397892028690443), (2962, 0.1347070203388727), (2963, 0.13078825409370246), (2964, 0.42251562901133605), (2965, 0.2227526579826592), (2966, 0.22570312730641315), (2967, 0.11790240343848338), (2968, 0.224830662431076), (2969, 0.20267199728327695), (2970, 0.3359356668000059), (2971, 0.1347070203388727), (2972, 0.24098145745562594), (2973, 0.16360750867246077), (2974, 0.19844945398312416), (2975, 0.2969365696941186), (2976, 0.3359356668000059), (2977, 0.22557641044757626), (2978, 0.11814085082857032), (2979, 0.12960469148247145), (2980, 0.26763895800256604), (2981, 0.22120519376101744), (2982, 0.09411436000670671), (2983, 0.16360750867246077), (2984, 0.11138082555674446), (2985, 0.42251562901133605), (2986, 0.18520719178990977), (2987, 0.42251562901133605), (2988, 0.31692974383049843), (2989, 0.31167144351388154), (2990, 0.17111461853069052), (2991, 0.14356931167742856), (2992, 0.12397625205212041), (2993, 0.42251562901133605), (2994, 0.15667378361952497), (2995, 0.18992588797564408), (2996, 0.19145868148352155), (2997, 0.42251562901133605), (2998, 0.20029020647080337), (2999, 0.26170274864909593), (3000, 0.42251562901133605), (3001, 0.10824780061160146), (3002, 0.1106710049714294), (3003, 0.3359356668000059), (3004, 0.19651866087474365), (3005, 0.14356931167742856), (3006, 0.12375448631866116), (3007, 0.42251562901133605), (3008, 0.5507269168355114), (3009, 0.16360750867246077), (3010, 0.42251562901133605), (3011, 0.1345615552426614), (3012, 0.24397892028690443), (3013, 0.2969365696941186), (3014, 0.6064718856104543), (3015, 0.2969365696941186), (3016, 0.3359356668000059), (3017, 0.16360750867246077), (3018, 0.0922959172512768), (3019, 0.24397892028690443), (3020, 0.3359356668000059), (3021, 0.10824780061160146), (3022, 0.10680448758745494), (3023, 0.16859187786948177), (3024, 0.20267199728327695), (3025, 0.09540961227009447), (3026, 0.3359356668000059), (3027, 0.24935784535483707), (3028, 0.22557641044757626), (3029, 0.12375448631866116), (3030, 0.2969365696941186), (3031, 0.42251562901133605), (3032, 0.31692974383049843), (3033, 0.14844859700577456), (3034, 0.09015432885711398), (3035, 0.31692974383049843), (3036, 0.8363388804806571), (3037, 0.3359356668000059), (3038, 0.224830662431076), (3039, 0.16360750867246077), (3040, 0.3359356668000059), (3041, 0.224830662431076), (3042, 0.3359356668000059), (3043, 0.24397892028690443), (3044, 0.19033079986091953), (3045, 0.09595011269269797), (3046, 0.22557641044757626), (3047, 0.12914093023833523), (3048, 0.10824780061160146), (3049, 0.20790635966579069), (3050, 0.26170274864909593), (3051, 0.4787928007090346), (3052, 0.42251562901133605), (3053, 0.1171322141598015), (3054, 0.224830662431076), (3055, 0.42251562901133605), (3056, 0.2969365696941186), (3057, 0.42251562901133605), (3058, 0.43185799912974876), (3059, 0.11598823909645205), (3060, 0.224830662431076), (3061, 0.16360750867246077), (3062, 0.14462722742005887), (3063, 0.11957227164098491), (3064, 0.20267199728327695), (3065, 0.21861987160865357), (3066, 0.14844859700577456), (3067, 0.2969365696941186), (3068, 0.10824780061160146), (3069, 0.42251562901133605), (3070, 0.1208763084359316), (3071, 0.26170274864909593), (3072, 0.2969365696941186), (3073, 0.224830662431076), (3074, 0.3359356668000059), (3075, 0.2969365696941186), (3076, 0.28346312666872564), (3077, 0.16360750867246077), (3078, 0.12603392139334885), (3079, 0.09741059365981483), (3080, 0.10230878315119958), (3081, 0.18727591826517132), (3082, 0.224830662431076), (3083, 0.16360750867246077), (3084, 0.3359356668000059), (3085, 0.13078825409370246), (3086, 0.1996484786617149), (3087, 0.224830662431076), (3088, 0.224830662431076), (3089, 0.3537634915917961), (3090, 0.224830662431076), (3091, 0.4926957325726736), (3092, 0.16859187786948177), (3093, 0.692139244484234), (3094, 0.2969365696941186), (3095, 0.28346312666872564), (3096, 0.20029020647080337), (3097, 0.2214161950990944), (3098, 0.16360750867246077), (3099, 0.0954480060247614), (3100, 0.09672973779191392), (3101, 0.42251562901133605), (3102, 0.5656726976330729), (3103, 0.11790240343848338), (3104, 0.224830662431076), (3105, 0.0977980200099224), (3106, 0.224830662431076), (3107, 0.12375448631866116), (3108, 0.20542888441957535), (3109, 0.16360750867246077), (3110, 0.1145694900204234), (3111, 0.22530045534904217), (3112, 0.20848034130303114), (3113, 0.3359356668000059), (3114, 0.09169924537685628), (3115, 0.17111461853069052), (3116, 0.2969365696941186), (3117, 0.20790635966579069), (3118, 0.09922703208136761), (3119, 0.28346312666872564), (3120, 0.28346312666872564), (3121, 0.13532114545478915), (3122, 0.1865811808041037), (3123, 0.1648058653539824), (3124, 0.13278369518155517), (3125, 0.31692974383049843), (3126, 0.41192454923502847), (3127, 0.15667378361952497), (3128, 0.42251562901133605), (3129, 0.13278369518155517), (3130, 0.142058632725914), (3131, 0.0869544512331262), (3132, 0.10339356284639707), (3133, 0.09672973779191392), (3134, 0.09672973779191392), (3135, 0.13278369518155517), (3136, 0.13278369518155517), (3137, 0.26170274864909593), (3138, 0.1155785186912302), (3139, 0.3359356668000059), (3140, 0.2969365696941186), (3141, 0.32925399875613875), (3142, 0.12278109865581116), (3143, 0.16328922425010584), (3144, 0.10489182488587262), (3145, 0.09540961227009447), (3146, 0.206666516087713), (3147, 0.26170274864909593), (3148, 0.2969365696941186), (3149, 0.15667378361952497), (3150, 0.3359356668000059), (3151, 0.26763895800256604), (3152, 0.1584001246902389), (3153, 0.22120519376101744), (3154, 0.24397892028690443), (3155, 0.2523385420293202), (3156, 0.13278369518155517), (3157, 0.42251562901133605), (3158, 0.09741059365981483), (3159, 0.42251562901133605), (3160, 0.10066946911699012), (3161, 0.13474123612198208), (3162, 0.5656726976330729), (3163, 0.13278369518155517), (3164, 0.224830662431076), (3165, 0.2497313533446277), (3166, 0.26170274864909593), (3167, 0.42251562901133605), (3168, 0.12397625205212041), (3169, 0.17111461853069052), (3170, 0.2969365696941186), (3171, 0.20884963347744223), (3172, 0.13689031068162444), (3173, 0.42251562901133605), (3174, 0.6042191544537332), (3175, 0.16360750867246077), (3176, 0.12375448631866116), (3177, 0.16360750867246077), (3178, 0.26170274864909593), (3179, 0.14356931167742856), (3180, 0.1049034193063831), (3181, 0.08182188003576044), (3182, 0.26170274864909593), (3183, 0.26170274864909593), (3184, 0.5887939699781928), (3185, 0.16328922425010584), (3186, 0.42251562901133605), (3187, 0.24098145745562594), (3188, 0.16360750867246077), (3189, 0.12603392139334885), (3190, 0.224830662431076), (3191, 0.3312262017597385), (3192, 0.1347070203388727), (3193, 0.10339356284639707), (3194, 0.26170274864909593), (3195, 0.23411821433756724), (3196, 0.31692974383049843), (3197, 0.224830662431076), (3198, 0.15324747395688348), (3199, 0.14489407456523729), (3200, 0.2969365696941186), (3201, 0.12914093023833523), (3202, 0.0980656291880279), (3203, 0.224830662431076), (3204, 0.14844859700577456), (3205, 0.08978656201343502), (3206, 0.24567188681418672), (3207, 0.224830662431076), (3208, 0.1155785186912302), (3209, 0.224830662431076), (3210, 0.21570392848760075), (3211, 0.42251562901133605), (3212, 0.14844859700577456), (3213, 0.16328922425010584), (3214, 0.26170274864909593), (3215, 0.13278369518155517), (3216, 0.42251562901133605), (3217, 0.16360750867246077), (3218, 0.26170274864909593), (3219, 0.26763895800256604), (3220, 0.26170274864909593), (3221, 0.12937123636081402), (3222, 0.12375448631866116), (3223, 0.1171322141598015), (3224, 0.3359356668000059), (3225, 0.1936174097363334), (3226, 0.42251562901133605), (3227, 0.26127712573150397), (3228, 0.31692974383049843), (3229, 0.16360750867246077), (3230, 0.42251562901133605), (3231, 0.10590810108889781), (3232, 0.10681102828458613), (3233, 0.19485867491583542), (3234, 0.24098145745562594), (3235, 0.22570312730641315), (3236, 0.14844859700577456), (3237, 0.2969365696941186), (3238, 0.3359356668000059), (3239, 0.3359356668000059), (3240, 0.42251562901133605), (3241, 0.13977005334270498), (3242, 0.42251562901133605), (3243, 0.42251562901133605), (3244, 0.14880161040720175), (3245, 0.11717620377818624), (3246, 0.26170274864909593), (3247, 0.10680448758745494), (3248, 0.2969365696941186), (3249, 0.3359356668000059), (3250, 0.14880161040720175), (3251, 0.12375448631866116), (3252, 0.42251562901133605), (3253, 0.17111461853069052), (3254, 0.2969365696941186), (3255, 0.08138683686212107), (3256, 0.10856745756725035), (3257, 0.3359356668000059), (3258, 0.26170274864909593), (3259, 0.1347070203388727), (3260, 0.3359356668000059), (3261, 0.12375448631866116), (3262, 0.17256427098521404), (3263, 0.16328922425010584), (3264, 0.2227526579826592), (3265, 0.12466725786016215), (3266, 0.224830662431076), (3267, 0.2214161950990944), (3268, 0.2969365696941186), (3269, 0.42251562901133605), (3270, 0.10890683529252858), (3271, 0.26170274864909593), (3272, 0.35586671294924443), (3273, 0.2969365696941186), (3274, 0.2969365696941186), (3275, 0.21570392848760075), (3276, 0.21172071742647136), (3277, 0.224830662431076), (3278, 0.20256381522188152), (3279, 0.14356931167742856), (3280, 0.13346584018998722), (3281, 0.12191894638299103), (3282, 0.26170274864909593), (3283, 0.3359356668000059), (3284, 0.31692974383049843), (3285, 0.8363388804806571), (3286, 0.3422462206950023), (3287, 0.098033559344478), (3288, 0.16360750867246077), (3289, 0.3359356668000059), (3290, 0.3359356668000059), (3291, 0.2969365696941186), (3292, 0.42251562901133605), (3293, 0.28346312666872564), (3294, 0.12914093023833523), (3295, 0.16360750867246077), (3296, 0.2969365696941186), (3297, 0.27162293022630135), (3298, 0.18992588797564408), (3299, 0.42251562901133605), (3300, 0.2969365696941186), (3301, 0.22557641044757626), (3302, 0.2969365696941186), (3303, 0.17275514497440772), (3304, 0.18520719178990977), (3305, 0.12914093023833523), (3306, 0.24155555349963556), (3307, 0.42251562901133605), (3308, 0.26170274864909593), (3309, 0.224830662431076), (3310, 0.49702364493033513), (3311, 0.17110668165383783), (3312, 0.13078825409370246), (3313, 0.42251562901133605), (3314, 0.7446194931247798), (3315, 0.26170274864909593), (3316, 0.6530349879446009), (3317, 0.1800411269917304), (3318, 0.21063422593948203), (3319, 0.12466725786016215), (3320, 0.14880161040720175), (3321, 0.224830662431076), (3322, 0.42251562901133605), (3323, 0.10890683529252858), (3324, 0.224830662431076), (3325, 0.22120519376101744), (3326, 0.19651866087474365), (3327, 0.23825897506402494), (3328, 0.6829390770758129), (3329, 0.3359356668000059), (3330, 0.1865811808041037), (3331, 0.19485867491583542), (3332, 0.0839815844619607), (3333, 0.12375448631866116), (3334, 0.11997711051565467), (3335, 0.2969365696941186), (3336, 0.31167144351388154), (3337, 0.3359356668000059), (3338, 0.11138082555674446), (3339, 0.16328922425010584), (3340, 0.1219911792890298), (3341, 0.42251562901133605), (3342, 0.24822258996043794), (3343, 0.17111461853069052), (3344, 0.31692974383049843), (3345, 0.12375448631866116), (3346, 0.17547161367973077), (3347, 0.17256427098521404), (3348, 0.3359356668000059), (3349, 0.275082368988544), (3350, 0.224830662431076), (3351, 0.3359356668000059), (3352, 0.26170274864909593), (3353, 0.692139244484234), (3354, 0.42251562901133605), (3355, 0.692139244484234), (3356, 0.12375448631866116), (3357, 0.2273785373780136), (3358, 0.42251562901133605), (3359, 0.2969365696941186), (3360, 0.22230611442259507), (3361, 0.09672973779191392), (3362, 0.42251562901133605), (3363, 0.17693298481468098), (3364, 0.26170274864909593), (3365, 0.20267199728327695), (3366, 0.0773507434395208), (3367, 0.09672973779191392), (3368, 0.11598823909645205), (3369, 0.42251562901133605), (3370, 0.24397892028690443), (3371, 0.16360750867246077), (3372, 0.42251562901133605), (3373, 0.27162293022630135), (3374, 0.14217391864080872), (3375, 0.16360750867246077), (3376, 0.42251562901133605), (3377, 0.12568667249623058), (3378, 0.224830662431076), (3379, 0.22557641044757626), (3380, 0.2969365696941186), (3381, 0.42251562901133605), (3382, 0.2523385420293202), (3383, 0.17111461853069052), (3384, 0.13078825409370246), (3385, 0.09741059365981483), (3386, 0.44080141712369614), (3387, 0.46755984039099124), (3388, 0.26170274864909593), (3389, 0.17251412467166805), (3390, 0.42251562901133605), (3391, 0.2969365696941186), (3392, 0.42251562901133605), (3393, 0.20891565177768012), (3394, 0.4930126386208641), (3395, 0.098033559344478), (3396, 0.42251562901133605), (3397, 0.098033559344478), (3398, 0.44853995583156475), (3399, 0.22557641044757626), (3400, 0.16360750867246077), (3401, 0.16859187786948177), (3402, 0.206666516087713), (3403, 0.17402421454372471), (3404, 0.323612302321728), (3405, 0.09672973779191392), (3406, 0.2969365696941186), (3407, 0.23449854348853955), (3408, 0.4221286255988309), (3409, 0.6880397435952375), (3410, 0.3359356668000059), (3411, 0.14880161040720175), (3412, 0.42251562901133605), (3413, 0.26170274864909593), (3414, 0.42251562901133605), (3415, 0.224830662431076), (3416, 0.4222297112028573), (3417, 0.15947263333968992), (3418, 0.2523385420293202), (3419, 0.24567188681418672), (3420, 0.12375448631866116), (3421, 0.26170274864909593), (3422, 0.224830662431076), (3423, 0.42251562901133605), (3424, 0.13903814824226493), (3425, 0.2969365696941186), (3426, 0.11590369711197415), (3427, 0.10339356284639707), (3428, 0.224830662431076), (3429, 0.16328922425010584), (3430, 0.3359356668000059), (3431, 0.42251562901133605), (3432, 0.1198677734831664), (3433, 0.23411821433756724), (3434, 0.2969365696941186), (3435, 0.31692974383049843), (3436, 0.31692974383049843), (3437, 0.1996484786617149), (3438, 0.16328922425010584), (3439, 0.12463518878010646), (3440, 0.12610331867758162), (3441, 0.31167144351388154), (3442, 0.224830662431076), (3443, 0.14511764860071796), (3444, 0.098033559344478), (3445, 0.8410458258382851), (3446, 0.14356931167742856), (3447, 0.26170274864909593), (3448, 0.13278369518155517), (3449, 0.26170274864909593), (3450, 0.21570392848760075), (3451, 0.16328922425010584), (3452, 0.19485867491583542), (3453, 0.11598823909645205), (3454, 0.46419171127758824), (3455, 0.42251562901133605), (3456, 0.14356931167742856), (3457, 0.1155785186912302), (3458, 0.42251562901133605), (3459, 0.4449541927631008), (3460, 0.22120519376101744), (3461, 0.3422462206950023), (3462, 0.224830662431076), (3463, 0.3566332276250594), (3464, 0.4305729770814247), (3465, 0.13078825409370246), (3466, 0.13078825409370246), (3467, 0.10339356284639707), (3468, 0.10680448758745494), (3469, 0.10339356284639707), (3470, 0.44853995583156475), (3471, 0.23411821433756724), (3472, 0.4449541927631008), (3473, 0.09150906619405971), (3474, 0.23411821433756724), (3475, 0.224830662431076), (3476, 0.1155785186912302), (3477, 0.26170274864909593), (3478, 0.42251562901133605), (3479, 0.26170274864909593), (3480, 0.3692155000454744), (3481, 0.10856745756725035), (3482, 0.1031030277483371), (3483, 0.24397892028690443), (3484, 0.10066946911699012), (3485, 0.10856745756725035), (3486, 0.13278369518155517), (3487, 0.23411821433756724), (3488, 0.11138082555674446), (3489, 0.16360750867246077), (3490, 0.16360750867246077), (3491, 0.8363388804806571), (3492, 0.515999241430717), (3493, 0.26170274864909593), (3494, 0.224830662431076), (3495, 0.14356931167742856), (3496, 0.26170274864909593), (3497, 0.42251562901133605), (3498, 0.31692974383049843), (3499, 0.31692974383049843), (3500, 0.26170274864909593), (3501, 0.31692974383049843), (3502, 0.10066946911699012), (3503, 0.1822485564083257), (3504, 0.1145694900204234), (3505, 0.1155785186912302), (3506, 0.2969365696941186), (3507, 0.13078825409370246), (3508, 0.15667378361952497), (3509, 0.224830662431076), (3510, 0.224830662431076), (3511, 0.2969365696941186), (3512, 0.21443030418329115), (3513, 0.09316115146569826), (3514, 0.23630620732809635), (3515, 0.10028965275304373), (3516, 0.15947891323005448), (3517, 0.21443030418329115), (3518, 0.224830662431076), (3519, 0.224830662431076), (3520, 0.13278369518155517), (3521, 0.31692974383049843), (3522, 0.44556381238995424), (3523, 0.42251562901133605), (3524, 0.2969365696941186), (3525, 0.7087717782935046), (3526, 0.26170274864909593), (3527, 0.8363388804806571), (3528, 0.10014445626805085), (3529, 0.16360750867246077), (3530, 0.16859187786948177), (3531, 0.1347070203388727), (3532, 0.10339356284639707), (3533, 0.08592341051241188), (3534, 0.42251562901133605), (3535, 0.11997711051565467), (3536, 0.42251562901133605), (3537, 0.3359356668000059), (3538, 0.3359356668000059), (3539, 0.3136465276891126), (3540, 0.42251562901133605), (3541, 0.26170274864909593), (3542, 0.21328542420875962), (3543, 0.224830662431076), (3544, 0.3359356668000059), (3545, 0.10544587665039898), (3546, 0.23825897506402494), (3547, 0.16859187786948177), (3548, 0.42251562901133605), (3549, 0.16360750867246077), (3550, 0.12191894638299103), (3551, 0.2969365696941186), (3552, 0.26170274864909593), (3553, 0.1494382895439221), (3554, 0.12937123636081402), (3555, 0.13278369518155517), (3556, 0.26127712573150397), (3557, 0.26763895800256604), (3558, 0.15947263333968992), (3559, 0.39694320726421517), (3560, 0.2497313533446277), (3561, 0.42251562901133605), (3562, 0.10856745756725035), (3563, 0.224830662431076), (3564, 0.19535286924837073), (3565, 0.3359356668000059), (3566, 0.5186136977629994), (3567, 0.18565003433627728), (3568, 0.09691467604731512), (3569, 0.8363388804806571), (3570, 0.15667378361952497), (3571, 0.275082368988544), (3572, 0.224830662431076), (3573, 0.12375448631866116), (3574, 0.098033559344478), (3575, 0.18520719178990977), (3576, 0.10066946911699012), (3577, 0.5474092970153459), (3578, 0.18565003433627728), (3579, 0.15324747395688348), (3580, 0.14880161040720175), (3581, 0.14844859700577456), (3582, 0.10681102828458613), (3583, 0.14356931167742856), (3584, 0.11465373267570912), (3585, 0.1152586118149726), (3586, 0.10183266368471888), (3587, 0.5813646817585733), (3588, 0.16328922425010584), (3589, 0.16360750867246077), (3590, 0.22557641044757626), (3591, 0.17111461853069052), (3592, 0.48484528637728397), (3593, 0.31167144351388154), (3594, 0.11356492575946549), (3595, 0.10890683529252858), (3596, 0.42251562901133605), (3597, 0.1246693603405489), (3598, 0.1329546758112592), (3599, 0.26170274864909593), (3600, 0.15182206853043462), (3601, 0.26170274864909593), (3602, 0.16328922425010584), (3603, 0.13903814824226493), (3604, 0.1198677734831664), (3605, 0.10680448758745494), (3606, 0.3359356668000059), (3607, 0.09150906619405971), (3608, 0.42251562901133605), (3609, 0.44556381238995424), (3610, 0.14844859700577456), (3611, 0.42251562901133605), (3612, 0.19427191443239383), (3613, 0.5548535865843454), (3614, 0.2969365696941186), (3615, 0.42251562901133605), (3616, 0.3359356668000059), (3617, 0.13562967496430284), (3618, 0.31692974383049843), (3619, 0.11138082555674446), (3620, 0.26763895800256604), (3621, 0.3359356668000059), (3622, 0.224830662431076), (3623, 0.1795198033501711), (3624, 0.20409699256913869), (3625, 0.12914093023833523), (3626, 0.26170274864909593), (3627, 0.42251562901133605), (3628, 0.09189332541093187), (3629, 0.2901802634428017), (3630, 0.13689031068162444), (3631, 0.1155785186912302), (3632, 0.5656726976330729), (3633, 0.10856745756725035), (3634, 0.21328542420875962), (3635, 0.21861987160865357), (3636, 0.42251562901133605), (3637, 0.6369586463012474), (3638, 0.24822258996043794), (3639, 0.2227526579826592), (3640, 0.24397892028690443), (3641, 0.4193655551232952), (3642, 0.21570392848760075), (3643, 0.26763895800256604), (3644, 0.16360750867246077), (3645, 0.14887620639526505), (3646, 0.26170274864909593), (3647, 0.42251562901133605), (3648, 0.16360750867246077), (3649, 0.12466725786016215), (3650, 0.10544587665039898), (3651, 0.42251562901133605), (3652, 0.13599301668662364), (3653, 0.31692974383049843), (3654, 0.2969365696941186), (3655, 0.2969365696941186), (3656, 0.42251562901133605), (3657, 0.5262868913113005), (3658, 0.1347070203388727), (3659, 0.15060071192396793), (3660, 0.21570392848760075), (3661, 0.31692974383049843), (3662, 0.224830662431076), (3663, 0.12375448631866116), (3664, 0.14356931167742856), (3665, 0.3359356668000059), (3666, 0.23411821433756724), (3667, 0.19651866087474365), (3668, 0.31167144351388154), (3669, 0.15947263333968992), (3670, 0.19145868148352155), (3671, 0.10856745756725035), (3672, 0.42251562901133605), (3673, 0.24098145745562594), (3674, 0.13599301668662364), (3675, 0.24397892028690443), (3676, 0.09135244012450239), (3677, 0.2227526579826592), (3678, 0.26170274864909593), (3679, 0.09586606148527263), (3680, 0.26127712573150397), (3681, 0.16360750867246077), (3682, 0.08592341051241188), (3683, 0.224830662431076), (3684, 0.1208763084359316), (3685, 0.08052706717143976), (3686, 0.16360750867246077), (3687, 0.42251562901133605), (3688, 0.10242412545256913), (3689, 0.19535286924837073), (3690, 0.10339356284639707), (3691, 0.42251562901133605), (3692, 0.1795198033501711), (3693, 0.10339356284639707), (3694, 0.19145868148352155), (3695, 0.43185799912974876), (3696, 0.31692974383049843), (3697, 0.46419171127758824), (3698, 0.5186136977629994), (3699, 0.24397892028690443), (3700, 0.09691467604731512), (3701, 0.42251562901133605), (3702, 0.16859187786948177), (3703, 0.10705359603949059), (3704, 0.22120519376101744), (3705, 0.22120519376101744), (3706, 0.14915891425252073), (3707, 0.31167144351388154), (3708, 0.13078825409370246), (3709, 0.3796081260894502), (3710, 0.16328922425010584), (3711, 0.1145694900204234), (3712, 0.224830662431076), (3713, 0.15060071192396793), (3714, 0.21328542420875962), (3715, 0.14511764860071796), (3716, 0.16360750867246077), (3717, 0.12375448631866116), (3718, 0.0948020350457674), (3719, 0.42251562901133605), (3720, 0.09405365538047297), (3721, 0.15672762338571175), (3722, 0.224830662431076), (3723, 0.484312598125562), (3724, 0.10014445626805085), (3725, 0.22557641044757626), (3726, 0.13532114545478915), (3727, 0.31692974383049843), (3728, 0.5198166254606322), (3729, 0.42251562901133605), (3730, 0.224830662431076), (3731, 0.13346584018998722), (3732, 0.5656726976330729), (3733, 0.3359356668000059), (3734, 0.15947891323005448), (3735, 0.098033559344478), (3736, 0.224830662431076), (3737, 0.42251562901133605), (3738, 0.44556381238995424), (3739, 0.3359356668000059), (3740, 0.224830662431076), (3741, 0.13078825409370246), (3742, 0.5717271642611946), (3743, 0.10339356284639707), (3744, 0.09672973779191392), (3745, 0.2969365696941186), (3746, 0.16859187786948177), (3747, 0.08963944320147127), (3748, 0.16360750867246077), (3749, 0.6530349879446009), (3750, 0.12375448631866116), (3751, 0.22557641044757626), (3752, 0.3782395340653194), (3753, 0.12603392139334885), (3754, 0.3359356668000059), (3755, 0.3359356668000059), (3756, 0.24397892028690443), (3757, 0.42251562901133605), (3758, 0.12624974188063348), (3759, 0.224830662431076), (3760, 0.12375448631866116), (3761, 0.19111639546519515), (3762, 0.42251562901133605), (3763, 0.24098145745562594), (3764, 0.1152586118149726), (3765, 0.3359356668000059), (3766, 0.24397892028690443), (3767, 0.26170274864909593), (3768, 0.11997711051565467), (3769, 0.11138082555674446), (3770, 0.42251562901133605), (3771, 0.26127712573150397), (3772, 0.3359356668000059), (3773, 0.08921587482547898), (3774, 0.20790635966579069), (3775, 0.15060071192396793), (3776, 0.652581597256565), (3777, 0.24397892028690443), (3778, 0.2227526579826592), (3779, 0.42251562901133605), (3780, 0.31692974383049843), (3781, 0.42251562901133605), (3782, 0.13278369518155517), (3783, 0.3566332276250594), (3784, 0.22557641044757626), (3785, 0.43185799912974876), (3786, 0.46419171127758824), (3787, 0.09672973779191392), (3788, 0.14356931167742856), (3789, 0.224830662431076), (3790, 0.3700292397593583), (3791, 0.224830662431076), (3792, 0.26170274864909593), (3793, 0.14356931167742856), (3794, 0.13078825409370246), (3795, 0.1658411608512903), (3796, 0.14844859700577456), (3797, 0.19485867491583542), (3798, 0.3566332276250594), (3799, 0.6530349879446009), (3800, 0.16360750867246077), (3801, 0.24397892028690443), (3802, 0.09405365538047297), (3803, 0.098033559344478), (3804, 0.2969365696941186), (3805, 0.3422462206950023), (3806, 0.20790635966579069), (3807, 0.21570392848760075), (3808, 0.16360750867246077), (3809, 0.2969365696941186), (3810, 0.14356931167742856), (3811, 0.3359356668000059), (3812, 0.3700292397593583), (3813, 0.26763895800256604), (3814, 0.16328922425010584), (3815, 0.14356931167742856), (3816, 0.1155785186912302), (3817, 0.1031030277483371), (3818, 0.224830662431076), (3819, 0.24397892028690443), (3820, 0.224830662431076), (3821, 0.42251562901133605), (3822, 0.24098145745562594), (3823, 0.14356931167742856), (3824, 0.14356931167742856), (3825, 0.12375448631866116), (3826, 0.23825897506402494), (3827, 0.17256427098521404), (3828, 0.0992985540060548), (3829, 0.2969365696941186), (3830, 0.12375448631866116), (3831, 0.16859187786948177), (3832, 0.3359356668000059), (3833, 0.14356931167742856), (3834, 0.094864805290069), (3835, 0.7446194931247798), (3836, 0.224830662431076), (3837, 0.224830662431076), (3838, 0.12375448631866116), (3839, 0.26170274864909593), (3840, 0.10339356284639707), (3841, 0.31692974383049843), (3842, 0.10985215309639847), (3843, 0.1155785186912302), (3844, 0.13074880165178304), (3845, 0.18520719178990977), (3846, 0.4449541927631008), (3847, 0.38742130842612077), (3848, 0.42251562901133605), (3849, 0.11346615739081832), (3850, 0.10680448758745494), (3851, 0.16360750867246077), (3852, 0.14356931167742856), (3853, 0.11138082555674446), (3854, 0.24397892028690443), (3855, 0.3359356668000059), (3856, 0.16360750867246077), (3857, 0.42251562901133605), (3858, 0.14844859700577456), (3859, 0.12624974188063348), (3860, 0.13078825409370246), (3861, 0.224830662431076), (3862, 0.21570392848760075), (3863, 0.42251562901133605), (3864, 0.224830662431076), (3865, 0.098033559344478), (3866, 0.26170274864909593), (3867, 0.19651866087474365), (3868, 0.26170274864909593), (3869, 0.10339356284639707), (3870, 0.3576820151939876), (3871, 0.1031030277483371), (3872, 0.16859187786948177), (3873, 0.21328542420875962), (3874, 0.42251562901133605), (3875, 0.26170274864909593), (3876, 0.31692974383049843), (3877, 0.2901802634428017), (3878, 0.42251562901133605), (3879, 0.16360750867246077), (3880, 0.692139244484234), (3881, 0.14356931167742856), (3882, 0.26170274864909593), (3883, 0.24397892028690443), (3884, 0.42251562901133605), (3885, 0.224830662431076), (3886, 0.09593453170886117), (3887, 0.12375448631866116), (3888, 0.17654041860606107), (3889, 0.1796576822597618), (3890, 0.3359356668000059), (3891, 0.12375448631866116), (3892, 0.24098145745562594), (3893, 0.2969365696941186), (3894, 0.42251562901133605), (3895, 0.19651866087474365), (3896, 0.224830662431076), (3897, 0.11680614086116985), (3898, 0.2969365696941186), (3899, 0.42251562901133605), (3900, 0.17551042564326555), (3901, 0.23411821433756724), (3902, 0.2227526579826592), (3903, 0.2901802634428017), (3904, 0.2969365696941186), (3905, 0.15667378361952497), (3906, 0.42251562901133605), (3907, 0.09672973779191392), (3908, 0.10680448758745494), (3909, 0.224830662431076), (3910, 0.31692974383049843), (3911, 0.42251562901133605), (3912, 0.224830662431076), (3913, 0.2969365696941186), (3914, 0.224830662431076), (3915, 0.2969365696941186), (3916, 0.224830662431076), (3917, 0.24567188681418672), (3918, 0.12375448631866116), (3919, 0.1796576822597618), (3920, 0.2227526579826592), (3921, 0.224830662431076), (3922, 0.3359356668000059), (3923, 0.08800434745685856), (3924, 0.19427191443239383), (3925, 0.2969365696941186), (3926, 0.224830662431076), (3927, 0.17256427098521404), (3928, 0.20530698367894185), (3929, 0.12375448631866116), (3930, 0.224830662431076), (3931, 0.224830662431076), (3932, 0.2969365696941186), (3933, 0.16360750867246077), (3934, 0.224830662431076), (3935, 0.42251562901133605), (3936, 0.16360750867246077), (3937, 0.10339356284639707), (3938, 0.14356931167742856), (3939, 0.42251562901133605), (3940, 0.12191894638299103), (3941, 0.2523385420293202), (3942, 0.14356931167742856), (3943, 0.10856745756725035), (3944, 0.14356931167742856), (3945, 0.42251562901133605), (3946, 0.13078825409370246), (3947, 0.10508655077950065), (3948, 0.492187164290595), (3949, 0.15667378361952497), (3950, 0.16360750867246077), (3951, 0.22557641044757626), (3952, 0.26170274864909593), (3953, 0.31167144351388154), (3954, 0.2969365696941186), (3955, 0.11598823909645205), (3956, 0.28346312666872564), (3957, 0.19485867491583542), (3958, 0.20339637823148113), (3959, 0.24397892028690443), (3960, 0.20409699256913869), (3961, 0.24397892028690443), (3962, 0.3359356668000059), (3963, 0.08178817601326403), (3964, 0.16360750867246077), (3965, 0.34292788247232925), (3966, 0.09741059365981483), (3967, 0.3359356668000059), (3968, 0.10339356284639707), (3969, 0.224830662431076), (3970, 0.14356931167742856), (3971, 0.14880161040720175), (3972, 0.10339356284639707), (3973, 0.3359356668000059), (3974, 0.31692974383049843), (3975, 0.11138082555674446), (3976, 0.09540961227009447), (3977, 0.10339356284639707), (3978, 0.21570392848760075), (3979, 0.46419171127758824), (3980, 0.3672693939258799), (3981, 0.12375448631866116), (3982, 0.10339356284639707), (3983, 0.692139244484234), (3984, 0.2523385420293202), (3985, 0.16859187786948177), (3986, 0.42251562901133605), (3987, 0.42251562901133605), (3988, 0.224830662431076), (3989, 0.14356931167742856), (3990, 0.26763895800256604), (3991, 0.1031030277483371), (3992, 0.2523385420293202), (3993, 0.13078825409370246), (3994, 0.10824780061160146), (3995, 0.14356931167742856), (3996, 0.224830662431076), (3997, 0.16328922425010584), (3998, 0.10890683529252858), (3999, 0.2969365696941186), (4000, 0.24397892028690443), (4001, 0.17111461853069052), (4002, 0.2227526579826592), (4003, 0.224830662431076), (4004, 0.24397892028690443), (4005, 0.26127712573150397), (4006, 0.16859187786948177), (4007, 0.15667378361952497), (4008, 0.224830662431076), (4009, 0.1031030277483371), (4010, 0.10856745756725035), (4011, 0.5887939699781928), (4012, 0.13903814824226493), (4013, 0.31692974383049843), (4014, 0.21328542420875962), (4015, 0.1936174097363334), (4016, 0.2901802634428017), (4017, 0.42251562901133605), (4018, 0.16360750867246077), (4019, 0.42251562901133605), (4020, 0.31167144351388154), (4021, 0.16807896873197933), (4022, 0.19111639546519515), (4023, 0.3359356668000059), (4024, 0.6530349879446009), (4025, 0.26170274864909593), (4026, 0.12466725786016215), (4027, 0.11048672006942493), (4028, 0.16859187786948177), (4029, 0.16859187786948177), (4030, 0.42251562901133605), (4031, 0.14844859700577456), (4032, 0.42251562901133605), (4033, 0.24155555349963556), (4034, 0.35586671294924443), (4035, 0.224830662431076), (4036, 0.5414237261145216), (4037, 0.10039740368843696), (4038, 0.26127712573150397), (4039, 0.16328922425010584), (4040, 0.14880161040720175), (4041, 0.10339356284639707), (4042, 0.42251562901133605), (4043, 0.1345615552426614), (4044, 0.12610331867758162), (4045, 0.14885977272043888), (4046, 0.1795198033501711), (4047, 0.20790635966579069), (4048, 0.28346312666872564), (4049, 0.3359356668000059), (4050, 0.15672762338571175), (4051, 0.26170274864909593), (4052, 0.3359356668000059), (4053, 0.28346312666872564), (4054, 0.19903896792211292), (4055, 0.46419171127758824), (4056, 0.17463544044503362), (4057, 0.12375448631866116), (4058, 0.224830662431076), (4059, 0.42251562901133605), (4060, 0.23449854348853955), (4061, 0.16360750867246077), (4062, 0.42251562901133605), (4063, 0.10824780061160146), (4064, 0.16360750867246077), (4065, 0.12375448631866116), (4066, 0.1822485564083257), (4067, 0.12375448631866116), (4068, 0.21570392848760075), (4069, 0.22557641044757626), (4070, 0.3566332276250594), (4071, 0.5011648084820146), (4072, 0.12375448631866116), (4073, 0.16360750867246077), (4074, 0.2901802634428017), (4075, 0.42251562901133605), (4076, 0.10397165272381316), (4077, 0.10339356284639707), (4078, 0.16859187786948177), (4079, 0.2969365696941186), (4080, 0.2969365696941186), (4081, 0.42251562901133605), (4082, 0.2969365696941186), (4083, 0.42251562901133605), (4084, 0.16360750867246077), (4085, 0.26831471800689144), (4086, 0.098033559344478), (4087, 0.17551042564326555), (4088, 0.13078825409370246), (4089, 0.31692974383049843), (4090, 0.14356931167742856), (4091, 0.09672973779191392), (4092, 0.31692974383049843), (4093, 0.1347070203388727), (4094, 0.1347070203388727), (4095, 0.21570392848760075), (4096, 0.15060071192396793), (4097, 0.224830662431076), (4098, 0.26127712573150397), (4099, 0.3422462206950023), (4100, 0.11598823909645205), (4101, 0.48001752207869486), (4102, 0.3359356668000059), (4103, 0.13278369518155517), (4104, 0.26170274864909593), (4105, 0.15667378361952497), (4106, 0.14356931167742856), (4107, 0.42251562901133605), (4108, 0.14880161040720175), (4109, 0.14880161040720175), (4110, 0.08138683686212107), (4111, 0.3359356668000059), (4112, 0.09189332541093187), (4113, 0.20891565177768012), (4114, 0.12535915996473038), (4115, 0.224830662431076), (4116, 0.21570392848760075), (4117, 0.26170274864909593), (4118, 0.10811845459818861), (4119, 0.16328922425010584), (4120, 0.14356931167742856), (4121, 0.1208763084359316), (4122, 0.14885977272043888), (4123, 0.24397892028690443), (4124, 0.24397892028690443), (4125, 0.224830662431076), (4126, 0.42251562901133605), (4127, 0.224830662431076), (4128, 0.10339356284639707), (4129, 0.42251562901133605), (4130, 0.24567188681418672), (4131, 0.17111461853069052), (4132, 0.3359356668000059), (4133, 0.23411821433756724), (4134, 0.14356931167742856), (4135, 0.1822485564083257), (4136, 0.49719342492937446), (4137, 0.22557641044757626), (4138, 0.2969365696941186), (4139, 0.18992588797564408), (4140, 0.3359356668000059), (4141, 0.18677352159053953), (4142, 0.24567188681418672), (4143, 0.6142249444779615), (4144, 0.10780024981623891), (4145, 0.10208340335435714), (4146, 0.1155785186912302), (4147, 0.3359356668000059), (4148, 0.13078825409370246), (4149, 0.224830662431076), (4150, 0.16859187786948177), (4151, 0.2227526579826592), (4152, 0.18812174665006395), (4153, 0.10339356284639707), (4154, 0.1648058653539824), (4155, 0.42251562901133605), (4156, 0.26170274864909593), (4157, 0.16859187786948177), (4158, 0.14356931167742856), (4159, 0.16859187786948177), (4160, 0.22230611442259507), (4161, 0.42251562901133605), (4162, 0.20790635966579069), (4163, 0.31692974383049843), (4164, 0.15060071192396793), (4165, 0.10066946911699012), (4166, 0.05807818641690962), (4167, 0.4930126386208641), (4168, 0.08547883787658304), (4169, 0.42251562901133605), (4170, 0.09540961227009447), (4171, 0.162704063678872), (4172, 0.42251562901133605), (4173, 0.10856745756725035), (4174, 0.3359356668000059), (4175, 0.2969365696941186), (4176, 0.31692974383049843), (4177, 0.4463856139054457), (4178, 0.24397892028690443), (4179, 0.09540961227009447), (4180, 0.14880161040720175), (4181, 0.10339356284639707), (4182, 0.3359356668000059), (4183, 0.2969365696941186), (4184, 0.224830662431076), (4185, 0.20339637823148113), (4186, 0.17111461853069052), (4187, 0.28346312666872564), (4188, 0.3993300114903769), (4189, 0.19145868148352155), (4190, 0.14844859700577456), (4191, 0.3700292397593583), (4192, 0.176982492358766), (4193, 0.11036627375223211), (4194, 0.13532114545478915), (4195, 0.098033559344478), (4196, 0.1031030277483371), (4197, 0.2969365696941186), (4198, 0.11048672006942493), (4199, 0.09189332541093187), (4200, 0.3359356668000059), (4201, 0.12375448631866116), (4202, 0.1799060152238968), (4203, 0.2523385420293202), (4204, 0.224830662431076), (4205, 0.2227526579826592), (4206, 0.3359356668000059), (4207, 0.10856745756725035), (4208, 0.20790635966579069), (4209, 0.42251562901133605), (4210, 0.09189332541093187), (4211, 0.13278369518155517), (4212, 0.12375448631866116), (4213, 0.3359356668000059), (4214, 0.224830662431076), (4215, 0.12375448631866116), (4216, 0.15060071192396793), (4217, 0.1152586118149726), (4218, 0.40814951601157223), (4219, 0.1345615552426614), (4220, 0.42251562901133605), (4221, 0.31167144351388154), (4222, 0.26170274864909593), (4223, 0.16360750867246077), (4224, 0.15182206853043462), (4225, 0.42251562901133605), (4226, 0.14880161040720175), (4227, 0.11997711051565467), (4228, 0.6530349879446009), (4229, 0.19111639546519515), (4230, 0.42251562901133605), (4231, 0.24397892028690443), (4232, 0.28346312666872564), (4233, 0.1347070203388727), (4234, 0.10985215309639847), (4235, 0.15060071192396793), (4236, 0.15182206853043462), (4237, 0.408692448059206), (4238, 0.10339356284639707), (4239, 0.14880161040720175), (4240, 0.10066946911699012), (4241, 0.7087717782935046), (4242, 0.24397892028690443), (4243, 0.2969365696941186), (4244, 0.21570392848760075), (4245, 0.42251562901133605), (4246, 0.2523385420293202), (4247, 0.22557641044757626), (4248, 0.16328922425010584), (4249, 0.26127712573150397), (4250, 0.10028965275304373), (4251, 0.14356931167742856), (4252, 0.16360750867246077), (4253, 0.13562967496430284), (4254, 0.3359356668000059), (4255, 0.703774743860973), (4256, 0.224830662431076), (4257, 0.3359356668000059), (4258, 0.224830662431076), (4259, 0.24098145745562594), (4260, 0.224830662431076), (4261, 0.10244308777775153), (4262, 0.42251562901133605), (4263, 0.18520719178990977), (4264, 0.09137964461215384), (4265, 0.15060071192396793), (4266, 0.17551042564326555), (4267, 0.42251562901133605), (4268, 0.20884963347744223), (4269, 0.18257886911772825), (4270, 0.35586671294924443), (4271, 0.09025205418289248), (4272, 0.13689031068162444), (4273, 0.42251562901133605), (4274, 0.16328922425010584), (4275, 0.1345615552426614), (4276, 0.11598823909645205), (4277, 0.42251562901133605), (4278, 0.05829254338934713), (4279, 0.6344727811402835), (4280, 0.42251562901133605), (4281, 0.20790635966579069), (4282, 0.6167978094135766), (4283, 0.16909492478046897), (4284, 0.22120519376101744), (4285, 0.1011988981953192), (4286, 0.2227526579826592), (4287, 0.18520719178990977), (4288, 0.2081812730871493), (4289, 0.1246693603405489), (4290, 0.14356931167742856), (4291, 0.224830662431076), (4292, 0.38820697064108317), (4293, 0.2214161950990944), (4294, 0.46419171127758824), (4295, 0.26170274864909593), (4296, 0.42251562901133605), (4297, 0.224830662431076), (4298, 0.2227526579826592), (4299, 0.22120519376101744), (4300, 0.16013871096403834), (4301, 0.20530698367894185), (4302, 0.10824780061160146), (4303, 0.098033559344478), (4304, 0.3359356668000059), (4305, 0.224830662431076), (4306, 0.2969365696941186), (4307, 0.20790635966579069), (4308, 0.3359356668000059), (4309, 0.25241199627496314), (4310, 0.16328922425010584), (4311, 0.26170274864909593), (4312, 0.10680448758745494), (4313, 0.1171322141598015), (4314, 0.14844859700577456), (4315, 0.16360750867246077), (4316, 0.16859187786948177), (4317, 0.224830662431076), (4318, 0.42251562901133605), (4319, 0.16360750867246077), (4320, 0.2969365696941186), (4321, 0.26170274864909593), (4322, 0.0981548003418585), (4323, 0.38087368902048196), (4324, 0.408692448059206), (4325, 0.1208763084359316), (4326, 0.42251562901133605), (4327, 0.16360750867246077), (4328, 0.1198677734831664), (4329, 0.224830662431076), (4330, 0.26763895800256604), (4331, 0.14356931167742856), (4332, 0.224830662431076), (4333, 0.2969365696941186), (4334, 0.21328542420875962), (4335, 0.224830662431076), (4336, 0.8363388804806571), (4337, 0.14356931167742856), (4338, 0.43185799912974876), (4339, 0.11680614086116985), (4340, 0.26763895800256604), (4341, 0.098033559344478), (4342, 0.14247400363940005), (4343, 0.42251562901133605), (4344, 0.19485867491583542), (4345, 0.7591110161787467), (4346, 0.30824087456615096), (4347, 0.098033559344478), (4348, 0.42251562901133605), (4349, 0.42251562901133605), (4350, 0.2969365696941186), (4351, 0.09067408995405274), (4352, 0.16859187786948177), (4353, 0.17111461853069052), (4354, 0.42251562901133605), (4355, 0.42251562901133605), (4356, 0.3359356668000059), (4357, 0.10039262154671338), (4358, 0.224830662431076), (4359, 0.42251562901133605), (4360, 0.14356931167742856), (4361, 0.42251562901133605), (4362, 0.31692974383049843), (4363, 0.42251562901133605), (4364, 0.09769759618486827), (4365, 0.09741059365981483), (4366, 0.14356931167742856), (4367, 0.224830662431076), (4368, 0.2227526579826592), (4369, 0.2969365696941186), (4370, 0.224830662431076), (4371, 0.3359356668000059), (4372, 0.14247400363940005), (4373, 0.11598823909645205), (4374, 0.24397892028690443), (4375, 0.20790635966579069), (4376, 0.16328922425010584), (4377, 0.11138082555674446), (4378, 0.6344727811402835), (4379, 0.1768506769571036), (4380, 0.1145694900204234), (4381, 0.2969365696941186), (4382, 0.3359356668000059), (4383, 0.11680614086116985), (4384, 0.16328922425010584), (4385, 0.16859187786948177), (4386, 0.42251562901133605), (4387, 0.24397892028690443), (4388, 0.224830662431076), (4389, 0.14356931167742856), (4390, 0.14885977272043888), (4391, 0.21328542420875962), (4392, 0.12610331867758162), (4393, 0.20339637823148113), (4394, 0.206666516087713), (4395, 0.3359356668000059), (4396, 0.42251562901133605), (4397, 0.42251562901133605), (4398, 0.42251562901133605), (4399, 0.42251562901133605), (4400, 0.22557641044757626), (4401, 0.18812174665006395), (4402, 0.31692974383049843), (4403, 0.19145868148352155), (4404, 0.14880161040720175), (4405, 0.13532114545478915), (4406, 0.12914093023833523), (4407, 0.42251562901133605), (4408, 0.16360750867246077), (4409, 0.42251562901133605), (4410, 0.20339637823148113), (4411, 0.2969365696941186), (4412, 0.23411821433756724), (4413, 0.224830662431076), (4414, 0.16859187786948177), (4415, 0.12375448631866116), (4416, 0.42251562901133605), (4417, 0.12375448631866116), (4418, 0.23825897506402494), (4419, 0.5262868913113005), (4420, 0.2273785373780136), (4421, 0.224830662431076), (4422, 0.26170274864909593), (4423, 0.42251562901133605), (4424, 0.12375448631866116), (4425, 0.12375448631866116), (4426, 0.13074880165178304), (4427, 0.42251562901133605), (4428, 0.2901802634428017), (4429, 0.20267199728327695), (4430, 0.26127712573150397), (4431, 0.31692974383049843), (4432, 0.26127712573150397), (4433, 0.12466725786016215), (4434, 0.14880161040720175), (4435, 0.24155555349963556), (4436, 0.13078825409370246), (4437, 0.16360750867246077), (4438, 0.15672762338571175), (4439, 0.5227306075887381), (4440, 0.1347070203388727), (4441, 0.14356931167742856), (4442, 0.2159432364019647), (4443, 0.26127712573150397), (4444, 0.26127712573150397), (4445, 0.8363388804806571), (4446, 0.206666516087713), (4447, 0.12937123636081402), (4448, 0.7803959678317363), (4449, 0.16859187786948177), (4450, 0.13078825409370246), (4451, 0.224830662431076), (4452, 0.224830662431076), (4453, 0.10890683529252858), (4454, 0.12463518878010646), (4455, 0.35586671294924443), (4456, 0.15182206853043462), (4457, 0.098033559344478), (4458, 0.2969365696941186), (4459, 0.16859187786948177), (4460, 0.16360750867246077), (4461, 0.42251562901133605), (4462, 0.16328922425010584), (4463, 0.16360750867246077), (4464, 0.1345615552426614), (4465, 0.28346312666872564), (4466, 0.10397165272381316), (4467, 0.112385473815189), (4468, 0.11680614086116985), (4469, 0.28346312666872564), (4470, 0.31692974383049843), (4471, 0.19535286924837073), (4472, 0.21328542420875962), (4473, 0.206666516087713), (4474, 0.24397892028690443), (4475, 0.24397892028690443), (4476, 0.42251562901133605), (4477, 0.24155555349963556), (4478, 0.43185799912974876), (4479, 0.2969365696941186), (4480, 0.224830662431076), (4481, 0.13078825409370246), (4482, 0.43185799912974876), (4483, 0.12603392139334885), (4484, 0.3359356668000059), (4485, 0.09540961227009447), (4486, 0.1347070203388727), (4487, 0.1654428458119946), (4488, 0.14356931167742856), (4489, 0.2273785373780136), (4490, 0.1795198033501711), (4491, 0.15182206853043462), (4492, 0.098033559344478), (4493, 0.10339356284639707), (4494, 0.22120519376101744), (4495, 0.42251562901133605), (4496, 0.224830662431076), (4497, 0.42251562901133605), (4498, 0.16360750867246077), (4499, 0.1171322141598015), (4500, 0.16807896873197933), (4501, 0.22230611442259507), (4502, 0.15157055258021743), (4503, 0.1768506769571036), (4504, 0.22557641044757626), (4505, 0.42251562901133605), (4506, 0.224830662431076), (4507, 0.3359356668000059), (4508, 0.12375448631866116), (4509, 0.46419171127758824), (4510, 0.15060071192396793), (4511, 0.2227526579826592), (4512, 0.15060071192396793), (4513, 0.14356931167742856), (4514, 0.14045354709946964), (4515, 0.20790635966579069), (4516, 0.4926957325726736), (4517, 0.23411821433756724), (4518, 0.14356931167742856), (4519, 0.11289774077820182), (4520, 0.22557641044757626), (4521, 0.6530349879446009), (4522, 0.275082368988544), (4523, 0.16477372934915763), (4524, 0.20790635966579069), (4525, 0.16859187786948177), (4526, 0.1031030277483371), (4527, 0.14356931167742856), (4528, 0.8363388804806571), (4529, 0.42251562901133605), (4530, 0.3359356668000059), (4531, 0.24397892028690443), (4532, 0.11198430089586088), (4533, 0.24822258996043794), (4534, 0.12610331867758162), (4535, 0.18812174665006395), (4536, 0.21406632696936276), (4537, 0.13074880165178304), (4538, 0.16859187786948177), (4539, 0.16859187786948177), (4540, 0.42251562901133605), (4541, 0.12375448631866116), (4542, 0.45858061357054397), (4543, 0.13078825409370246), (4544, 0.42251562901133605), (4545, 0.42251562901133605), (4546, 0.19485867491583542), (4547, 0.12914093023833523), (4548, 0.14356931167742856), (4549, 0.142058632725914), (4550, 0.24567188681418672), (4551, 0.20884963347744223), (4552, 0.42214444354802305), (4553, 0.13078825409370246), (4554, 0.19145868148352155), (4555, 0.19073294524134754), (4556, 0.224830662431076), (4557, 0.09693958827774646), (4558, 0.224830662431076), (4559, 0.1155785186912302), (4560, 0.224830662431076), (4561, 0.12375448631866116), (4562, 0.1299198839684924), (4563, 0.22557641044757626), (4564, 0.13689031068162444), (4565, 0.12191894638299103), (4566, 0.5887939699781928), (4567, 0.42251562901133605), (4568, 0.20339637823148113), (4569, 0.43185799912974876), (4570, 0.098033559344478), (4571, 0.3359356668000059), (4572, 0.42251562901133605), (4573, 0.31167144351388154), (4574, 0.42251562901133605), (4575, 0.2969365696941186), (4576, 0.31692974383049843), (4577, 0.224830662431076), (4578, 0.12375448631866116), (4579, 0.31692974383049843), (4580, 0.11048672006942493), (4581, 0.32954131777144796), (4582, 0.14356931167742856), (4583, 0.16859187786948177), (4584, 0.42251562901133605), (4585, 0.14356931167742856), (4586, 0.652581597256565), (4587, 0.20790635966579069), (4588, 0.112385473815189), (4589, 0.24567188681418672), (4590, 0.5837850744601756), (4591, 0.18666571266281978), (4592, 0.224830662431076), (4593, 0.1865811808041037), (4594, 0.19651866087474365), (4595, 0.14356931167742856), (4596, 0.224830662431076), (4597, 0.20339637823148113), (4598, 0.42251562901133605), (4599, 0.12603392139334885), (4600, 0.17111461853069052), (4601, 0.20790635966579069), (4602, 0.42251562901133605), (4603, 0.206666516087713), (4604, 0.26763895800256604), (4605, 0.2969365696941186), (4606, 0.31167144351388154), (4607, 0.26831471800689144), (4608, 0.31167144351388154), (4609, 0.4351140159779841), (4610, 0.2523385420293202), (4611, 0.692139244484234), (4612, 0.31692974383049843), (4613, 0.39992129609951965), (4614, 0.1865811808041037), (4615, 0.12191894638299103), (4616, 0.42251562901133605), (4617, 0.28346312666872564), (4618, 0.16859187786948177), (4619, 0.24155555349963556), (4620, 0.42251562901133605), (4621, 0.14356931167742856), (4622, 0.11957227164098491), (4623, 0.11997711051565467), (4624, 0.20409699256913869), (4625, 0.2969365696941186), (4626, 0.15572192612264388), (4627, 0.3359356668000059), (4628, 0.16360750867246077), (4629, 0.5837850744601756), (4630, 0.12610331867758162), (4631, 0.17111461853069052), (4632, 0.2969365696941186), (4633, 0.3359356668000059), (4634, 0.42251562901133605), (4635, 0.09608341433525026), (4636, 0.20891565177768012), (4637, 0.19145868148352155), (4638, 0.21328542420875962), (4639, 0.11138082555674446), (4640, 0.22557641044757626), (4641, 0.42251562901133605), (4642, 0.1198677734831664), (4643, 0.17547161367973077), (4644, 0.12375448631866116), (4645, 0.16859187786948177), (4646, 0.12610331867758162), (4647, 0.17111461853069052), (4648, 0.224830662431076), (4649, 0.31167144351388154), (4650, 0.3359356668000059), (4651, 0.09540961227009447), (4652, 0.26170274864909593), (4653, 0.16328922425010584), (4654, 0.16859187786948177), (4655, 0.224830662431076), (4656, 0.14885977272043888), (4657, 0.2969365696941186), (4658, 0.24397892028690443), (4659, 0.20339637823148113), (4660, 0.19485867491583542), (4661, 0.26127712573150397), (4662, 0.1155785186912302), (4663, 0.11038904738206932), (4664, 0.1345615552426614), (4665, 0.14356931167742856), (4666, 0.16328922425010584), (4667, 0.224830662431076), (4668, 0.20256381522188152), (4669, 0.24397892028690443), (4670, 0.19485867491583542), (4671, 0.12375448631866116), (4672, 0.16859187786948177), (4673, 0.21570392848760075), (4674, 0.23411821433756724), (4675, 0.14844859700577456), (4676, 0.31013365362307027), (4677, 0.19485867491583542), (4678, 0.20790635966579069), (4679, 0.24397892028690443), (4680, 0.42251562901133605), (4681, 0.12375448631866116), (4682, 0.20339637823148113), (4683, 0.10824780061160146), (4684, 0.13078825409370246), (4685, 0.42251562901133605), (4686, 0.42251562901133605), (4687, 0.42251562901133605), (4688, 0.16360750867246077), (4689, 0.20790635966579069), (4690, 0.17111461853069052), (4691, 0.1345615552426614), (4692, 0.42251562901133605), (4693, 0.42251562901133605), (4694, 0.42251562901133605), (4695, 0.14356931167742856), (4696, 0.42251562901133605), (4697, 0.10066946911699012), (4698, 0.12610331867758162), (4699, 0.1865811808041037), (4700, 0.10985215309639847), (4701, 0.1865811808041037), (4702, 0.16360750867246077), (4703, 0.13278369518155517), (4704, 0.19535286924837073), (4705, 0.31167144351388154), (4706, 0.3359356668000059), (4707, 0.18031043432512217), (4708, 0.12610331867758162), (4709, 0.13078825409370246), (4710, 0.31692974383049843), (4711, 0.14844859700577456), (4712, 0.2969365696941186), (4713, 0.19844945398312416), (4714, 0.12914093023833523), (4715, 0.31692974383049843), (4716, 0.142058632725914), (4717, 0.206666516087713), (4718, 0.22530045534904217), (4719, 0.26170274864909593), (4720, 0.14880161040720175), (4721, 0.12383624528683045), (4722, 0.28346312666872564), (4723, 0.20267199728327695), (4724, 0.24397892028690443), (4725, 0.10890683529252858), (4726, 0.39992129609951965), (4727, 0.14885977272043888), (4728, 0.12375448631866116), (4729, 0.42251562901133605), (4730, 0.1081116707791104), (4731, 0.31692974383049843), (4732, 0.42251562901133605), (4733, 0.18666571266281978), (4734, 0.3359356668000059), (4735, 0.24397892028690443), (4736, 0.1171322141598015), (4737, 0.224830662431076), (4738, 0.16360750867246077), (4739, 0.24155555349963556), (4740, 0.16807896873197933), (4741, 0.15476825127103472), (4742, 0.46419171127758824), (4743, 0.31167144351388154), (4744, 0.3359356668000059), (4745, 0.18565003433627728), (4746, 0.13074880165178304), (4747, 0.13078825409370246), (4748, 0.42251562901133605), (4749, 0.42251562901133605), (4750, 0.16859187786948177), (4751, 0.16859187786948177), (4752, 0.6142249444779615), (4753, 0.42251562901133605), (4754, 0.336732037296566), (4755, 0.16859187786948177), (4756, 0.24098145745562594), (4757, 0.31692974383049843), (4758, 0.16807896873197933), (4759, 0.12375448631866116)]\n"
          ]
        }
      ]
    },
    {
      "cell_type": "code",
      "source": [
        "len(Recommendation_Score)"
      ],
      "metadata": {
        "colab": {
          "base_uri": "https://localhost:8080/"
        },
        "id": "yz74DPUsGLfs",
        "outputId": "b0859f28-145e-4355-d020-1e58c7d6f6c3"
      },
      "execution_count": 28,
      "outputs": [
        {
          "output_type": "execute_result",
          "data": {
            "text/plain": [
              "4760"
            ]
          },
          "metadata": {},
          "execution_count": 28
        }
      ]
    },
    {
      "cell_type": "markdown",
      "source": [
        "**Get Sort Movies Based on Recommendation Score wrt Favourite Movie**"
      ],
      "metadata": {
        "id": "3FASaQZ2HAHt"
      }
    },
    {
      "cell_type": "code",
      "source": [
        "Sorted_Similar_Movies=sorted(Recommendation_Score, key=lambda x:x[1], reverse=True)\n",
        "print(Sorted_Similar_Movies)"
      ],
      "metadata": {
        "colab": {
          "base_uri": "https://localhost:8080/"
        },
        "id": "IdZCnppiHRO1",
        "outputId": "efb6949c-290d-4902-a523-efa7392899ee"
      },
      "execution_count": 29,
      "outputs": [
        {
          "output_type": "stream",
          "name": "stdout",
          "text": [
            "[(480, 1.0), (3445, 0.8410458258382851), (11, 0.8363388804806571), (12, 0.8363388804806571), (183, 0.8363388804806571), (734, 0.8363388804806571), (1186, 0.8363388804806571), (1730, 0.8363388804806571), (1995, 0.8363388804806571), (2027, 0.8363388804806571), (2134, 0.8363388804806571), (2226, 0.8363388804806571), (2382, 0.8363388804806571), (2505, 0.8363388804806571), (2623, 0.8363388804806571), (3036, 0.8363388804806571), (3285, 0.8363388804806571), (3491, 0.8363388804806571), (3527, 0.8363388804806571), (3569, 0.8363388804806571), (4336, 0.8363388804806571), (4445, 0.8363388804806571), (4528, 0.8363388804806571), (1418, 0.8185029751115205), (384, 0.7892792276858159), (1399, 0.7892792276858159), (357, 0.7803959678317363), (416, 0.7803959678317363), (1656, 0.7803959678317363), (1658, 0.7803959678317363), (4448, 0.7803959678317363), (1009, 0.7639839962821692), (1215, 0.7639839962821692), (2104, 0.7639839962821692), (353, 0.7591110161787467), (1357, 0.7591110161787467), (4345, 0.7591110161787467), (178, 0.7446194931247798), (343, 0.7446194931247798), (407, 0.7446194931247798), (783, 0.7446194931247798), (796, 0.7446194931247798), (1950, 0.7446194931247798), (2550, 0.7446194931247798), (2779, 0.7446194931247798), (2802, 0.7446194931247798), (3314, 0.7446194931247798), (3835, 0.7446194931247798), (286, 0.7375374997357657), (1514, 0.7375374997357657), (1638, 0.7307055321836432), (2043, 0.7307055321836432), (3525, 0.7087717782935046), (4241, 0.7087717782935046), (800, 0.703774743860973), (804, 0.703774743860973), (1044, 0.703774743860973), (2540, 0.703774743860973), (4255, 0.703774743860973), (434, 0.692139244484234), (887, 0.692139244484234), (1043, 0.692139244484234), (1176, 0.692139244484234), (2437, 0.692139244484234), (3093, 0.692139244484234), (3353, 0.692139244484234), (3355, 0.692139244484234), (3880, 0.692139244484234), (3983, 0.692139244484234), (4611, 0.692139244484234), (3409, 0.6880397435952375), (452, 0.6829390770758129), (2888, 0.6829390770758129), (3328, 0.6829390770758129), (852, 0.6723292739411906), (1219, 0.6723292739411906), (1475, 0.6723292739411906), (2048, 0.6723292739411906), (1161, 0.6638494693360666), (97, 0.6530349879446009), (184, 0.6530349879446009), (267, 0.6530349879446009), (374, 0.6530349879446009), (387, 0.6530349879446009), (441, 0.6530349879446009), (815, 0.6530349879446009), (934, 0.6530349879446009), (1131, 0.6530349879446009), (1748, 0.6530349879446009), (1896, 0.6530349879446009), (2482, 0.6530349879446009), (2520, 0.6530349879446009), (2743, 0.6530349879446009), (3316, 0.6530349879446009), (3749, 0.6530349879446009), (3799, 0.6530349879446009), (4024, 0.6530349879446009), (4228, 0.6530349879446009), (4521, 0.6530349879446009), (3776, 0.652581597256565), (4586, 0.652581597256565), (1224, 0.6493773432130386), (1760, 0.6460347345909531), (2803, 0.6418068349213448), (328, 0.6373207201183766), (3637, 0.6369586463012474), (381, 0.6344727811402835), (1143, 0.6344727811402835), (1669, 0.6344727811402835), (2376, 0.6344727811402835), (4279, 0.6344727811402835), (4378, 0.6344727811402835), (204, 0.6274475714791884), (957, 0.6274475714791884), (1392, 0.6274475714791884), (2411, 0.6274475714791884), (696, 0.6167978094135766), (4282, 0.6167978094135766), (92, 0.6142249444779615), (269, 0.6142249444779615), (651, 0.6142249444779615), (1241, 0.6142249444779615), (2083, 0.6142249444779615), (2634, 0.6142249444779615), (4143, 0.6142249444779615), (4752, 0.6142249444779615), (2386, 0.6064718856104543), (3014, 0.6064718856104543), (495, 0.6042191544537332), (3174, 0.6042191544537332), (419, 0.6026271229283753), (1160, 0.5986083450946492), (467, 0.5909600185419921), (468, 0.5909600185419921), (469, 0.5909600185419921), (2567, 0.5909600185419921), (71, 0.5887939699781928), (355, 0.5887939699781928), (2102, 0.5887939699781928), (2848, 0.5887939699781928), (3184, 0.5887939699781928), (4011, 0.5887939699781928), (4566, 0.5887939699781928), (85, 0.5839998206481204), (4590, 0.5837850744601756), (4629, 0.5837850744601756), (247, 0.5813646817585733), (3587, 0.5813646817585733), (1764, 0.5750071659138317), (936, 0.5738003406801729), (206, 0.5737472432345051), (483, 0.5737472432345051), (165, 0.5717271642611946), (496, 0.5717271642611946), (631, 0.5717271642611946), (1547, 0.5717271642611946), (1570, 0.5717271642611946), (1886, 0.5717271642611946), (2010, 0.5717271642611946), (3742, 0.5717271642611946), (141, 0.5656726976330729), (822, 0.5656726976330729), (1278, 0.5656726976330729), (1652, 0.5656726976330729), (2297, 0.5656726976330729), (3102, 0.5656726976330729), (3162, 0.5656726976330729), (3632, 0.5656726976330729), (3732, 0.5656726976330729), (386, 0.5639330661623067), (1728, 0.5639330661623067), (2294, 0.5639330661623067), (2670, 0.5639330661623067), (2935, 0.5639330661623067), (238, 0.5639100802433723), (2766, 0.5638341483457363), (302, 0.5563775016775658), (2073, 0.5556884469235283), (522, 0.5548535865843454), (3613, 0.5548535865843454), (3008, 0.5507269168355114), (913, 0.5475190056920979), (1296, 0.5475190056920979), (60, 0.5474092970153459), (456, 0.5474092970153459), (940, 0.5474092970153459), (1261, 0.5474092970153459), (1533, 0.5474092970153459), (1616, 0.5474092970153459), (2211, 0.5474092970153459), (3577, 0.5474092970153459), (122, 0.5417657151068687), (162, 0.5417657151068687), (230, 0.5417657151068687), (1172, 0.5417657151068687), (1253, 0.5417657151068687), (1512, 0.5417657151068687), (2513, 0.5417657151068687), (2864, 0.5417657151068687), (4036, 0.5414237261145216), (493, 0.5353522115269894), (61, 0.5312780777160403), (136, 0.5312780777160403), (715, 0.5262868913113005), (3657, 0.5262868913113005), (4419, 0.5262868913113005), (4439, 0.5227306075887381), (2011, 0.5222294439402501), (1370, 0.5198166254606322), (1683, 0.5198166254606322), (1943, 0.5198166254606322), (2758, 0.5198166254606322), (3728, 0.5198166254606322), (699, 0.5186136977629994), (2956, 0.5186136977629994), (3566, 0.5186136977629994), (3698, 0.5186136977629994), (218, 0.515999241430717), (1175, 0.515999241430717), (2609, 0.515999241430717), (2830, 0.515999241430717), (3492, 0.515999241430717), (953, 0.51010506393159), (991, 0.51010506393159), (1223, 0.51010506393159), (4071, 0.5011648084820146), (1565, 0.4977938538270533), (4136, 0.49719342492937446), (2033, 0.49702364493033513), (3310, 0.49702364493033513), (2940, 0.4961067191394418), (1218, 0.4930126386208641), (3394, 0.4930126386208641), (4167, 0.4930126386208641), (3091, 0.4926957325726736), (4516, 0.4926957325726736), (117, 0.492187164290595), (2517, 0.492187164290595), (3948, 0.492187164290595), (644, 0.49142311937190575), (851, 0.4913478287840266), (1400, 0.4910274839979238), (1414, 0.4910274839979238), (2946, 0.48984955077259285), (538, 0.48484528637728397), (736, 0.48484528637728397), (1190, 0.48484528637728397), (1405, 0.48484528637728397), (1569, 0.48484528637728397), (2170, 0.48484528637728397), (2807, 0.48484528637728397), (3592, 0.48484528637728397), (125, 0.484312598125562), (332, 0.484312598125562), (779, 0.484312598125562), (1332, 0.484312598125562), (2819, 0.484312598125562), (3723, 0.484312598125562), (4101, 0.48001752207869486), (336, 0.47896614649808894), (586, 0.47896614649808894), (1965, 0.47896614649808894), (2286, 0.4787928007090346), (3051, 0.4787928007090346), (1775, 0.4739974823465657), (1510, 0.4716783893653753), (1627, 0.4716783893653753), (1968, 0.4716783893653753), (703, 0.4715136432056499), (1539, 0.4715136432056499), (1308, 0.46767225556105047), (3387, 0.46755984039099124), (9, 0.46419171127758824), (17, 0.46419171127758824), (54, 0.46419171127758824), (55, 0.46419171127758824), (56, 0.46419171127758824), (130, 0.46419171127758824), (231, 0.46419171127758824), (232, 0.46419171127758824), (382, 0.46419171127758824), (568, 0.46419171127758824), (569, 0.46419171127758824), (570, 0.46419171127758824), (592, 0.46419171127758824), (610, 0.46419171127758824), (615, 0.46419171127758824), (954, 0.46419171127758824), (1045, 0.46419171127758824), (1240, 0.46419171127758824), (1258, 0.46419171127758824), (1283, 0.46419171127758824), (1374, 0.46419171127758824), (1386, 0.46419171127758824), (1603, 0.46419171127758824), (2641, 0.46419171127758824), (3454, 0.46419171127758824), (3697, 0.46419171127758824), (3786, 0.46419171127758824), (3979, 0.46419171127758824), (4055, 0.46419171127758824), (4294, 0.46419171127758824), (4509, 0.46419171127758824), (4742, 0.46419171127758824), (180, 0.4586899265814987), (181, 0.4586899265814987), (338, 0.45858061357054397), (339, 0.45858061357054397), (414, 0.45858061357054397), (415, 0.45858061357054397), (770, 0.45858061357054397), (2497, 0.45858061357054397), (4542, 0.45858061357054397), (188, 0.45791606998539897), (404, 0.45791606998539897), (752, 0.45791606998539897), (781, 0.45791606998539897), (807, 0.45791606998539897), (836, 0.45791606998539897), (1142, 0.45791606998539897), (1155, 0.45791606998539897), (1196, 0.45791606998539897), (1525, 0.45791606998539897), (1684, 0.45791606998539897), (1726, 0.45791606998539897), (1771, 0.45791606998539897), (1913, 0.45791606998539897), (2322, 0.45791606998539897), (2371, 0.45791606998539897), (2456, 0.45791606998539897), (1732, 0.4515541293596748), (116, 0.4497118504259401), (880, 0.4497118504259401), (1633, 0.44853995583156475), (1990, 0.44853995583156475), (2074, 0.44853995583156475), (2733, 0.44853995583156475), (3398, 0.44853995583156475), (3470, 0.44853995583156475), (4177, 0.4463856139054457), (411, 0.44556381238995424), (3522, 0.44556381238995424), (3609, 0.44556381238995424), (3738, 0.44556381238995424), (3459, 0.4449541927631008), (3472, 0.4449541927631008), (3846, 0.4449541927631008), (3386, 0.44080141712369614), (1245, 0.44025639043371995), (2527, 0.44025639043371995), (990, 0.4351140159779841), (4609, 0.4351140159779841), (2242, 0.43201726054275924), (179, 0.43185799912974876), (277, 0.43185799912974876), (297, 0.43185799912974876), (298, 0.43185799912974876), (299, 0.43185799912974876), (300, 0.43185799912974876), (340, 0.43185799912974876), (713, 0.43185799912974876), (724, 0.43185799912974876), (1067, 0.43185799912974876), (1581, 0.43185799912974876), (1932, 0.43185799912974876), (2100, 0.43185799912974876), (2198, 0.43185799912974876), (2259, 0.43185799912974876), (3058, 0.43185799912974876), (3695, 0.43185799912974876), (3785, 0.43185799912974876), (4338, 0.43185799912974876), (4478, 0.43185799912974876), (4482, 0.43185799912974876), (4569, 0.43185799912974876), (1320, 0.4305729770814247), (3464, 0.4305729770814247), (951, 0.4290568003292382), (712, 0.4267721164131206), (1378, 0.42675166812478804), (635, 0.42650924810754015), (639, 0.42650924810754015), (640, 0.42650924810754015), (2847, 0.42650924810754015), (430, 0.4258903968013736), (385, 0.42258254505582027), (4, 0.42251562901133605), (20, 0.42251562901133605), (24, 0.42251562901133605), (26, 0.42251562901133605), (66, 0.42251562901133605), (98, 0.42251562901133605), (140, 0.42251562901133605), (154, 0.42251562901133605), (164, 0.42251562901133605), (167, 0.42251562901133605), (176, 0.42251562901133605), (196, 0.42251562901133605), (203, 0.42251562901133605), (213, 0.42251562901133605), (226, 0.42251562901133605), (229, 0.42251562901133605), (235, 0.42251562901133605), (249, 0.42251562901133605), (262, 0.42251562901133605), (268, 0.42251562901133605), (293, 0.42251562901133605), (308, 0.42251562901133605), (317, 0.42251562901133605), (324, 0.42251562901133605), (395, 0.42251562901133605), (399, 0.42251562901133605), (402, 0.42251562901133605), (412, 0.42251562901133605), (432, 0.42251562901133605), (444, 0.42251562901133605), (445, 0.42251562901133605), (446, 0.42251562901133605), (449, 0.42251562901133605), (466, 0.42251562901133605), (476, 0.42251562901133605), (478, 0.42251562901133605), (499, 0.42251562901133605), (518, 0.42251562901133605), (526, 0.42251562901133605), (527, 0.42251562901133605), (541, 0.42251562901133605), (597, 0.42251562901133605), (611, 0.42251562901133605), (620, 0.42251562901133605), (624, 0.42251562901133605), (645, 0.42251562901133605), (647, 0.42251562901133605), (680, 0.42251562901133605), (706, 0.42251562901133605), (717, 0.42251562901133605), (731, 0.42251562901133605), (766, 0.42251562901133605), (767, 0.42251562901133605), (777, 0.42251562901133605), (782, 0.42251562901133605), (791, 0.42251562901133605), (805, 0.42251562901133605), (817, 0.42251562901133605), (823, 0.42251562901133605), (889, 0.42251562901133605), (895, 0.42251562901133605), (899, 0.42251562901133605), (901, 0.42251562901133605), (917, 0.42251562901133605), (922, 0.42251562901133605), (949, 0.42251562901133605), (987, 0.42251562901133605), (993, 0.42251562901133605), (1004, 0.42251562901133605), (1019, 0.42251562901133605), (1032, 0.42251562901133605), (1033, 0.42251562901133605), (1036, 0.42251562901133605), (1037, 0.42251562901133605), (1042, 0.42251562901133605), (1048, 0.42251562901133605), (1059, 0.42251562901133605), (1072, 0.42251562901133605), (1098, 0.42251562901133605), (1110, 0.42251562901133605), (1121, 0.42251562901133605), (1144, 0.42251562901133605), (1168, 0.42251562901133605), (1294, 0.42251562901133605), (1319, 0.42251562901133605), (1355, 0.42251562901133605), (1402, 0.42251562901133605), (1404, 0.42251562901133605), (1416, 0.42251562901133605), (1434, 0.42251562901133605), (1439, 0.42251562901133605), (1450, 0.42251562901133605), (1456, 0.42251562901133605), (1464, 0.42251562901133605), (1497, 0.42251562901133605), (1499, 0.42251562901133605), (1500, 0.42251562901133605), (1538, 0.42251562901133605), (1550, 0.42251562901133605), (1553, 0.42251562901133605), (1574, 0.42251562901133605), (1593, 0.42251562901133605), (1617, 0.42251562901133605), (1625, 0.42251562901133605), (1641, 0.42251562901133605), (1670, 0.42251562901133605), (1672, 0.42251562901133605), (1691, 0.42251562901133605), (1712, 0.42251562901133605), (1742, 0.42251562901133605), (1793, 0.42251562901133605), (1801, 0.42251562901133605), (1805, 0.42251562901133605), (1807, 0.42251562901133605), (1814, 0.42251562901133605), (1826, 0.42251562901133605), (1831, 0.42251562901133605), (1843, 0.42251562901133605), (1862, 0.42251562901133605), (1872, 0.42251562901133605), (1887, 0.42251562901133605), (1890, 0.42251562901133605), (1921, 0.42251562901133605), (1959, 0.42251562901133605), (2047, 0.42251562901133605), (2072, 0.42251562901133605), (2109, 0.42251562901133605), (2123, 0.42251562901133605), (2129, 0.42251562901133605), (2133, 0.42251562901133605), (2141, 0.42251562901133605), (2142, 0.42251562901133605), (2163, 0.42251562901133605), (2173, 0.42251562901133605), (2189, 0.42251562901133605), (2190, 0.42251562901133605), (2213, 0.42251562901133605), (2268, 0.42251562901133605), (2288, 0.42251562901133605), (2293, 0.42251562901133605), (2299, 0.42251562901133605), (2306, 0.42251562901133605), (2310, 0.42251562901133605), (2317, 0.42251562901133605), (2323, 0.42251562901133605), (2354, 0.42251562901133605), (2370, 0.42251562901133605), (2392, 0.42251562901133605), (2401, 0.42251562901133605), (2416, 0.42251562901133605), (2417, 0.42251562901133605), (2418, 0.42251562901133605), (2419, 0.42251562901133605), (2425, 0.42251562901133605), (2454, 0.42251562901133605), (2463, 0.42251562901133605), (2481, 0.42251562901133605), (2525, 0.42251562901133605), (2533, 0.42251562901133605), (2545, 0.42251562901133605), (2552, 0.42251562901133605), (2557, 0.42251562901133605), (2565, 0.42251562901133605), (2572, 0.42251562901133605), (2585, 0.42251562901133605), (2613, 0.42251562901133605), (2624, 0.42251562901133605), (2628, 0.42251562901133605), (2636, 0.42251562901133605), (2651, 0.42251562901133605), (2673, 0.42251562901133605), (2679, 0.42251562901133605), (2694, 0.42251562901133605), (2723, 0.42251562901133605), (2735, 0.42251562901133605), (2753, 0.42251562901133605), (2757, 0.42251562901133605), (2760, 0.42251562901133605), (2765, 0.42251562901133605), (2783, 0.42251562901133605), (2792, 0.42251562901133605), (2841, 0.42251562901133605), (2853, 0.42251562901133605), (2861, 0.42251562901133605), (2900, 0.42251562901133605), (2902, 0.42251562901133605), (2909, 0.42251562901133605), (2923, 0.42251562901133605), (2936, 0.42251562901133605), (2942, 0.42251562901133605), (2953, 0.42251562901133605), (2957, 0.42251562901133605), (2964, 0.42251562901133605), (2985, 0.42251562901133605), (2987, 0.42251562901133605), (2993, 0.42251562901133605), (2997, 0.42251562901133605), (3000, 0.42251562901133605), (3007, 0.42251562901133605), (3010, 0.42251562901133605), (3031, 0.42251562901133605), (3052, 0.42251562901133605), (3055, 0.42251562901133605), (3057, 0.42251562901133605), (3069, 0.42251562901133605), (3101, 0.42251562901133605), (3128, 0.42251562901133605), (3157, 0.42251562901133605), (3159, 0.42251562901133605), (3167, 0.42251562901133605), (3173, 0.42251562901133605), (3186, 0.42251562901133605), (3211, 0.42251562901133605), (3216, 0.42251562901133605), (3226, 0.42251562901133605), (3230, 0.42251562901133605), (3240, 0.42251562901133605), (3242, 0.42251562901133605), (3243, 0.42251562901133605), (3252, 0.42251562901133605), (3269, 0.42251562901133605), (3292, 0.42251562901133605), (3299, 0.42251562901133605), (3307, 0.42251562901133605), (3313, 0.42251562901133605), (3322, 0.42251562901133605), (3341, 0.42251562901133605), (3354, 0.42251562901133605), (3358, 0.42251562901133605), (3362, 0.42251562901133605), (3369, 0.42251562901133605), (3372, 0.42251562901133605), (3376, 0.42251562901133605), (3381, 0.42251562901133605), (3390, 0.42251562901133605), (3392, 0.42251562901133605), (3396, 0.42251562901133605), (3412, 0.42251562901133605), (3414, 0.42251562901133605), (3423, 0.42251562901133605), (3431, 0.42251562901133605), (3455, 0.42251562901133605), (3458, 0.42251562901133605), (3478, 0.42251562901133605), (3497, 0.42251562901133605), (3523, 0.42251562901133605), (3534, 0.42251562901133605), (3536, 0.42251562901133605), (3540, 0.42251562901133605), (3548, 0.42251562901133605), (3561, 0.42251562901133605), (3596, 0.42251562901133605), (3608, 0.42251562901133605), (3611, 0.42251562901133605), (3615, 0.42251562901133605), (3627, 0.42251562901133605), (3636, 0.42251562901133605), (3647, 0.42251562901133605), (3651, 0.42251562901133605), (3656, 0.42251562901133605), (3672, 0.42251562901133605), (3687, 0.42251562901133605), (3691, 0.42251562901133605), (3701, 0.42251562901133605), (3719, 0.42251562901133605), (3729, 0.42251562901133605), (3737, 0.42251562901133605), (3757, 0.42251562901133605), (3762, 0.42251562901133605), (3770, 0.42251562901133605), (3779, 0.42251562901133605), (3781, 0.42251562901133605), (3821, 0.42251562901133605), (3848, 0.42251562901133605), (3857, 0.42251562901133605), (3863, 0.42251562901133605), (3874, 0.42251562901133605), (3878, 0.42251562901133605), (3884, 0.42251562901133605), (3894, 0.42251562901133605), (3899, 0.42251562901133605), (3906, 0.42251562901133605), (3911, 0.42251562901133605), (3935, 0.42251562901133605), (3939, 0.42251562901133605), (3945, 0.42251562901133605), (3986, 0.42251562901133605), (3987, 0.42251562901133605), (4017, 0.42251562901133605), (4019, 0.42251562901133605), (4030, 0.42251562901133605), (4032, 0.42251562901133605), (4042, 0.42251562901133605), (4059, 0.42251562901133605), (4062, 0.42251562901133605), (4075, 0.42251562901133605), (4081, 0.42251562901133605), (4083, 0.42251562901133605), (4107, 0.42251562901133605), (4126, 0.42251562901133605), (4129, 0.42251562901133605), (4155, 0.42251562901133605), (4161, 0.42251562901133605), (4169, 0.42251562901133605), (4172, 0.42251562901133605), (4209, 0.42251562901133605), (4220, 0.42251562901133605), (4225, 0.42251562901133605), (4230, 0.42251562901133605), (4245, 0.42251562901133605), (4262, 0.42251562901133605), (4267, 0.42251562901133605), (4273, 0.42251562901133605), (4277, 0.42251562901133605), (4280, 0.42251562901133605), (4296, 0.42251562901133605), (4318, 0.42251562901133605), (4326, 0.42251562901133605), (4343, 0.42251562901133605), (4348, 0.42251562901133605), (4349, 0.42251562901133605), (4354, 0.42251562901133605), (4355, 0.42251562901133605), (4359, 0.42251562901133605), (4361, 0.42251562901133605), (4363, 0.42251562901133605), (4386, 0.42251562901133605), (4396, 0.42251562901133605), (4397, 0.42251562901133605), (4398, 0.42251562901133605), (4399, 0.42251562901133605), (4407, 0.42251562901133605), (4409, 0.42251562901133605), (4416, 0.42251562901133605), (4423, 0.42251562901133605), (4427, 0.42251562901133605), (4461, 0.42251562901133605), (4476, 0.42251562901133605), (4495, 0.42251562901133605), (4497, 0.42251562901133605), (4505, 0.42251562901133605), (4529, 0.42251562901133605), (4540, 0.42251562901133605), (4544, 0.42251562901133605), (4545, 0.42251562901133605), (4567, 0.42251562901133605), (4572, 0.42251562901133605), (4574, 0.42251562901133605), (4584, 0.42251562901133605), (4598, 0.42251562901133605), (4602, 0.42251562901133605), (4616, 0.42251562901133605), (4620, 0.42251562901133605), (4634, 0.42251562901133605), (4641, 0.42251562901133605), (4680, 0.42251562901133605), (4685, 0.42251562901133605), (4686, 0.42251562901133605), (4687, 0.42251562901133605), (4692, 0.42251562901133605), (4693, 0.42251562901133605), (4694, 0.42251562901133605), (4696, 0.42251562901133605), (4729, 0.42251562901133605), (4732, 0.42251562901133605), (4748, 0.42251562901133605), (4749, 0.42251562901133605), (4753, 0.42251562901133605), (3416, 0.4222297112028573), (4552, 0.42214444354802305), (3408, 0.4221286255988309), (3641, 0.4193655551232952), (1346, 0.4163143183487166), (1051, 0.41597367043256767), (2652, 0.4139836968406093), (451, 0.41192454923502847), (2094, 0.41192454923502847), (3126, 0.41192454923502847), (859, 0.41176915529412517), (1610, 0.41176915529412517), (1804, 0.41176915529412517), (2335, 0.41176915529412517), (2265, 0.4090812401195678), (4237, 0.408692448059206), (4324, 0.408692448059206), (1926, 0.40861987484753115), (53, 0.40814951601157223), (401, 0.40814951601157223), (720, 0.40814951601157223), (1373, 0.40814951601157223), (1615, 0.40814951601157223), (1697, 0.40814951601157223), (2590, 0.40814951601157223), (4218, 0.40814951601157223), (2443, 0.40429712646094407), (849, 0.40362526818162975), (2714, 0.40145824566352284), (57, 0.39992129609951965), (882, 0.39992129609951965), (4613, 0.39992129609951965), (4726, 0.39992129609951965), (4188, 0.3993300114903769), (725, 0.39889097522365097), (1466, 0.39889097522365097), (1604, 0.39889097522365097), (2269, 0.39777729811087736), (28, 0.39694320726421517), (751, 0.39694320726421517), (1249, 0.39694320726421517), (1750, 0.39694320726421517), (1836, 0.39694320726421517), (2018, 0.39694320726421517), (3559, 0.39694320726421517), (1855, 0.3946617486990414), (700, 0.39251275234532274), (492, 0.38841092972707464), (1046, 0.38841092972707464), (1467, 0.38841092972707464), (2114, 0.38841092972707464), (4292, 0.38820697064108317), (177, 0.38742130842612077), (2654, 0.38742130842612077), (2938, 0.38742130842612077), (3847, 0.38742130842612077), (4323, 0.38087368902048196), (498, 0.37998336562301815), (528, 0.37998336562301815), (1310, 0.37998336562301815), (1368, 0.37998336562301815), (2389, 0.37998336562301815), (2616, 0.37998336562301815), (2672, 0.37998336562301815), (1069, 0.3796081260894502), (1908, 0.3796081260894502), (3709, 0.3796081260894502), (3752, 0.3782395340653194), (1993, 0.37711266743879623), (1998, 0.37711266743879623), (1511, 0.3753387626925378), (726, 0.37445761785431114), (1955, 0.37445761785431114), (1212, 0.3708911866567049), (662, 0.3700292397593583), (1246, 0.3700292397593583), (1578, 0.3700292397593583), (3790, 0.3700292397593583), (3812, 0.3700292397593583), (4191, 0.3700292397593583), (1250, 0.3692155000454744), (2837, 0.3692155000454744), (3480, 0.3692155000454744), (3980, 0.3672693939258799), (301, 0.3670354487524628), (1256, 0.3657474008222066), (1903, 0.3657474008222066), (2086, 0.3657474008222066), (2500, 0.3657474008222066), (375, 0.3655185693327051), (1129, 0.3655185693327051), (2544, 0.3655185693327051), (1420, 0.3610162246967178), (1784, 0.3606917240821631), (2822, 0.3576820151939876), (3870, 0.3576820151939876), (491, 0.3566332276250594), (613, 0.3566332276250594), (1111, 0.3566332276250594), (2691, 0.3566332276250594), (2955, 0.3566332276250594), (3463, 0.3566332276250594), (3783, 0.3566332276250594), (3798, 0.3566332276250594), (4070, 0.3566332276250594), (58, 0.35586671294924443), (909, 0.35586671294924443), (1529, 0.35586671294924443), (1600, 0.35586671294924443), (2532, 0.35586671294924443), (3272, 0.35586671294924443), (4034, 0.35586671294924443), (4270, 0.35586671294924443), (4455, 0.35586671294924443), (1613, 0.3537634915917961), (3089, 0.3537634915917961), (2062, 0.34938639948928024), (2867, 0.3487112170095469), (1171, 0.34836531941492443), (1341, 0.34292788247232925), (1468, 0.34292788247232925), (1982, 0.34292788247232925), (2843, 0.34292788247232925), (3965, 0.34292788247232925), (361, 0.3422462206950023), (362, 0.3422462206950023), (363, 0.3422462206950023), (365, 0.3422462206950023), (1495, 0.3422462206950023), (1601, 0.3422462206950023), (2019, 0.3422462206950023), (2688, 0.3422462206950023), (3286, 0.3422462206950023), (3461, 0.3422462206950023), (3805, 0.3422462206950023), (4099, 0.3422462206950023), (257, 0.34132709821236984), (977, 0.34132709821236984), (6, 0.33866777982788865), (1150, 0.33866777982788865), (2136, 0.33866777982788865), (2330, 0.33866777982788865), (1841, 0.336732037296566), (4754, 0.336732037296566), (82, 0.3359356668000059), (115, 0.3359356668000059), (157, 0.3359356668000059), (175, 0.3359356668000059), (246, 0.3359356668000059), (253, 0.3359356668000059), (346, 0.3359356668000059), (377, 0.3359356668000059), (473, 0.3359356668000059), (505, 0.3359356668000059), (507, 0.3359356668000059), (508, 0.3359356668000059), (659, 0.3359356668000059), (691, 0.3359356668000059), (740, 0.3359356668000059), (755, 0.3359356668000059), (759, 0.3359356668000059), (787, 0.3359356668000059), (788, 0.3359356668000059), (884, 0.3359356668000059), (886, 0.3359356668000059), (933, 0.3359356668000059), (941, 0.3359356668000059), (984, 0.3359356668000059), (1006, 0.3359356668000059), (1021, 0.3359356668000059), (1100, 0.3359356668000059), (1112, 0.3359356668000059), (1117, 0.3359356668000059), (1124, 0.3359356668000059), (1169, 0.3359356668000059), (1203, 0.3359356668000059), (1204, 0.3359356668000059), (1243, 0.3359356668000059), (1284, 0.3359356668000059), (1298, 0.3359356668000059), (1304, 0.3359356668000059), (1312, 0.3359356668000059), (1318, 0.3359356668000059), (1359, 0.3359356668000059), (1367, 0.3359356668000059), (1409, 0.3359356668000059), (1411, 0.3359356668000059), (1422, 0.3359356668000059), (1446, 0.3359356668000059), (1465, 0.3359356668000059), (1494, 0.3359356668000059), (1528, 0.3359356668000059), (1571, 0.3359356668000059), (1597, 0.3359356668000059), (1637, 0.3359356668000059), (1642, 0.3359356668000059), (1660, 0.3359356668000059), (1663, 0.3359356668000059), (1688, 0.3359356668000059), (1733, 0.3359356668000059), (1759, 0.3359356668000059), (1765, 0.3359356668000059), (1792, 0.3359356668000059), (1848, 0.3359356668000059), (1877, 0.3359356668000059), (1919, 0.3359356668000059), (1929, 0.3359356668000059), (1947, 0.3359356668000059), (1954, 0.3359356668000059), (1980, 0.3359356668000059), (2060, 0.3359356668000059), (2137, 0.3359356668000059), (2146, 0.3359356668000059), (2148, 0.3359356668000059), (2151, 0.3359356668000059), (2192, 0.3359356668000059), (2209, 0.3359356668000059), (2236, 0.3359356668000059), (2270, 0.3359356668000059), (2292, 0.3359356668000059), (2303, 0.3359356668000059), (2309, 0.3359356668000059), (2340, 0.3359356668000059), (2387, 0.3359356668000059), (2396, 0.3359356668000059), (2403, 0.3359356668000059), (2404, 0.3359356668000059), (2436, 0.3359356668000059), (2440, 0.3359356668000059), (2446, 0.3359356668000059), (2490, 0.3359356668000059), (2495, 0.3359356668000059), (2507, 0.3359356668000059), (2537, 0.3359356668000059), (2561, 0.3359356668000059), (2587, 0.3359356668000059), (2619, 0.3359356668000059), (2653, 0.3359356668000059), (2712, 0.3359356668000059), (2722, 0.3359356668000059), (2728, 0.3359356668000059), (2731, 0.3359356668000059), (2738, 0.3359356668000059), (2786, 0.3359356668000059), (2846, 0.3359356668000059), (2858, 0.3359356668000059), (2882, 0.3359356668000059), (2884, 0.3359356668000059), (2914, 0.3359356668000059), (2954, 0.3359356668000059), (2970, 0.3359356668000059), (2976, 0.3359356668000059), (3003, 0.3359356668000059), (3016, 0.3359356668000059), (3020, 0.3359356668000059), (3026, 0.3359356668000059), (3037, 0.3359356668000059), (3040, 0.3359356668000059), (3042, 0.3359356668000059), (3074, 0.3359356668000059), (3084, 0.3359356668000059), (3113, 0.3359356668000059), (3139, 0.3359356668000059), (3150, 0.3359356668000059), (3224, 0.3359356668000059), (3238, 0.3359356668000059), (3239, 0.3359356668000059), (3249, 0.3359356668000059), (3257, 0.3359356668000059), (3260, 0.3359356668000059), (3283, 0.3359356668000059), (3289, 0.3359356668000059), (3290, 0.3359356668000059), (3329, 0.3359356668000059), (3337, 0.3359356668000059), (3348, 0.3359356668000059), (3351, 0.3359356668000059), (3410, 0.3359356668000059), (3430, 0.3359356668000059), (3537, 0.3359356668000059), (3538, 0.3359356668000059), (3544, 0.3359356668000059), (3565, 0.3359356668000059), (3606, 0.3359356668000059), (3616, 0.3359356668000059), (3621, 0.3359356668000059), (3665, 0.3359356668000059), (3733, 0.3359356668000059), (3739, 0.3359356668000059), (3754, 0.3359356668000059), (3755, 0.3359356668000059), (3765, 0.3359356668000059), (3772, 0.3359356668000059), (3811, 0.3359356668000059), (3832, 0.3359356668000059), (3855, 0.3359356668000059), (3890, 0.3359356668000059), (3922, 0.3359356668000059), (3962, 0.3359356668000059), (3967, 0.3359356668000059), (3973, 0.3359356668000059), (4023, 0.3359356668000059), (4049, 0.3359356668000059), (4052, 0.3359356668000059), (4102, 0.3359356668000059), (4111, 0.3359356668000059), (4132, 0.3359356668000059), (4140, 0.3359356668000059), (4147, 0.3359356668000059), (4174, 0.3359356668000059), (4182, 0.3359356668000059), (4200, 0.3359356668000059), (4206, 0.3359356668000059), (4213, 0.3359356668000059), (4254, 0.3359356668000059), (4257, 0.3359356668000059), (4304, 0.3359356668000059), (4308, 0.3359356668000059), (4356, 0.3359356668000059), (4371, 0.3359356668000059), (4382, 0.3359356668000059), (4395, 0.3359356668000059), (4484, 0.3359356668000059), (4507, 0.3359356668000059), (4530, 0.3359356668000059), (4571, 0.3359356668000059), (4627, 0.3359356668000059), (4633, 0.3359356668000059), (4650, 0.3359356668000059), (4706, 0.3359356668000059), (4734, 0.3359356668000059), (4744, 0.3359356668000059), (819, 0.33316285928278394), (191, 0.3312262017597385), (2682, 0.3312262017597385), (3191, 0.3312262017597385), (4581, 0.32954131777144796), (546, 0.32925399875613875), (2729, 0.32925399875613875), (3141, 0.32925399875613875), (2283, 0.3254779700176502), (1515, 0.3245713249083636), (1649, 0.3245713249083636), (3404, 0.323612302321728), (2708, 0.31807919793733264), (16, 0.31692974383049843), (34, 0.31692974383049843), (107, 0.31692974383049843), (243, 0.31692974383049843), (562, 0.31692974383049843), (563, 0.31692974383049843), (571, 0.31692974383049843), (581, 0.31692974383049843), (628, 0.31692974383049843), (637, 0.31692974383049843), (642, 0.31692974383049843), (689, 0.31692974383049843), (694, 0.31692974383049843), (732, 0.31692974383049843), (743, 0.31692974383049843), (761, 0.31692974383049843), (831, 0.31692974383049843), (861, 0.31692974383049843), (863, 0.31692974383049843), (900, 0.31692974383049843), (967, 0.31692974383049843), (1030, 0.31692974383049843), (1188, 0.31692974383049843), (1191, 0.31692974383049843), (1383, 0.31692974383049843), (1448, 0.31692974383049843), (1462, 0.31692974383049843), (1865, 0.31692974383049843), (1918, 0.31692974383049843), (1960, 0.31692974383049843), (2069, 0.31692974383049843), (2121, 0.31692974383049843), (2558, 0.31692974383049843), (2580, 0.31692974383049843), (2606, 0.31692974383049843), (2655, 0.31692974383049843), (2716, 0.31692974383049843), (2988, 0.31692974383049843), (3032, 0.31692974383049843), (3035, 0.31692974383049843), (3125, 0.31692974383049843), (3196, 0.31692974383049843), (3228, 0.31692974383049843), (3284, 0.31692974383049843), (3344, 0.31692974383049843), (3435, 0.31692974383049843), (3436, 0.31692974383049843), (3498, 0.31692974383049843), (3499, 0.31692974383049843), (3501, 0.31692974383049843), (3521, 0.31692974383049843), (3618, 0.31692974383049843), (3653, 0.31692974383049843), (3661, 0.31692974383049843), (3696, 0.31692974383049843), (3727, 0.31692974383049843), (3780, 0.31692974383049843), (3841, 0.31692974383049843), (3876, 0.31692974383049843), (3910, 0.31692974383049843), (3974, 0.31692974383049843), (4013, 0.31692974383049843), (4089, 0.31692974383049843), (4092, 0.31692974383049843), (4163, 0.31692974383049843), (4176, 0.31692974383049843), (4362, 0.31692974383049843), (4402, 0.31692974383049843), (4431, 0.31692974383049843), (4470, 0.31692974383049843), (4576, 0.31692974383049843), (4579, 0.31692974383049843), (4612, 0.31692974383049843), (4710, 0.31692974383049843), (4715, 0.31692974383049843), (4731, 0.31692974383049843), (4757, 0.31692974383049843), (2715, 0.31442556498352786), (961, 0.3136465276891126), (2813, 0.3136465276891126), (3539, 0.3136465276891126), (159, 0.31167144351388154), (848, 0.31167144351388154), (1096, 0.31167144351388154), (1102, 0.31167144351388154), (1708, 0.31167144351388154), (2989, 0.31167144351388154), (3336, 0.31167144351388154), (3441, 0.31167144351388154), (3593, 0.31167144351388154), (3668, 0.31167144351388154), (3707, 0.31167144351388154), (3953, 0.31167144351388154), (4020, 0.31167144351388154), (4221, 0.31167144351388154), (4573, 0.31167144351388154), (4606, 0.31167144351388154), (4608, 0.31167144351388154), (4649, 0.31167144351388154), (4705, 0.31167144351388154), (4743, 0.31167144351388154), (674, 0.31013365362307027), (4676, 0.31013365362307027), (912, 0.30824087456615096), (4346, 0.30824087456615096), (1195, 0.29990947122666833), (1664, 0.29990947122666833), (2927, 0.29990947122666833), (8, 0.2969365696941186), (29, 0.2969365696941186), (33, 0.2969365696941186), (62, 0.2969365696941186), (121, 0.2969365696941186), (132, 0.2969365696941186), (192, 0.2969365696941186), (193, 0.2969365696941186), (194, 0.2969365696941186), (198, 0.2969365696941186), (224, 0.2969365696941186), (227, 0.2969365696941186), (309, 0.2969365696941186), (326, 0.2969365696941186), (358, 0.2969365696941186), (388, 0.2969365696941186), (448, 0.2969365696941186), (455, 0.2969365696941186), (464, 0.2969365696941186), (465, 0.2969365696941186), (475, 0.2969365696941186), (489, 0.2969365696941186), (490, 0.2969365696941186), (524, 0.2969365696941186), (587, 0.2969365696941186), (612, 0.2969365696941186), (623, 0.2969365696941186), (638, 0.2969365696941186), (698, 0.2969365696941186), (705, 0.2969365696941186), (774, 0.2969365696941186), (813, 0.2969365696941186), (830, 0.2969365696941186), (838, 0.2969365696941186), (843, 0.2969365696941186), (844, 0.2969365696941186), (865, 0.2969365696941186), (897, 0.2969365696941186), (944, 0.2969365696941186), (959, 0.2969365696941186), (975, 0.2969365696941186), (1026, 0.2969365696941186), (1027, 0.2969365696941186), (1034, 0.2969365696941186), (1052, 0.2969365696941186), (1075, 0.2969365696941186), (1077, 0.2969365696941186), (1145, 0.2969365696941186), (1247, 0.2969365696941186), (1305, 0.2969365696941186), (1365, 0.2969365696941186), (1415, 0.2969365696941186), (1423, 0.2969365696941186), (1558, 0.2969365696941186), (1612, 0.2969365696941186), (1619, 0.2969365696941186), (1624, 0.2969365696941186), (1648, 0.2969365696941186), (1655, 0.2969365696941186), (1666, 0.2969365696941186), (1682, 0.2969365696941186), (1685, 0.2969365696941186), (1743, 0.2969365696941186), (1747, 0.2969365696941186), (1762, 0.2969365696941186), (1763, 0.2969365696941186), (1768, 0.2969365696941186), (1782, 0.2969365696941186), (1860, 0.2969365696941186), (1869, 0.2969365696941186), (1885, 0.2969365696941186), (1909, 0.2969365696941186), (2004, 0.2969365696941186), (2035, 0.2969365696941186), (2051, 0.2969365696941186), (2105, 0.2969365696941186), (2132, 0.2969365696941186), (2144, 0.2969365696941186), (2149, 0.2969365696941186), (2155, 0.2969365696941186), (2195, 0.2969365696941186), (2230, 0.2969365696941186), (2266, 0.2969365696941186), (2319, 0.2969365696941186), (2338, 0.2969365696941186), (2349, 0.2969365696941186), (2362, 0.2969365696941186), (2405, 0.2969365696941186), (2407, 0.2969365696941186), (2453, 0.2969365696941186), (2457, 0.2969365696941186), (2475, 0.2969365696941186), (2528, 0.2969365696941186), (2560, 0.2969365696941186), (2650, 0.2969365696941186), (2664, 0.2969365696941186), (2761, 0.2969365696941186), (2775, 0.2969365696941186), (2798, 0.2969365696941186), (2809, 0.2969365696941186), (2859, 0.2969365696941186), (2863, 0.2969365696941186), (2870, 0.2969365696941186), (2883, 0.2969365696941186), (2890, 0.2969365696941186), (2892, 0.2969365696941186), (2894, 0.2969365696941186), (2904, 0.2969365696941186), (2907, 0.2969365696941186), (2911, 0.2969365696941186), (2915, 0.2969365696941186), (2975, 0.2969365696941186), (3013, 0.2969365696941186), (3015, 0.2969365696941186), (3030, 0.2969365696941186), (3056, 0.2969365696941186), (3067, 0.2969365696941186), (3072, 0.2969365696941186), (3075, 0.2969365696941186), (3094, 0.2969365696941186), (3116, 0.2969365696941186), (3140, 0.2969365696941186), (3148, 0.2969365696941186), (3170, 0.2969365696941186), (3200, 0.2969365696941186), (3237, 0.2969365696941186), (3248, 0.2969365696941186), (3254, 0.2969365696941186), (3268, 0.2969365696941186), (3273, 0.2969365696941186), (3274, 0.2969365696941186), (3291, 0.2969365696941186), (3296, 0.2969365696941186), (3300, 0.2969365696941186), (3302, 0.2969365696941186), (3335, 0.2969365696941186), (3359, 0.2969365696941186), (3380, 0.2969365696941186), (3391, 0.2969365696941186), (3406, 0.2969365696941186), (3425, 0.2969365696941186), (3434, 0.2969365696941186), (3506, 0.2969365696941186), (3511, 0.2969365696941186), (3524, 0.2969365696941186), (3551, 0.2969365696941186), (3614, 0.2969365696941186), (3654, 0.2969365696941186), (3655, 0.2969365696941186), (3745, 0.2969365696941186), (3804, 0.2969365696941186), (3809, 0.2969365696941186), (3829, 0.2969365696941186), (3893, 0.2969365696941186), (3898, 0.2969365696941186), (3904, 0.2969365696941186), (3913, 0.2969365696941186), (3915, 0.2969365696941186), (3925, 0.2969365696941186), (3932, 0.2969365696941186), (3954, 0.2969365696941186), (3999, 0.2969365696941186), (4079, 0.2969365696941186), (4080, 0.2969365696941186), (4082, 0.2969365696941186), (4138, 0.2969365696941186), (4175, 0.2969365696941186), (4183, 0.2969365696941186), (4197, 0.2969365696941186), (4243, 0.2969365696941186), (4306, 0.2969365696941186), (4320, 0.2969365696941186), (4333, 0.2969365696941186), (4350, 0.2969365696941186), (4369, 0.2969365696941186), (4381, 0.2969365696941186), (4411, 0.2969365696941186), (4458, 0.2969365696941186), (4479, 0.2969365696941186), (4575, 0.2969365696941186), (4605, 0.2969365696941186), (4625, 0.2969365696941186), (4632, 0.2969365696941186), (4657, 0.2969365696941186), (4712, 0.2969365696941186), (935, 0.2901802634428017), (1087, 0.2901802634428017), (1503, 0.2901802634428017), (1650, 0.2901802634428017), (2285, 0.2901802634428017), (2324, 0.2901802634428017), (2725, 0.2901802634428017), (3629, 0.2901802634428017), (3877, 0.2901802634428017), (3903, 0.2901802634428017), (4016, 0.2901802634428017), (4074, 0.2901802634428017), (4428, 0.2901802634428017), (43, 0.28346312666872564), (96, 0.28346312666872564), (105, 0.28346312666872564), (106, 0.28346312666872564), (108, 0.28346312666872564), (109, 0.28346312666872564), (111, 0.28346312666872564), (126, 0.28346312666872564), (142, 0.28346312666872564), (172, 0.28346312666872564), (173, 0.28346312666872564), (209, 0.28346312666872564), (216, 0.28346312666872564), (254, 0.28346312666872564), (256, 0.28346312666872564), (274, 0.28346312666872564), (280, 0.28346312666872564), (281, 0.28346312666872564), (285, 0.28346312666872564), (287, 0.28346312666872564), (342, 0.28346312666872564), (396, 0.28346312666872564), (485, 0.28346312666872564), (544, 0.28346312666872564), (828, 0.28346312666872564), (874, 0.28346312666872564), (894, 0.28346312666872564), (1264, 0.28346312666872564), (1339, 0.28346312666872564), (1620, 0.28346312666872564), (1754, 0.28346312666872564), (1776, 0.28346312666872564), (1854, 0.28346312666872564), (1874, 0.28346312666872564), (2023, 0.28346312666872564), (2029, 0.28346312666872564), (2080, 0.28346312666872564), (2126, 0.28346312666872564), (2321, 0.28346312666872564), (2346, 0.28346312666872564), (2649, 0.28346312666872564), (2739, 0.28346312666872564), (2752, 0.28346312666872564), (2849, 0.28346312666872564), (3076, 0.28346312666872564), (3095, 0.28346312666872564), (3119, 0.28346312666872564), (3120, 0.28346312666872564), (3293, 0.28346312666872564), (3956, 0.28346312666872564), (4048, 0.28346312666872564), (4053, 0.28346312666872564), (4187, 0.28346312666872564), (4232, 0.28346312666872564), (4465, 0.28346312666872564), (4469, 0.28346312666872564), (4617, 0.28346312666872564), (4722, 0.28346312666872564), (923, 0.275082368988544), (1488, 0.275082368988544), (1902, 0.275082368988544), (2348, 0.275082368988544), (3349, 0.275082368988544), (3571, 0.275082368988544), (4522, 0.275082368988544), (672, 0.27162293022630135), (1516, 0.27162293022630135), (2166, 0.27162293022630135), (2720, 0.27162293022630135), (3297, 0.27162293022630135), (3373, 0.27162293022630135), (1163, 0.26831471800689144), (1813, 0.26831471800689144), (1882, 0.26831471800689144), (1891, 0.26831471800689144), (1916, 0.26831471800689144), (2400, 0.26831471800689144), (4085, 0.26831471800689144), (4607, 0.26831471800689144), (437, 0.26763895800256604), (1182, 0.26763895800256604), (2176, 0.26763895800256604), (2257, 0.26763895800256604), (2393, 0.26763895800256604), (2448, 0.26763895800256604), (2568, 0.26763895800256604), (2579, 0.26763895800256604), (2612, 0.26763895800256604), (2901, 0.26763895800256604), (2980, 0.26763895800256604), (3151, 0.26763895800256604), (3219, 0.26763895800256604), (3557, 0.26763895800256604), (3620, 0.26763895800256604), (3643, 0.26763895800256604), (3813, 0.26763895800256604), (3990, 0.26763895800256604), (4330, 0.26763895800256604), (4340, 0.26763895800256604), (4604, 0.26763895800256604), (3, 0.26170274864909593), (103, 0.26170274864909593), (114, 0.26170274864909593), (129, 0.26170274864909593), (156, 0.26170274864909593), (161, 0.26170274864909593), (169, 0.26170274864909593), (174, 0.26170274864909593), (195, 0.26170274864909593), (202, 0.26170274864909593), (211, 0.26170274864909593), (212, 0.26170274864909593), (278, 0.26170274864909593), (279, 0.26170274864909593), (318, 0.26170274864909593), (325, 0.26170274864909593), (431, 0.26170274864909593), (471, 0.26170274864909593), (504, 0.26170274864909593), (510, 0.26170274864909593), (579, 0.26170274864909593), (589, 0.26170274864909593), (605, 0.26170274864909593), (609, 0.26170274864909593), (697, 0.26170274864909593), (735, 0.26170274864909593), (737, 0.26170274864909593), (847, 0.26170274864909593), (867, 0.26170274864909593), (883, 0.26170274864909593), (885, 0.26170274864909593), (890, 0.26170274864909593), (907, 0.26170274864909593), (973, 0.26170274864909593), (985, 0.26170274864909593), (998, 0.26170274864909593), (999, 0.26170274864909593), (1002, 0.26170274864909593), (1040, 0.26170274864909593), (1049, 0.26170274864909593), (1084, 0.26170274864909593), (1109, 0.26170274864909593), (1170, 0.26170274864909593), (1187, 0.26170274864909593), (1208, 0.26170274864909593), (1216, 0.26170274864909593), (1217, 0.26170274864909593), (1286, 0.26170274864909593), (1313, 0.26170274864909593), (1364, 0.26170274864909593), (1372, 0.26170274864909593), (1382, 0.26170274864909593), (1403, 0.26170274864909593), (1410, 0.26170274864909593), (1427, 0.26170274864909593), (1476, 0.26170274864909593), (1479, 0.26170274864909593), (1518, 0.26170274864909593), (1543, 0.26170274864909593), (1594, 0.26170274864909593), (1693, 0.26170274864909593), (1719, 0.26170274864909593), (1722, 0.26170274864909593), (1827, 0.26170274864909593), (1851, 0.26170274864909593), (1871, 0.26170274864909593), (1893, 0.26170274864909593), (1905, 0.26170274864909593), (1951, 0.26170274864909593), (2068, 0.26170274864909593), (2108, 0.26170274864909593), (2111, 0.26170274864909593), (2116, 0.26170274864909593), (2122, 0.26170274864909593), (2131, 0.26170274864909593), (2187, 0.26170274864909593), (2193, 0.26170274864909593), (2201, 0.26170274864909593), (2302, 0.26170274864909593), (2320, 0.26170274864909593), (2375, 0.26170274864909593), (2385, 0.26170274864909593), (2391, 0.26170274864909593), (2397, 0.26170274864909593), (2402, 0.26170274864909593), (2410, 0.26170274864909593), (2422, 0.26170274864909593), (2434, 0.26170274864909593), (2441, 0.26170274864909593), (2467, 0.26170274864909593), (2488, 0.26170274864909593), (2492, 0.26170274864909593), (2494, 0.26170274864909593), (2509, 0.26170274864909593), (2529, 0.26170274864909593), (2535, 0.26170274864909593), (2553, 0.26170274864909593), (2570, 0.26170274864909593), (2610, 0.26170274864909593), (2633, 0.26170274864909593), (2661, 0.26170274864909593), (2678, 0.26170274864909593), (2687, 0.26170274864909593), (2696, 0.26170274864909593), (2702, 0.26170274864909593), (2744, 0.26170274864909593), (2746, 0.26170274864909593), (2747, 0.26170274864909593), (2748, 0.26170274864909593), (2764, 0.26170274864909593), (2769, 0.26170274864909593), (2776, 0.26170274864909593), (2797, 0.26170274864909593), (2832, 0.26170274864909593), (2834, 0.26170274864909593), (2838, 0.26170274864909593), (2857, 0.26170274864909593), (2872, 0.26170274864909593), (2876, 0.26170274864909593), (2893, 0.26170274864909593), (2924, 0.26170274864909593), (2933, 0.26170274864909593), (2945, 0.26170274864909593), (2999, 0.26170274864909593), (3050, 0.26170274864909593), (3071, 0.26170274864909593), (3137, 0.26170274864909593), (3147, 0.26170274864909593), (3166, 0.26170274864909593), (3178, 0.26170274864909593), (3182, 0.26170274864909593), (3183, 0.26170274864909593), (3194, 0.26170274864909593), (3214, 0.26170274864909593), (3218, 0.26170274864909593), (3220, 0.26170274864909593), (3246, 0.26170274864909593), (3258, 0.26170274864909593), (3271, 0.26170274864909593), (3282, 0.26170274864909593), (3308, 0.26170274864909593), (3315, 0.26170274864909593), (3352, 0.26170274864909593), (3364, 0.26170274864909593), (3388, 0.26170274864909593), (3413, 0.26170274864909593), (3421, 0.26170274864909593), (3447, 0.26170274864909593), (3449, 0.26170274864909593), (3477, 0.26170274864909593), (3479, 0.26170274864909593), (3493, 0.26170274864909593), (3496, 0.26170274864909593), (3500, 0.26170274864909593), (3526, 0.26170274864909593), (3541, 0.26170274864909593), (3552, 0.26170274864909593), (3599, 0.26170274864909593), (3601, 0.26170274864909593), (3626, 0.26170274864909593), (3646, 0.26170274864909593), (3678, 0.26170274864909593), (3767, 0.26170274864909593), (3792, 0.26170274864909593), (3839, 0.26170274864909593), (3866, 0.26170274864909593), (3868, 0.26170274864909593), (3875, 0.26170274864909593), (3882, 0.26170274864909593), (3952, 0.26170274864909593), (4025, 0.26170274864909593), (4051, 0.26170274864909593), (4104, 0.26170274864909593), (4117, 0.26170274864909593), (4156, 0.26170274864909593), (4222, 0.26170274864909593), (4295, 0.26170274864909593), (4311, 0.26170274864909593), (4321, 0.26170274864909593), (4422, 0.26170274864909593), (4652, 0.26170274864909593), (4719, 0.26170274864909593), (44, 0.26127712573150397), (442, 0.26127712573150397), (470, 0.26127712573150397), (670, 0.26127712573150397), (688, 0.26127712573150397), (728, 0.26127712573150397), (845, 0.26127712573150397), (868, 0.26127712573150397), (1174, 0.26127712573150397), (1257, 0.26127712573150397), (1442, 0.26127712573150397), (1454, 0.26127712573150397), (1484, 0.26127712573150397), (1876, 0.26127712573150397), (2088, 0.26127712573150397), (2188, 0.26127712573150397), (2459, 0.26127712573150397), (2778, 0.26127712573150397), (2840, 0.26127712573150397), (2854, 0.26127712573150397), (3227, 0.26127712573150397), (3556, 0.26127712573150397), (3680, 0.26127712573150397), (3771, 0.26127712573150397), (4005, 0.26127712573150397), (4038, 0.26127712573150397), (4098, 0.26127712573150397), (4249, 0.26127712573150397), (4430, 0.26127712573150397), (4432, 0.26127712573150397), (4443, 0.26127712573150397), (4444, 0.26127712573150397), (4661, 0.26127712573150397), (182, 0.2570421452120574), (594, 0.2570421452120574), (2569, 0.2570421452120574), (255, 0.25241199627496314), (356, 0.25241199627496314), (406, 0.25241199627496314), (930, 0.25241199627496314), (1421, 0.25241199627496314), (1472, 0.25241199627496314), (1845, 0.25241199627496314), (1866, 0.25241199627496314), (4309, 0.25241199627496314), (479, 0.2523385420293202), (757, 0.2523385420293202), (939, 0.2523385420293202), (1078, 0.2523385420293202), (1234, 0.2523385420293202), (1582, 0.2523385420293202), (1861, 0.2523385420293202), (1923, 0.2523385420293202), (2076, 0.2523385420293202), (2264, 0.2523385420293202), (2464, 0.2523385420293202), (2546, 0.2523385420293202), (3155, 0.2523385420293202), (3382, 0.2523385420293202), (3418, 0.2523385420293202), (3941, 0.2523385420293202), (3984, 0.2523385420293202), (3992, 0.2523385420293202), (4203, 0.2523385420293202), (4246, 0.2523385420293202), (4610, 0.2523385420293202), (929, 0.2497313533446277), (1023, 0.2497313533446277), (1122, 0.2497313533446277), (1977, 0.2497313533446277), (2943, 0.2497313533446277), (3165, 0.2497313533446277), (3560, 0.2497313533446277), (104, 0.24935784535483707), (158, 0.24935784535483707), (1920, 0.24935784535483707), (2359, 0.24935784535483707), (2698, 0.24935784535483707), (2889, 0.24935784535483707), (3027, 0.24935784535483707), (3342, 0.24822258996043794), (3638, 0.24822258996043794), (4533, 0.24822258996043794), (41, 0.24567188681418672), (119, 0.24567188681418672), (292, 0.24567188681418672), (1254, 0.24567188681418672), (1301, 0.24567188681418672), (1936, 0.24567188681418672), (2034, 0.24567188681418672), (2127, 0.24567188681418672), (2356, 0.24567188681418672), (2640, 0.24567188681418672), (2707, 0.24567188681418672), (2826, 0.24567188681418672), (2895, 0.24567188681418672), (2937, 0.24567188681418672), (3206, 0.24567188681418672), (3419, 0.24567188681418672), (3917, 0.24567188681418672), (4130, 0.24567188681418672), (4142, 0.24567188681418672), (4550, 0.24567188681418672), (4589, 0.24567188681418672), (18, 0.24397892028690443), (21, 0.24397892028690443), (112, 0.24397892028690443), (124, 0.24397892028690443), (149, 0.24397892028690443), (166, 0.24397892028690443), (190, 0.24397892028690443), (199, 0.24397892028690443), (276, 0.24397892028690443), (370, 0.24397892028690443), (447, 0.24397892028690443), (450, 0.24397892028690443), (463, 0.24397892028690443), (481, 0.24397892028690443), (502, 0.24397892028690443), (543, 0.24397892028690443), (584, 0.24397892028690443), (604, 0.24397892028690443), (643, 0.24397892028690443), (675, 0.24397892028690443), (799, 0.24397892028690443), (829, 0.24397892028690443), (853, 0.24397892028690443), (860, 0.24397892028690443), (876, 0.24397892028690443), (888, 0.24397892028690443), (942, 0.24397892028690443), (989, 0.24397892028690443), (1107, 0.24397892028690443), (1132, 0.24397892028690443), (1148, 0.24397892028690443), (1275, 0.24397892028690443), (1481, 0.24397892028690443), (1621, 0.24397892028690443), (1739, 0.24397892028690443), (1967, 0.24397892028690443), (1997, 0.24397892028690443), (2037, 0.24397892028690443), (2053, 0.24397892028690443), (2070, 0.24397892028690443), (2096, 0.24397892028690443), (2154, 0.24397892028690443), (2174, 0.24397892028690443), (2196, 0.24397892028690443), (2214, 0.24397892028690443), (2216, 0.24397892028690443), (2334, 0.24397892028690443), (2406, 0.24397892028690443), (2447, 0.24397892028690443), (2602, 0.24397892028690443), (2621, 0.24397892028690443), (2692, 0.24397892028690443), (2784, 0.24397892028690443), (2808, 0.24397892028690443), (2919, 0.24397892028690443), (2961, 0.24397892028690443), (3012, 0.24397892028690443), (3019, 0.24397892028690443), (3043, 0.24397892028690443), (3154, 0.24397892028690443), (3370, 0.24397892028690443), (3483, 0.24397892028690443), (3640, 0.24397892028690443), (3675, 0.24397892028690443), (3699, 0.24397892028690443), (3756, 0.24397892028690443), (3766, 0.24397892028690443), (3777, 0.24397892028690443), (3801, 0.24397892028690443), (3819, 0.24397892028690443), (3854, 0.24397892028690443), (3883, 0.24397892028690443), (3959, 0.24397892028690443), (3961, 0.24397892028690443), (4000, 0.24397892028690443), (4004, 0.24397892028690443), (4123, 0.24397892028690443), (4124, 0.24397892028690443), (4178, 0.24397892028690443), (4231, 0.24397892028690443), (4242, 0.24397892028690443), (4374, 0.24397892028690443), (4387, 0.24397892028690443), (4474, 0.24397892028690443), (4475, 0.24397892028690443), (4531, 0.24397892028690443), (4658, 0.24397892028690443), (4669, 0.24397892028690443), (4679, 0.24397892028690443), (4724, 0.24397892028690443), (4735, 0.24397892028690443), (123, 0.24155555349963556), (683, 0.24155555349963556), (994, 0.24155555349963556), (1005, 0.24155555349963556), (1290, 0.24155555349963556), (1338, 0.24155555349963556), (1527, 0.24155555349963556), (1736, 0.24155555349963556), (2625, 0.24155555349963556), (3306, 0.24155555349963556), (4033, 0.24155555349963556), (4435, 0.24155555349963556), (4477, 0.24155555349963556), (4619, 0.24155555349963556), (4739, 0.24155555349963556), (925, 0.24147438593266327), (1907, 0.24147438593266327), (351, 0.24098145745562594), (824, 0.24098145745562594), (1088, 0.24098145745562594), (1251, 0.24098145745562594), (2099, 0.24098145745562594), (2199, 0.24098145745562594), (2223, 0.24098145745562594), (2379, 0.24098145745562594), (2423, 0.24098145745562594), (2591, 0.24098145745562594), (2592, 0.24098145745562594), (2721, 0.24098145745562594), (2741, 0.24098145745562594), (2782, 0.24098145745562594), (2972, 0.24098145745562594), (3187, 0.24098145745562594), (3234, 0.24098145745562594), (3673, 0.24098145745562594), (3763, 0.24098145745562594), (3822, 0.24098145745562594), (3892, 0.24098145745562594), (4259, 0.24098145745562594), (4756, 0.24098145745562594), (921, 0.23825897506402494), (2287, 0.23825897506402494), (2740, 0.23825897506402494), (3327, 0.23825897506402494), (3546, 0.23825897506402494), (3826, 0.23825897506402494), (4418, 0.23825897506402494), (350, 0.23630620732809635), (3514, 0.23630620732809635), (408, 0.23449854348853955), (547, 0.23449854348853955), (1053, 0.23449854348853955), (1858, 0.23449854348853955), (2489, 0.23449854348853955), (3407, 0.23449854348853955), (4060, 0.23449854348853955), (222, 0.23411821433756724), (968, 0.23411821433756724), (1041, 0.23411821433756724), (1192, 0.23411821433756724), (1202, 0.23411821433756724), (1351, 0.23411821433756724), (1555, 0.23411821433756724), (1643, 0.23411821433756724), (2031, 0.23411821433756724), (2255, 0.23411821433756724), (3195, 0.23411821433756724), (3433, 0.23411821433756724), (3471, 0.23411821433756724), (3474, 0.23411821433756724), (3487, 0.23411821433756724), (3666, 0.23411821433756724), (3901, 0.23411821433756724), (4133, 0.23411821433756724), (4412, 0.23411821433756724), (4517, 0.23411821433756724), (4674, 0.23411821433756724), (646, 0.23256476871009651), (2595, 0.23256476871009651), (1489, 0.22968699695779107), (2399, 0.2276616209789298), (3357, 0.2273785373780136), (4420, 0.2273785373780136), (4489, 0.2273785373780136), (2966, 0.22570312730641315), (3235, 0.22570312730641315), (228, 0.22557641044757626), (330, 0.22557641044757626), (348, 0.22557641044757626), (372, 0.22557641044757626), (400, 0.22557641044757626), (593, 0.22557641044757626), (596, 0.22557641044757626), (598, 0.22557641044757626), (626, 0.22557641044757626), (721, 0.22557641044757626), (722, 0.22557641044757626), (798, 0.22557641044757626), (850, 0.22557641044757626), (858, 0.22557641044757626), (1209, 0.22557641044757626), (1306, 0.22557641044757626), (1349, 0.22557641044757626), (1580, 0.22557641044757626), (1703, 0.22557641044757626), (1780, 0.22557641044757626), (1808, 0.22557641044757626), (1884, 0.22557641044757626), (1969, 0.22557641044757626), (2251, 0.22557641044757626), (2347, 0.22557641044757626), (2563, 0.22557641044757626), (2611, 0.22557641044757626), (2800, 0.22557641044757626), (2868, 0.22557641044757626), (2977, 0.22557641044757626), (3028, 0.22557641044757626), (3046, 0.22557641044757626), (3301, 0.22557641044757626), (3379, 0.22557641044757626), (3399, 0.22557641044757626), (3590, 0.22557641044757626), (3725, 0.22557641044757626), (3751, 0.22557641044757626), (3784, 0.22557641044757626), (3951, 0.22557641044757626), (4069, 0.22557641044757626), (4137, 0.22557641044757626), (4247, 0.22557641044757626), (4400, 0.22557641044757626), (4504, 0.22557641044757626), (4520, 0.22557641044757626), (4563, 0.22557641044757626), (4640, 0.22557641044757626), (2301, 0.22530045534904217), (2390, 0.22530045534904217), (3111, 0.22530045534904217), (4718, 0.22530045534904217), (205, 0.224830662431076), (366, 0.224830662431076), (393, 0.224830662431076), (422, 0.224830662431076), (454, 0.224830662431076), (525, 0.224830662431076), (535, 0.224830662431076), (536, 0.224830662431076), (577, 0.224830662431076), (585, 0.224830662431076), (648, 0.224830662431076), (679, 0.224830662431076), (708, 0.224830662431076), (710, 0.224830662431076), (711, 0.224830662431076), (730, 0.224830662431076), (771, 0.224830662431076), (772, 0.224830662431076), (814, 0.224830662431076), (837, 0.224830662431076), (839, 0.224830662431076), (840, 0.224830662431076), (841, 0.224830662431076), (892, 0.224830662431076), (943, 0.224830662431076), (955, 0.224830662431076), (958, 0.224830662431076), (978, 0.224830662431076), (995, 0.224830662431076), (1028, 0.224830662431076), (1029, 0.224830662431076), (1062, 0.224830662431076), (1070, 0.224830662431076), (1089, 0.224830662431076), (1093, 0.224830662431076), (1103, 0.224830662431076), (1105, 0.224830662431076), (1106, 0.224830662431076), (1125, 0.224830662431076), (1130, 0.224830662431076), (1133, 0.224830662431076), (1139, 0.224830662431076), (1149, 0.224830662431076), (1152, 0.224830662431076), (1178, 0.224830662431076), (1180, 0.224830662431076), (1227, 0.224830662431076), (1267, 0.224830662431076), (1289, 0.224830662431076), (1297, 0.224830662431076), (1299, 0.224830662431076), (1311, 0.224830662431076), (1322, 0.224830662431076), (1331, 0.224830662431076), (1353, 0.224830662431076), (1376, 0.224830662431076), (1389, 0.224830662431076), (1390, 0.224830662431076), (1425, 0.224830662431076), (1444, 0.224830662431076), (1492, 0.224830662431076), (1508, 0.224830662431076), (1517, 0.224830662431076), (1526, 0.224830662431076), (1561, 0.224830662431076), (1563, 0.224830662431076), (1583, 0.224830662431076), (1586, 0.224830662431076), (1609, 0.224830662431076), (1626, 0.224830662431076), (1644, 0.224830662431076), (1646, 0.224830662431076), (1654, 0.224830662431076), (1668, 0.224830662431076), (1673, 0.224830662431076), (1679, 0.224830662431076), (1689, 0.224830662431076), (1698, 0.224830662431076), (1702, 0.224830662431076), (1715, 0.224830662431076), (1729, 0.224830662431076), (1737, 0.224830662431076), (1741, 0.224830662431076), (1752, 0.224830662431076), (1757, 0.224830662431076), (1767, 0.224830662431076), (1777, 0.224830662431076), (1785, 0.224830662431076), (1786, 0.224830662431076), (1790, 0.224830662431076), (1834, 0.224830662431076), (1849, 0.224830662431076), (1856, 0.224830662431076), (1879, 0.224830662431076), (1906, 0.224830662431076), (1915, 0.224830662431076), (1917, 0.224830662431076), (1928, 0.224830662431076), (1938, 0.224830662431076), (1944, 0.224830662431076), (1957, 0.224830662431076), (1978, 0.224830662431076), (1994, 0.224830662431076), (2002, 0.224830662431076), (2005, 0.224830662431076), (2042, 0.224830662431076), (2063, 0.224830662431076), (2064, 0.224830662431076), (2071, 0.224830662431076), (2079, 0.224830662431076), (2092, 0.224830662431076), (2098, 0.224830662431076), (2128, 0.224830662431076), (2138, 0.224830662431076), (2147, 0.224830662431076), (2202, 0.224830662431076), (2203, 0.224830662431076), (2204, 0.224830662431076), (2215, 0.224830662431076), (2219, 0.224830662431076), (2271, 0.224830662431076), (2272, 0.224830662431076), (2282, 0.224830662431076), (2305, 0.224830662431076), (2307, 0.224830662431076), (2311, 0.224830662431076), (2312, 0.224830662431076), (2325, 0.224830662431076), (2339, 0.224830662431076), (2360, 0.224830662431076), (2366, 0.224830662431076), (2377, 0.224830662431076), (2380, 0.224830662431076), (2384, 0.224830662431076), (2445, 0.224830662431076), (2452, 0.224830662431076), (2455, 0.224830662431076), (2458, 0.224830662431076), (2460, 0.224830662431076), (2465, 0.224830662431076), (2483, 0.224830662431076), (2491, 0.224830662431076), (2508, 0.224830662431076), (2510, 0.224830662431076), (2515, 0.224830662431076), (2518, 0.224830662431076), (2523, 0.224830662431076), (2536, 0.224830662431076), (2542, 0.224830662431076), (2548, 0.224830662431076), (2551, 0.224830662431076), (2620, 0.224830662431076), (2631, 0.224830662431076), (2639, 0.224830662431076), (2648, 0.224830662431076), (2669, 0.224830662431076), (2675, 0.224830662431076), (2684, 0.224830662431076), (2703, 0.224830662431076), (2726, 0.224830662431076), (2734, 0.224830662431076), (2818, 0.224830662431076), (2823, 0.224830662431076), (2852, 0.224830662431076), (2875, 0.224830662431076), (2896, 0.224830662431076), (2930, 0.224830662431076), (2941, 0.224830662431076), (2951, 0.224830662431076), (2968, 0.224830662431076), (3038, 0.224830662431076), (3041, 0.224830662431076), (3054, 0.224830662431076), (3060, 0.224830662431076), (3073, 0.224830662431076), (3082, 0.224830662431076), (3087, 0.224830662431076), (3088, 0.224830662431076), (3090, 0.224830662431076), (3104, 0.224830662431076), (3106, 0.224830662431076), (3164, 0.224830662431076), (3190, 0.224830662431076), (3197, 0.224830662431076), (3203, 0.224830662431076), (3207, 0.224830662431076), (3209, 0.224830662431076), (3266, 0.224830662431076), (3277, 0.224830662431076), (3309, 0.224830662431076), (3321, 0.224830662431076), (3324, 0.224830662431076), (3350, 0.224830662431076), (3378, 0.224830662431076), (3415, 0.224830662431076), (3422, 0.224830662431076), (3428, 0.224830662431076), (3442, 0.224830662431076), (3462, 0.224830662431076), (3475, 0.224830662431076), (3494, 0.224830662431076), (3509, 0.224830662431076), (3510, 0.224830662431076), (3518, 0.224830662431076), (3519, 0.224830662431076), (3543, 0.224830662431076), (3563, 0.224830662431076), (3572, 0.224830662431076), (3622, 0.224830662431076), (3662, 0.224830662431076), (3683, 0.224830662431076), (3712, 0.224830662431076), (3722, 0.224830662431076), (3730, 0.224830662431076), (3736, 0.224830662431076), (3740, 0.224830662431076), (3759, 0.224830662431076), (3789, 0.224830662431076), (3791, 0.224830662431076), (3818, 0.224830662431076), (3820, 0.224830662431076), (3836, 0.224830662431076), (3837, 0.224830662431076), (3861, 0.224830662431076), (3864, 0.224830662431076), (3885, 0.224830662431076), (3896, 0.224830662431076), (3909, 0.224830662431076), (3912, 0.224830662431076), (3914, 0.224830662431076), (3916, 0.224830662431076), (3921, 0.224830662431076), (3926, 0.224830662431076), (3930, 0.224830662431076), (3931, 0.224830662431076), (3934, 0.224830662431076), (3969, 0.224830662431076), (3988, 0.224830662431076), (3996, 0.224830662431076), (4003, 0.224830662431076), (4008, 0.224830662431076), (4035, 0.224830662431076), (4058, 0.224830662431076), (4097, 0.224830662431076), (4115, 0.224830662431076), (4125, 0.224830662431076), (4127, 0.224830662431076), (4149, 0.224830662431076), (4184, 0.224830662431076), (4204, 0.224830662431076), (4214, 0.224830662431076), (4256, 0.224830662431076), (4258, 0.224830662431076), (4260, 0.224830662431076), (4291, 0.224830662431076), (4297, 0.224830662431076), (4305, 0.224830662431076), (4317, 0.224830662431076), (4329, 0.224830662431076), (4332, 0.224830662431076), (4335, 0.224830662431076), (4358, 0.224830662431076), (4367, 0.224830662431076), (4370, 0.224830662431076), (4388, 0.224830662431076), (4413, 0.224830662431076), (4421, 0.224830662431076), (4451, 0.224830662431076), (4452, 0.224830662431076), (4480, 0.224830662431076), (4496, 0.224830662431076), (4506, 0.224830662431076), (4556, 0.224830662431076), (4558, 0.224830662431076), (4560, 0.224830662431076), (4577, 0.224830662431076), (4592, 0.224830662431076), (4596, 0.224830662431076), (4648, 0.224830662431076), (4655, 0.224830662431076), (4667, 0.224830662431076), (4737, 0.224830662431076), (1232, 0.223278067563858), (2925, 0.223278067563858), (349, 0.2227526579826592), (551, 0.2227526579826592), (578, 0.2227526579826592), (616, 0.2227526579826592), (818, 0.2227526579826592), (962, 0.2227526579826592), (1710, 0.2227526579826592), (1717, 0.2227526579826592), (2438, 0.2227526579826592), (2469, 0.2227526579826592), (2526, 0.2227526579826592), (2534, 0.2227526579826592), (2538, 0.2227526579826592), (2845, 0.2227526579826592), (2965, 0.2227526579826592), (3264, 0.2227526579826592), (3639, 0.2227526579826592), (3677, 0.2227526579826592), (3778, 0.2227526579826592), (3902, 0.2227526579826592), (3920, 0.2227526579826592), (4002, 0.2227526579826592), (4151, 0.2227526579826592), (4205, 0.2227526579826592), (4286, 0.2227526579826592), (4298, 0.2227526579826592), (4368, 0.2227526579826592), (4511, 0.2227526579826592), (457, 0.22230611442259507), (641, 0.22230611442259507), (1206, 0.22230611442259507), (2473, 0.22230611442259507), (2887, 0.22230611442259507), (3360, 0.22230611442259507), (4160, 0.22230611442259507), (4501, 0.22230611442259507), (1065, 0.221465814401595), (1513, 0.2214161950990944), (1727, 0.2214161950990944), (3097, 0.2214161950990944), (3267, 0.2214161950990944), (4293, 0.2214161950990944), (200, 0.22120519376101744), (329, 0.22120519376101744), (433, 0.22120519376101744), (436, 0.22120519376101744), (443, 0.22120519376101744), (482, 0.22120519376101744), (636, 0.22120519376101744), (742, 0.22120519376101744), (808, 0.22120519376101744), (832, 0.22120519376101744), (910, 0.22120519376101744), (980, 0.22120519376101744), (1071, 0.22120519376101744), (1255, 0.22120519376101744), (1356, 0.22120519376101744), (1375, 0.22120519376101744), (1429, 0.22120519376101744), (1519, 0.22120519376101744), (1779, 0.22120519376101744), (1811, 0.22120519376101744), (1892, 0.22120519376101744), (1924, 0.22120519376101744), (1964, 0.22120519376101744), (2008, 0.22120519376101744), (2089, 0.22120519376101744), (2191, 0.22120519376101744), (2374, 0.22120519376101744), (2477, 0.22120519376101744), (2598, 0.22120519376101744), (2632, 0.22120519376101744), (2879, 0.22120519376101744), (2917, 0.22120519376101744), (2981, 0.22120519376101744), (3153, 0.22120519376101744), (3325, 0.22120519376101744), (3460, 0.22120519376101744), (3704, 0.22120519376101744), (3705, 0.22120519376101744), (4284, 0.22120519376101744), (4299, 0.22120519376101744), (4494, 0.22120519376101744), (558, 0.21961324640437818), (120, 0.21924224454021796), (1408, 0.21886902768455083), (2755, 0.21886902768455083), (208, 0.21861987160865357), (519, 0.21861987160865357), (716, 0.21861987160865357), (911, 0.21861987160865357), (1001, 0.21861987160865357), (1179, 0.21861987160865357), (1225, 0.21861987160865357), (1675, 0.21861987160865357), (1931, 0.21861987160865357), (1934, 0.21861987160865357), (2045, 0.21861987160865357), (2427, 0.21861987160865357), (2428, 0.21861987160865357), (2555, 0.21861987160865357), (2647, 0.21861987160865357), (3065, 0.21861987160865357), (3635, 0.21861987160865357), (1317, 0.2159432364019647), (1821, 0.2159432364019647), (4442, 0.2159432364019647), (48, 0.21570392848760075), (68, 0.21570392848760075), (210, 0.21570392848760075), (458, 0.21570392848760075), (533, 0.21570392848760075), (534, 0.21570392848760075), (653, 0.21570392848760075), (669, 0.21570392848760075), (673, 0.21570392848760075), (866, 0.21570392848760075), (878, 0.21570392848760075), (947, 0.21570392848760075), (1000, 0.21570392848760075), (1015, 0.21570392848760075), (1035, 0.21570392848760075), (1141, 0.21570392848760075), (1183, 0.21570392848760075), (1335, 0.21570392848760075), (1369, 0.21570392848760075), (1377, 0.21570392848760075), (1417, 0.21570392848760075), (1478, 0.21570392848760075), (1483, 0.21570392848760075), (1678, 0.21570392848760075), (1680, 0.21570392848760075), (1687, 0.21570392848760075), (1740, 0.21570392848760075), (1853, 0.21570392848760075), (2024, 0.21570392848760075), (2040, 0.21570392848760075), (2224, 0.21570392848760075), (2645, 0.21570392848760075), (2668, 0.21570392848760075), (2697, 0.21570392848760075), (2768, 0.21570392848760075), (2795, 0.21570392848760075), (2903, 0.21570392848760075), (2908, 0.21570392848760075), (3210, 0.21570392848760075), (3275, 0.21570392848760075), (3450, 0.21570392848760075), (3642, 0.21570392848760075), (3660, 0.21570392848760075), (3807, 0.21570392848760075), (3862, 0.21570392848760075), (3978, 0.21570392848760075), (4068, 0.21570392848760075), (4095, 0.21570392848760075), (4116, 0.21570392848760075), (4244, 0.21570392848760075), (4673, 0.21570392848760075), (3512, 0.21443030418329115), (3517, 0.21443030418329115), (588, 0.21406632696936276), (655, 0.21406632696936276), (2629, 0.21406632696936276), (2931, 0.21406632696936276), (4536, 0.21406632696936276), (608, 0.21334679630894132), (2512, 0.21330243550137074), (7, 0.21328542420875962), (74, 0.21328542420875962), (378, 0.21328542420875962), (2221, 0.21328542420875962), (2571, 0.21328542420875962), (3542, 0.21328542420875962), (3634, 0.21328542420875962), (3714, 0.21328542420875962), (3873, 0.21328542420875962), (4014, 0.21328542420875962), (4334, 0.21328542420875962), (4391, 0.21328542420875962), (4472, 0.21328542420875962), (4638, 0.21328542420875962), (63, 0.21172071742647136), (966, 0.21172071742647136), (1324, 0.21172071742647136), (1350, 0.21172071742647136), (1798, 0.21172071742647136), (2237, 0.21172071742647136), (2559, 0.21172071742647136), (3276, 0.21172071742647136), (627, 0.21149297457830313), (51, 0.21063422593948203), (1237, 0.21063422593948203), (1248, 0.21063422593948203), (1629, 0.21063422593948203), (1942, 0.21063422593948203), (2607, 0.21063422593948203), (3318, 0.21063422593948203), (2212, 0.2090689344875759), (1634, 0.20901630188041348), (215, 0.20891565177768012), (707, 0.20891565177768012), (969, 0.20891565177768012), (2478, 0.20891565177768012), (3393, 0.20891565177768012), (4113, 0.20891565177768012), (4636, 0.20891565177768012), (251, 0.20884963347744223), (270, 0.20884963347744223), (806, 0.20884963347744223), (816, 0.20884963347744223), (864, 0.20884963347744223), (1334, 0.20884963347744223), (2097, 0.20884963347744223), (2250, 0.20884963347744223), (3171, 0.20884963347744223), (4268, 0.20884963347744223), (4551, 0.20884963347744223), (1394, 0.2086963795356728), (1690, 0.2086963795356728), (1744, 0.2086963795356728), (1878, 0.2086963795356728), (2367, 0.2086963795356728), (2461, 0.2086963795356728), (2531, 0.2086963795356728), (3112, 0.20848034130303114), (1989, 0.2081812730871493), (4288, 0.2081812730871493), (685, 0.20790635966579069), (1181, 0.20790635966579069), (1435, 0.20790635966579069), (1910, 0.20790635966579069), (2084, 0.20790635966579069), (2252, 0.20790635966579069), (2700, 0.20790635966579069), (3049, 0.20790635966579069), (3117, 0.20790635966579069), (3774, 0.20790635966579069), (3806, 0.20790635966579069), (4047, 0.20790635966579069), (4162, 0.20790635966579069), (4208, 0.20790635966579069), (4281, 0.20790635966579069), (4307, 0.20790635966579069), (4375, 0.20790635966579069), (4515, 0.20790635966579069), (4524, 0.20790635966579069), (4587, 0.20790635966579069), (4601, 0.20790635966579069), (4678, 0.20790635966579069), (4689, 0.20790635966579069), (1440, 0.20666964411220384), (25, 0.206666516087713), (1340, 0.206666516087713), (2087, 0.206666516087713), (2143, 0.206666516087713), (2601, 0.206666516087713), (2912, 0.206666516087713), (3146, 0.206666516087713), (3402, 0.206666516087713), (4394, 0.206666516087713), (4446, 0.206666516087713), (4473, 0.206666516087713), (4603, 0.206666516087713), (4717, 0.206666516087713), (1079, 0.2063097469900779), (1598, 0.2063097469900779), (3108, 0.20542888441957535), (487, 0.20530698367894185), (2248, 0.20530698367894185), (3928, 0.20530698367894185), (4301, 0.20530698367894185), (1220, 0.204190834468871), (1819, 0.204190834468871), (371, 0.20409699256913869), (590, 0.20409699256913869), (1123, 0.20409699256913869), (3624, 0.20409699256913869), (3960, 0.20409699256913869), (4624, 0.20409699256913869), (223, 0.20339637823148113), (484, 0.20339637823148113), (1548, 0.20339637823148113), (1692, 0.20339637823148113), (1770, 0.20339637823148113), (1823, 0.20339637823148113), (2020, 0.20339637823148113), (2182, 0.20339637823148113), (2238, 0.20339637823148113), (2470, 0.20339637823148113), (2547, 0.20339637823148113), (2842, 0.20339637823148113), (2958, 0.20339637823148113), (3958, 0.20339637823148113), (4185, 0.20339637823148113), (4393, 0.20339637823148113), (4410, 0.20339637823148113), (4568, 0.20339637823148113), (4597, 0.20339637823148113), (4659, 0.20339637823148113), (4682, 0.20339637823148113), (749, 0.20267199728327695), (2361, 0.20267199728327695), (2378, 0.20267199728327695), (2674, 0.20267199728327695), (2767, 0.20267199728327695), (2969, 0.20267199728327695), (3024, 0.20267199728327695), (3064, 0.20267199728327695), (3365, 0.20267199728327695), (4429, 0.20267199728327695), (4723, 0.20267199728327695), (359, 0.20256381522188152), (739, 0.20256381522188152), (3278, 0.20256381522188152), (4668, 0.20256381522188152), (1337, 0.20100016612324645), (2117, 0.20029020647080337), (2530, 0.20029020647080337), (2998, 0.20029020647080337), (3096, 0.20029020647080337), (1119, 0.1996484786617149), (1667, 0.1996484786617149), (2229, 0.1996484786617149), (2295, 0.1996484786617149), (2617, 0.1996484786617149), (3086, 0.1996484786617149), (3437, 0.1996484786617149), (296, 0.19948392290596711), (719, 0.19948392290596711), (727, 0.19948392290596711), (729, 0.19948392290596711), (1138, 0.19948392290596711), (1229, 0.19948392290596711), (2881, 0.19948392290596711), (4054, 0.19903896792211292), (403, 0.19844945398312416), (410, 0.19844945398312416), (488, 0.19844945398312416), (564, 0.19844945398312416), (607, 0.19844945398312416), (693, 0.19844945398312416), (857, 0.19844945398312416), (1060, 0.19844945398312416), (1707, 0.19844945398312416), (1946, 0.19844945398312416), (2000, 0.19844945398312416), (2169, 0.19844945398312416), (2614, 0.19844945398312416), (2974, 0.19844945398312416), (4713, 0.19844945398312416), (2642, 0.19776552374160256), (879, 0.19687915647755108), (1506, 0.19687915647755108), (23, 0.19651866087474365), (221, 0.19651866087474365), (373, 0.19651866087474365), (924, 0.19651866087474365), (1080, 0.19651866087474365), (1605, 0.19651866087474365), (1628, 0.19651866087474365), (2159, 0.19651866087474365), (2313, 0.19651866087474365), (2502, 0.19651866087474365), (2821, 0.19651866087474365), (2878, 0.19651866087474365), (3004, 0.19651866087474365), (3326, 0.19651866087474365), (3667, 0.19651866087474365), (3867, 0.19651866087474365), (3895, 0.19651866087474365), (4594, 0.19651866087474365), (428, 0.1963940266019389), (2474, 0.1963940266019389), (2920, 0.1963940266019389), (660, 0.19545362163993293), (1897, 0.19545362163993293), (3564, 0.19535286924837073), (3689, 0.19535286924837073), (4471, 0.19535286924837073), (4704, 0.19535286924837073), (1537, 0.19511687784237763), (31, 0.19485867491583542), (769, 0.19485867491583542), (1433, 0.19485867491583542), (1608, 0.19485867491583542), (2355, 0.19485867491583542), (2724, 0.19485867491583542), (3233, 0.19485867491583542), (3331, 0.19485867491583542), (3452, 0.19485867491583542), (3797, 0.19485867491583542), (3957, 0.19485867491583542), (4344, 0.19485867491583542), (4546, 0.19485867491583542), (4660, 0.19485867491583542), (4670, 0.19485867491583542), (4677, 0.19485867491583542), (792, 0.19427191443239383), (1922, 0.19427191443239383), (3612, 0.19427191443239383), (3924, 0.19427191443239383), (2075, 0.19366331766439646), (1572, 0.19363013532437923), (614, 0.1936174097363334), (3225, 0.1936174097363334), (4015, 0.1936174097363334), (794, 0.19299471954651165), (1114, 0.19299471954651165), (1711, 0.19299471954651165), (1277, 0.19250811543871038), (5, 0.19245940884522444), (566, 0.19245940884522444), (2279, 0.19245940884522444), (2934, 0.19245940884522444), (2412, 0.19162759152638068), (87, 0.19145868148352155), (147, 0.19145868148352155), (236, 0.19145868148352155), (429, 0.19145868148352155), (622, 0.19145868148352155), (652, 0.19145868148352155), (676, 0.19145868148352155), (701, 0.19145868148352155), (870, 0.19145868148352155), (896, 0.19145868148352155), (937, 0.19145868148352155), (1064, 0.19145868148352155), (1303, 0.19145868148352155), (1325, 0.19145868148352155), (1360, 0.19145868148352155), (1509, 0.19145868148352155), (1671, 0.19145868148352155), (1774, 0.19145868148352155), (1983, 0.19145868148352155), (2112, 0.19145868148352155), (2254, 0.19145868148352155), (2638, 0.19145868148352155), (2695, 0.19145868148352155), (2932, 0.19145868148352155), (2996, 0.19145868148352155), (3670, 0.19145868148352155), (3694, 0.19145868148352155), (4189, 0.19145868148352155), (4403, 0.19145868148352155), (4554, 0.19145868148352155), (4637, 0.19145868148352155), (272, 0.19111639546519515), (2253, 0.19111639546519515), (3761, 0.19111639546519515), (4022, 0.19111639546519515), (4229, 0.19111639546519515), (4555, 0.19073294524134754), (3044, 0.19033079986091953), (15, 0.18992588797564408), (2995, 0.18992588797564408), (3298, 0.18992588797564408), (4139, 0.18992588797564408), (1385, 0.18977499363738135), (2522, 0.18977499363738135), (1397, 0.18890592789384716), (2554, 0.18835405255821855), (79, 0.18812174665006395), (283, 0.18812174665006395), (364, 0.18812174665006395), (4152, 0.18812174665006395), (4401, 0.18812174665006395), (4535, 0.18812174665006395), (657, 0.18727591826517132), (2593, 0.18727591826517132), (3081, 0.18727591826517132), (1199, 0.18682073527287227), (2886, 0.18677352159053953), (4141, 0.18677352159053953), (266, 0.18666571266281978), (4591, 0.18666571266281978), (4733, 0.18666571266281978), (580, 0.1865811808041037), (617, 0.1865811808041037), (744, 0.1865811808041037), (1177, 0.1865811808041037), (1498, 0.1865811808041037), (3122, 0.1865811808041037), (3330, 0.1865811808041037), (4593, 0.1865811808041037), (4614, 0.1865811808041037), (4699, 0.1865811808041037), (4701, 0.1865811808041037), (677, 0.18565003433627728), (914, 0.18565003433627728), (1090, 0.18565003433627728), (1118, 0.18565003433627728), (1221, 0.18565003433627728), (1228, 0.18565003433627728), (1686, 0.18565003433627728), (1725, 0.18565003433627728), (2028, 0.18565003433627728), (2172, 0.18565003433627728), (3567, 0.18565003433627728), (3578, 0.18565003433627728), (4745, 0.18565003433627728), (113, 0.18520719178990977), (197, 0.18520719178990977), (2240, 0.18520719178990977), (2986, 0.18520719178990977), (3304, 0.18520719178990977), (3575, 0.18520719178990977), (3845, 0.18520719178990977), (4263, 0.18520719178990977), (4287, 0.18520719178990977), (1985, 0.1832442547548461), (4269, 0.18257886911772825), (3503, 0.1822485564083257), (4066, 0.1822485564083257), (4135, 0.1822485564083257), (2039, 0.18217036879522835), (453, 0.18175456836106946), (1007, 0.18164089033682534), (32, 0.18071822112619843), (826, 0.18071822112619843), (856, 0.18071822112619843), (1352, 0.18071822112619843), (4707, 0.18031043432512217), (52, 0.1800411269917304), (3317, 0.1800411269917304), (854, 0.1799060152238968), (2103, 0.1799060152238968), (2862, 0.1799060152238968), (4202, 0.1799060152238968), (1677, 0.1796576822597618), (3889, 0.1796576822597618), (3919, 0.1796576822597618), (981, 0.1795198033501711), (1413, 0.1795198033501711), (1653, 0.1795198033501711), (2061, 0.1795198033501711), (2091, 0.1795198033501711), (3623, 0.1795198033501711), (3692, 0.1795198033501711), (4046, 0.1795198033501711), (4490, 0.1795198033501711), (2771, 0.17859561855903203), (1833, 0.1785824800435341), (903, 0.178128338918463), (2055, 0.17741175127292563), (2260, 0.1774097725280064), (2812, 0.1774097725280064), (4192, 0.176982492358766), (2745, 0.17693298481468098), (3363, 0.17693298481468098), (542, 0.1768506769571036), (1017, 0.1768506769571036), (1252, 0.1768506769571036), (1665, 0.1768506769571036), (1796, 0.1768506769571036), (2210, 0.1768506769571036), (2910, 0.1768506769571036), (4379, 0.1768506769571036), (4503, 0.1768506769571036), (733, 0.1765655665093363), (3888, 0.17654041860606107), (871, 0.17631500755870666), (307, 0.17551042564326555), (3900, 0.17551042564326555), (4087, 0.17551042564326555), (4266, 0.17551042564326555), (242, 0.17547161367973077), (3346, 0.17547161367973077), (4643, 0.17547161367973077), (684, 0.17477467394400606), (1438, 0.17477467394400606), (4056, 0.17463544044503362), (1184, 0.17402421454372471), (3403, 0.17402421454372471), (2162, 0.1739530894523285), (1706, 0.1737566739646028), (1716, 0.1736038880560914), (3303, 0.17275514497440772), (2289, 0.17256427098521404), (3262, 0.17256427098521404), (3347, 0.17256427098521404), (3827, 0.17256427098521404), (3927, 0.17256427098521404), (1477, 0.17251412467166805), (3389, 0.17251412467166805), (2643, 0.1721298572571615), (1387, 0.1717682709625007), (2016, 0.1717682709625007), (472, 0.17150700595064522), (1010, 0.17111461853069052), (1545, 0.17111461853069052), (1564, 0.17111461853069052), (1599, 0.17111461853069052), (1709, 0.17111461853069052), (1734, 0.17111461853069052), (1751, 0.17111461853069052), (1818, 0.17111461853069052), (1870, 0.17111461853069052), (2025, 0.17111461853069052), (2052, 0.17111461853069052), (2113, 0.17111461853069052), (2124, 0.17111461853069052), (2227, 0.17111461853069052), (2241, 0.17111461853069052), (2274, 0.17111461853069052), (2315, 0.17111461853069052), (2657, 0.17111461853069052), (2659, 0.17111461853069052), (2667, 0.17111461853069052), (2676, 0.17111461853069052), (2922, 0.17111461853069052), (2990, 0.17111461853069052), (3115, 0.17111461853069052), (3169, 0.17111461853069052), (3253, 0.17111461853069052), (3343, 0.17111461853069052), (3383, 0.17111461853069052), (3591, 0.17111461853069052), (4001, 0.17111461853069052), (4131, 0.17111461853069052), (4186, 0.17111461853069052), (4353, 0.17111461853069052), (4600, 0.17111461853069052), (4631, 0.17111461853069052), (4647, 0.17111461853069052), (4690, 0.17111461853069052), (1822, 0.17110668165383783), (3311, 0.17110668165383783), (127, 0.1709856209028452), (1136, 0.1709856209028452), (2350, 0.1709856209028452), (576, 0.1708653459430432), (1463, 0.1708653459430432), (1875, 0.1708653459430432), (2430, 0.1708653459430432), (509, 0.16994298268274644), (952, 0.16994298268274644), (1864, 0.16994298268274644), (2496, 0.16994298268274644), (271, 0.16917445596123143), (515, 0.16915233542170294), (4283, 0.16909492478046897), (100, 0.16859187786948177), (163, 0.16859187786948177), (265, 0.16859187786948177), (337, 0.16859187786948177), (352, 0.16859187786948177), (552, 0.16859187786948177), (556, 0.16859187786948177), (557, 0.16859187786948177), (746, 0.16859187786948177), (960, 0.16859187786948177), (1189, 0.16859187786948177), (1342, 0.16859187786948177), (1534, 0.16859187786948177), (1556, 0.16859187786948177), (1636, 0.16859187786948177), (1647, 0.16859187786948177), (1795, 0.16859187786948177), (1825, 0.16859187786948177), (1863, 0.16859187786948177), (2017, 0.16859187786948177), (2115, 0.16859187786948177), (2498, 0.16859187786948177), (2503, 0.16859187786948177), (2596, 0.16859187786948177), (2660, 0.16859187786948177), (2773, 0.16859187786948177), (2793, 0.16859187786948177), (2839, 0.16859187786948177), (2921, 0.16859187786948177), (2952, 0.16859187786948177), (3023, 0.16859187786948177), (3092, 0.16859187786948177), (3401, 0.16859187786948177), (3530, 0.16859187786948177), (3547, 0.16859187786948177), (3702, 0.16859187786948177), (3746, 0.16859187786948177), (3831, 0.16859187786948177), (3872, 0.16859187786948177), (3985, 0.16859187786948177), (4006, 0.16859187786948177), (4028, 0.16859187786948177), (4029, 0.16859187786948177), (4078, 0.16859187786948177), (4150, 0.16859187786948177), (4157, 0.16859187786948177), (4159, 0.16859187786948177), (4316, 0.16859187786948177), (4352, 0.16859187786948177), (4385, 0.16859187786948177), (4414, 0.16859187786948177), (4449, 0.16859187786948177), (4459, 0.16859187786948177), (4525, 0.16859187786948177), (4538, 0.16859187786948177), (4539, 0.16859187786948177), (4583, 0.16859187786948177), (4618, 0.16859187786948177), (4645, 0.16859187786948177), (4654, 0.16859187786948177), (4672, 0.16859187786948177), (4750, 0.16859187786948177), (4751, 0.16859187786948177), (4755, 0.16859187786948177), (2485, 0.16807896873197933), (2577, 0.16807896873197933), (2851, 0.16807896873197933), (4021, 0.16807896873197933), (4500, 0.16807896873197933), (4740, 0.16807896873197933), (4758, 0.16807896873197933), (986, 0.16773475163810278), (1471, 0.16773475163810278), (1595, 0.1676734103757778), (872, 0.16618474849273826), (1273, 0.1658411608512903), (1398, 0.1658411608512903), (3795, 0.1658411608512903), (4487, 0.1654428458119946), (750, 0.1648058653539824), (1083, 0.1648058653539824), (1140, 0.1648058653539824), (3123, 0.1648058653539824), (4154, 0.1648058653539824), (4523, 0.16477372934915763), (2394, 0.16475374777194354), (2796, 0.16475374777194354), (2926, 0.16475374777194354), (49, 0.16360750867246077), (110, 0.16360750867246077), (146, 0.16360750867246077), (225, 0.16360750867246077), (312, 0.16360750867246077), (520, 0.16360750867246077), (529, 0.16360750867246077), (531, 0.16360750867246077), (582, 0.16360750867246077), (583, 0.16360750867246077), (649, 0.16360750867246077), (665, 0.16360750867246077), (671, 0.16360750867246077), (709, 0.16360750867246077), (741, 0.16360750867246077), (754, 0.16360750867246077), (758, 0.16360750867246077), (764, 0.16360750867246077), (768, 0.16360750867246077), (785, 0.16360750867246077), (820, 0.16360750867246077), (846, 0.16360750867246077), (873, 0.16360750867246077), (938, 0.16360750867246077), (971, 0.16360750867246077), (982, 0.16360750867246077), (983, 0.16360750867246077), (1038, 0.16360750867246077), (1073, 0.16360750867246077), (1094, 0.16360750867246077), (1157, 0.16360750867246077), (1200, 0.16360750867246077), (1201, 0.16360750867246077), (1329, 0.16360750867246077), (1345, 0.16360750867246077), (1362, 0.16360750867246077), (1363, 0.16360750867246077), (1441, 0.16360750867246077), (1445, 0.16360750867246077), (1453, 0.16360750867246077), (1457, 0.16360750867246077), (1485, 0.16360750867246077), (1501, 0.16360750867246077), (1549, 0.16360750867246077), (1589, 0.16360750867246077), (1618, 0.16360750867246077), (1639, 0.16360750867246077), (1718, 0.16360750867246077), (1746, 0.16360750867246077), (1778, 0.16360750867246077), (1787, 0.16360750867246077), (1803, 0.16360750867246077), (1867, 0.16360750867246077), (1880, 0.16360750867246077), (1935, 0.16360750867246077), (1956, 0.16360750867246077), (1963, 0.16360750867246077), (1974, 0.16360750867246077), (2001, 0.16360750867246077), (2003, 0.16360750867246077), (2007, 0.16360750867246077), (2009, 0.16360750867246077), (2032, 0.16360750867246077), (2036, 0.16360750867246077), (2106, 0.16360750867246077), (2156, 0.16360750867246077), (2160, 0.16360750867246077), (2161, 0.16360750867246077), (2167, 0.16360750867246077), (2168, 0.16360750867246077), (2186, 0.16360750867246077), (2234, 0.16360750867246077), (2258, 0.16360750867246077), (2333, 0.16360750867246077), (2368, 0.16360750867246077), (2409, 0.16360750867246077), (2420, 0.16360750867246077), (2431, 0.16360750867246077), (2511, 0.16360750867246077), (2543, 0.16360750867246077), (2566, 0.16360750867246077), (2588, 0.16360750867246077), (2594, 0.16360750867246077), (2662, 0.16360750867246077), (2663, 0.16360750867246077), (2671, 0.16360750867246077), (2677, 0.16360750867246077), (2681, 0.16360750867246077), (2693, 0.16360750867246077), (2699, 0.16360750867246077), (2701, 0.16360750867246077), (2730, 0.16360750867246077), (2732, 0.16360750867246077), (2737, 0.16360750867246077), (2794, 0.16360750867246077), (2805, 0.16360750867246077), (2816, 0.16360750867246077), (2817, 0.16360750867246077), (2836, 0.16360750867246077), (2855, 0.16360750867246077), (2866, 0.16360750867246077), (2877, 0.16360750867246077), (2891, 0.16360750867246077), (2928, 0.16360750867246077), (2973, 0.16360750867246077), (2983, 0.16360750867246077), (3009, 0.16360750867246077), (3017, 0.16360750867246077), (3039, 0.16360750867246077), (3061, 0.16360750867246077), (3077, 0.16360750867246077), (3083, 0.16360750867246077), (3098, 0.16360750867246077), (3109, 0.16360750867246077), (3175, 0.16360750867246077), (3177, 0.16360750867246077), (3188, 0.16360750867246077), (3217, 0.16360750867246077), (3229, 0.16360750867246077), (3288, 0.16360750867246077), (3295, 0.16360750867246077), (3371, 0.16360750867246077), (3375, 0.16360750867246077), (3400, 0.16360750867246077), (3489, 0.16360750867246077), (3490, 0.16360750867246077), (3529, 0.16360750867246077), (3549, 0.16360750867246077), (3589, 0.16360750867246077), (3644, 0.16360750867246077), (3648, 0.16360750867246077), (3681, 0.16360750867246077), (3686, 0.16360750867246077), (3716, 0.16360750867246077), (3748, 0.16360750867246077), (3800, 0.16360750867246077), (3808, 0.16360750867246077), (3851, 0.16360750867246077), (3856, 0.16360750867246077), (3879, 0.16360750867246077), (3933, 0.16360750867246077), (3936, 0.16360750867246077), (3950, 0.16360750867246077), (3964, 0.16360750867246077), (4018, 0.16360750867246077), (4061, 0.16360750867246077), (4064, 0.16360750867246077), (4073, 0.16360750867246077), (4084, 0.16360750867246077), (4223, 0.16360750867246077), (4252, 0.16360750867246077), (4315, 0.16360750867246077), (4319, 0.16360750867246077), (4327, 0.16360750867246077), (4408, 0.16360750867246077), (4437, 0.16360750867246077), (4460, 0.16360750867246077), (4463, 0.16360750867246077), (4498, 0.16360750867246077), (4628, 0.16360750867246077), (4688, 0.16360750867246077), (4702, 0.16360750867246077), (4738, 0.16360750867246077), (233, 0.16328922425010584), (512, 0.16328922425010584), (513, 0.16328922425010584), (514, 0.16328922425010584), (595, 0.16328922425010584), (723, 0.16328922425010584), (738, 0.16328922425010584), (803, 0.16328922425010584), (809, 0.16328922425010584), (974, 0.16328922425010584), (1127, 0.16328922425010584), (1384, 0.16328922425010584), (1443, 0.16328922425010584), (1576, 0.16328922425010584), (1659, 0.16328922425010584), (1749, 0.16328922425010584), (2197, 0.16328922425010584), (2476, 0.16328922425010584), (2576, 0.16328922425010584), (2947, 0.16328922425010584), (3143, 0.16328922425010584), (3185, 0.16328922425010584), (3213, 0.16328922425010584), (3263, 0.16328922425010584), (3339, 0.16328922425010584), (3429, 0.16328922425010584), (3438, 0.16328922425010584), (3451, 0.16328922425010584), (3588, 0.16328922425010584), (3602, 0.16328922425010584), (3710, 0.16328922425010584), (3814, 0.16328922425010584), (3997, 0.16328922425010584), (4039, 0.16328922425010584), (4119, 0.16328922425010584), (4248, 0.16328922425010584), (4274, 0.16328922425010584), (4310, 0.16328922425010584), (4376, 0.16328922425010584), (4384, 0.16328922425010584), (4462, 0.16328922425010584), (4653, 0.16328922425010584), (4666, 0.16328922425010584), (2049, 0.1632732985839015), (2603, 0.1632732985839015), (1971, 0.1627788959668866), (4171, 0.162704063678872), (252, 0.16066953485458393), (1238, 0.16013871096403834), (1242, 0.16013871096403834), (1288, 0.16013871096403834), (1401, 0.16013871096403834), (1490, 0.16013871096403834), (1912, 0.16013871096403834), (2218, 0.16013871096403834), (2575, 0.16013871096403834), (4300, 0.16013871096403834), (963, 0.15947891323005448), (2899, 0.15947891323005448), (3516, 0.15947891323005448), (3734, 0.15947891323005448), (1020, 0.15947263333968992), (2388, 0.15947263333968992), (2705, 0.15947263333968992), (3417, 0.15947263333968992), (3558, 0.15947263333968992), (3669, 0.15947263333968992), (3152, 0.1584001246902389), (2328, 0.15672762338571175), (3721, 0.15672762338571175), (4050, 0.15672762338571175), (4438, 0.15672762338571175), (2344, 0.1566932359919059), (0, 0.15667378361952497), (42, 0.15667378361952497), (50, 0.15667378361952497), (503, 0.15667378361952497), (664, 0.15667378361952497), (862, 0.15667378361952497), (1213, 0.15667378361952497), (1260, 0.15667378361952497), (1282, 0.15667378361952497), (1330, 0.15667378361952497), (1344, 0.15667378361952497), (1371, 0.15667378361952497), (1461, 0.15667378361952497), (1507, 0.15667378361952497), (1981, 0.15667378361952497), (1986, 0.15667378361952497), (2158, 0.15667378361952497), (2228, 0.15667378361952497), (2304, 0.15667378361952497), (2487, 0.15667378361952497), (2635, 0.15667378361952497), (2833, 0.15667378361952497), (2948, 0.15667378361952497), (2994, 0.15667378361952497), (3127, 0.15667378361952497), (3149, 0.15667378361952497), (3508, 0.15667378361952497), (3570, 0.15667378361952497), (3905, 0.15667378361952497), (3949, 0.15667378361952497), (4007, 0.15667378361952497), (4105, 0.15667378361952497), (4626, 0.15572192612264388), (988, 0.1555471791071311), (2831, 0.15541771171741048), (4741, 0.15476825127103472), (2466, 0.1544132464332762), (2916, 0.1544132464332762), (241, 0.15367033179157952), (775, 0.15367033179157952), (606, 0.15328941416138944), (3198, 0.15324747395688348), (3579, 0.15324747395688348), (1366, 0.1526573698799409), (2484, 0.15209459600650935), (35, 0.15182206853043462), (36, 0.15182206853043462), (37, 0.15182206853043462), (101, 0.15182206853043462), (477, 0.15182206853043462), (548, 0.15182206853043462), (1263, 0.15182206853043462), (1459, 0.15182206853043462), (1470, 0.15182206853043462), (2718, 0.15182206853043462), (3600, 0.15182206853043462), (4224, 0.15182206853043462), (4236, 0.15182206853043462), (4456, 0.15182206853043462), (4491, 0.15182206853043462), (1645, 0.1517408649187061), (2277, 0.1517408649187061), (4502, 0.15157055258021743), (2065, 0.1507310550491094), (47, 0.15060071192396793), (70, 0.15060071192396793), (72, 0.15060071192396793), (83, 0.15060071192396793), (89, 0.15060071192396793), (137, 0.15060071192396793), (138, 0.15060071192396793), (207, 0.15060071192396793), (304, 0.15060071192396793), (530, 0.15060071192396793), (1018, 0.15060071192396793), (1058, 0.15060071192396793), (1832, 0.15060071192396793), (3659, 0.15060071192396793), (3713, 0.15060071192396793), (3775, 0.15060071192396793), (4096, 0.15060071192396793), (4164, 0.15060071192396793), (4216, 0.15060071192396793), (4235, 0.15060071192396793), (4265, 0.15060071192396793), (4510, 0.15060071192396793), (4512, 0.15060071192396793), (3553, 0.1494382895439221), (1828, 0.14915891425252073), (3706, 0.14915891425252073), (2844, 0.14907904978401842), (2777, 0.14887620639526505), (3645, 0.14887620639526505), (10, 0.14885977272043888), (143, 0.14885977272043888), (1076, 0.14885977272043888), (1393, 0.14885977272043888), (1504, 0.14885977272043888), (1540, 0.14885977272043888), (2184, 0.14885977272043888), (2815, 0.14885977272043888), (4045, 0.14885977272043888), (4122, 0.14885977272043888), (4390, 0.14885977272043888), (4656, 0.14885977272043888), (4727, 0.14885977272043888), (331, 0.14880161040720175), (506, 0.14880161040720175), (630, 0.14880161040720175), (964, 0.14880161040720175), (1532, 0.14880161040720175), (1824, 0.14880161040720175), (1899, 0.14880161040720175), (2056, 0.14880161040720175), (2059, 0.14880161040720175), (2194, 0.14880161040720175), (2373, 0.14880161040720175), (2564, 0.14880161040720175), (2608, 0.14880161040720175), (2685, 0.14880161040720175), (2690, 0.14880161040720175), (2829, 0.14880161040720175), (3244, 0.14880161040720175), (3250, 0.14880161040720175), (3320, 0.14880161040720175), (3411, 0.14880161040720175), (3580, 0.14880161040720175), (3971, 0.14880161040720175), (4040, 0.14880161040720175), (4108, 0.14880161040720175), (4109, 0.14880161040720175), (4180, 0.14880161040720175), (4226, 0.14880161040720175), (4239, 0.14880161040720175), (4404, 0.14880161040720175), (4434, 0.14880161040720175), (4720, 0.14880161040720175), (344, 0.14844859700577456), (383, 0.14844859700577456), (459, 0.14844859700577456), (1222, 0.14844859700577456), (1235, 0.14844859700577456), (1268, 0.14844859700577456), (1487, 0.14844859700577456), (1520, 0.14844859700577456), (1557, 0.14844859700577456), (1676, 0.14844859700577456), (1695, 0.14844859700577456), (1766, 0.14844859700577456), (1839, 0.14844859700577456), (1842, 0.14844859700577456), (1850, 0.14844859700577456), (2046, 0.14844859700577456), (2261, 0.14844859700577456), (2262, 0.14844859700577456), (2281, 0.14844859700577456), (2290, 0.14844859700577456), (2327, 0.14844859700577456), (2351, 0.14844859700577456), (2435, 0.14844859700577456), (2449, 0.14844859700577456), (2604, 0.14844859700577456), (2637, 0.14844859700577456), (2656, 0.14844859700577456), (2799, 0.14844859700577456), (2814, 0.14844859700577456), (2873, 0.14844859700577456), (3033, 0.14844859700577456), (3066, 0.14844859700577456), (3204, 0.14844859700577456), (3212, 0.14844859700577456), (3236, 0.14844859700577456), (3581, 0.14844859700577456), (3610, 0.14844859700577456), (3796, 0.14844859700577456), (3858, 0.14844859700577456), (4031, 0.14844859700577456), (4190, 0.14844859700577456), (4314, 0.14844859700577456), (4675, 0.14844859700577456), (4711, 0.14844859700577456), (282, 0.145713288596306), (687, 0.14511764860071796), (690, 0.14511764860071796), (996, 0.14511764860071796), (1941, 0.14511764860071796), (2012, 0.14511764860071796), (2468, 0.14511764860071796), (2626, 0.14511764860071796), (2787, 0.14511764860071796), (2820, 0.14511764860071796), (3443, 0.14511764860071796), (3715, 0.14511764860071796), (2556, 0.14489407456523729), (3199, 0.14489407456523729), (1474, 0.14483010648672487), (3062, 0.14462722742005887), (240, 0.14356931167742856), (313, 0.14356931167742856), (354, 0.14356931167742856), (420, 0.14356931167742856), (559, 0.14356931167742856), (634, 0.14356931167742856), (855, 0.14356931167742856), (893, 0.14356931167742856), (1158, 0.14356931167742856), (1167, 0.14356931167742856), (1270, 0.14356931167742856), (1279, 0.14356931167742856), (1347, 0.14356931167742856), (1395, 0.14356931167742856), (1407, 0.14356931167742856), (1426, 0.14356931167742856), (1428, 0.14356931167742856), (1430, 0.14356931167742856), (1431, 0.14356931167742856), (1449, 0.14356931167742856), (1451, 0.14356931167742856), (1452, 0.14356931167742856), (1480, 0.14356931167742856), (1493, 0.14356931167742856), (1531, 0.14356931167742856), (1551, 0.14356931167742856), (1559, 0.14356931167742856), (1562, 0.14356931167742856), (1568, 0.14356931167742856), (1573, 0.14356931167742856), (1588, 0.14356931167742856), (1630, 0.14356931167742856), (1631, 0.14356931167742856), (1632, 0.14356931167742856), (1635, 0.14356931167742856), (1661, 0.14356931167742856), (1699, 0.14356931167742856), (1723, 0.14356931167742856), (1724, 0.14356931167742856), (1753, 0.14356931167742856), (1773, 0.14356931167742856), (1838, 0.14356931167742856), (1840, 0.14356931167742856), (1927, 0.14356931167742856), (1930, 0.14356931167742856), (1933, 0.14356931167742856), (1953, 0.14356931167742856), (1962, 0.14356931167742856), (2245, 0.14356931167742856), (2480, 0.14356931167742856), (2541, 0.14356931167742856), (2630, 0.14356931167742856), (2759, 0.14356931167742856), (2801, 0.14356931167742856), (2949, 0.14356931167742856), (2991, 0.14356931167742856), (3005, 0.14356931167742856), (3179, 0.14356931167742856), (3279, 0.14356931167742856), (3446, 0.14356931167742856), (3456, 0.14356931167742856), (3495, 0.14356931167742856), (3583, 0.14356931167742856), (3664, 0.14356931167742856), (3788, 0.14356931167742856), (3793, 0.14356931167742856), (3810, 0.14356931167742856), (3815, 0.14356931167742856), (3823, 0.14356931167742856), (3824, 0.14356931167742856), (3833, 0.14356931167742856), (3852, 0.14356931167742856), (3881, 0.14356931167742856), (3938, 0.14356931167742856), (3942, 0.14356931167742856), (3944, 0.14356931167742856), (3970, 0.14356931167742856), (3989, 0.14356931167742856), (3995, 0.14356931167742856), (4090, 0.14356931167742856), (4106, 0.14356931167742856), (4120, 0.14356931167742856), (4134, 0.14356931167742856), (4158, 0.14356931167742856), (4251, 0.14356931167742856), (4290, 0.14356931167742856), (4331, 0.14356931167742856), (4337, 0.14356931167742856), (4360, 0.14356931167742856), (4366, 0.14356931167742856), (4389, 0.14356931167742856), (4441, 0.14356931167742856), (4488, 0.14356931167742856), (4513, 0.14356931167742856), (4518, 0.14356931167742856), (4527, 0.14356931167742856), (4548, 0.14356931167742856), (4582, 0.14356931167742856), (4585, 0.14356931167742856), (4595, 0.14356931167742856), (4621, 0.14356931167742856), (4665, 0.14356931167742856), (4695, 0.14356931167742856), (2706, 0.14328475684836012), (4342, 0.14247400363940005), (4372, 0.14247400363940005), (3374, 0.14217391864080872), (1274, 0.142058632725914), (3130, 0.142058632725914), (4549, 0.142058632725914), (4716, 0.142058632725914), (1050, 0.14170167879585002), (2415, 0.1404596699624565), (4514, 0.14045354709946964), (3241, 0.13977005334270498), (2067, 0.13972519195915328), (3424, 0.13903814824226493), (3603, 0.13903814824226493), (4012, 0.13903814824226493), (214, 0.13884074878836375), (780, 0.13884074878836375), (275, 0.13767458497224), (950, 0.13767458497224), (2120, 0.1375865316248355), (59, 0.13689031068162444), (956, 0.13689031068162444), (965, 0.13689031068162444), (1244, 0.13689031068162444), (1293, 0.13689031068162444), (1321, 0.13689031068162444), (1326, 0.13689031068162444), (1379, 0.13689031068162444), (1437, 0.13689031068162444), (1577, 0.13689031068162444), (1611, 0.13689031068162444), (1895, 0.13689031068162444), (2014, 0.13689031068162444), (2164, 0.13689031068162444), (2185, 0.13689031068162444), (2296, 0.13689031068162444), (2298, 0.13689031068162444), (2774, 0.13689031068162444), (3172, 0.13689031068162444), (3630, 0.13689031068162444), (4272, 0.13689031068162444), (4564, 0.13689031068162444), (667, 0.13599301668662364), (678, 0.13599301668662364), (916, 0.13599301668662364), (931, 0.13599301668662364), (1047, 0.13599301668662364), (1300, 0.13599301668662364), (1542, 0.13599301668662364), (1694, 0.13599301668662364), (2336, 0.13599301668662364), (2727, 0.13599301668662364), (2939, 0.13599301668662364), (3652, 0.13599301668662364), (3674, 0.13599301668662364), (2165, 0.13562967496430284), (3617, 0.13562967496430284), (4253, 0.13562967496430284), (1287, 0.13558838327212727), (2562, 0.13532114545478915), (3121, 0.13532114545478915), (3726, 0.13532114545478915), (4194, 0.13532114545478915), (4405, 0.13532114545478915), (3161, 0.13474123612198208), (38, 0.1347070203388727), (40, 0.1347070203388727), (139, 0.1347070203388727), (494, 0.1347070203388727), (869, 0.1347070203388727), (1214, 0.1347070203388727), (1544, 0.1347070203388727), (1721, 0.1347070203388727), (1735, 0.1347070203388727), (1847, 0.1347070203388727), (1973, 0.1347070203388727), (2077, 0.1347070203388727), (2363, 0.1347070203388727), (2424, 0.1347070203388727), (2581, 0.1347070203388727), (2600, 0.1347070203388727), (2825, 0.1347070203388727), (2913, 0.1347070203388727), (2962, 0.1347070203388727), (2971, 0.1347070203388727), (3192, 0.1347070203388727), (3259, 0.1347070203388727), (3531, 0.1347070203388727), (3658, 0.1347070203388727), (4093, 0.1347070203388727), (4094, 0.1347070203388727), (4233, 0.1347070203388727), (4440, 0.1347070203388727), (4486, 0.1347070203388727), (30, 0.1345615552426614), (250, 0.1345615552426614), (523, 0.1345615552426614), (765, 0.1345615552426614), (927, 0.1345615552426614), (1761, 0.1345615552426614), (1829, 0.1345615552426614), (1952, 0.1345615552426614), (2231, 0.1345615552426614), (3011, 0.1345615552426614), (4043, 0.1345615552426614), (4219, 0.1345615552426614), (4275, 0.1345615552426614), (4464, 0.1345615552426614), (4664, 0.1345615552426614), (4691, 0.1345615552426614), (1116, 0.13346584018998722), (3280, 0.13346584018998722), (3731, 0.13346584018998722), (1126, 0.1329546758112592), (1883, 0.1329546758112592), (2249, 0.1329546758112592), (2472, 0.1329546758112592), (3598, 0.1329546758112592), (118, 0.13278369518155517), (284, 0.13278369518155517), (288, 0.13278369518155517), (289, 0.13278369518155517), (290, 0.13278369518155517), (294, 0.13278369518155517), (295, 0.13278369518155517), (305, 0.13278369518155517), (306, 0.13278369518155517), (310, 0.13278369518155517), (315, 0.13278369518155517), (316, 0.13278369518155517), (320, 0.13278369518155517), (321, 0.13278369518155517), (322, 0.13278369518155517), (323, 0.13278369518155517), (327, 0.13278369518155517), (424, 0.13278369518155517), (425, 0.13278369518155517), (426, 0.13278369518155517), (540, 0.13278369518155517), (550, 0.13278369518155517), (919, 0.13278369518155517), (1012, 0.13278369518155517), (1210, 0.13278369518155517), (1266, 0.13278369518155517), (1380, 0.13278369518155517), (1458, 0.13278369518155517), (1713, 0.13278369518155517), (1809, 0.13278369518155517), (1846, 0.13278369518155517), (1901, 0.13278369518155517), (2013, 0.13278369518155517), (2015, 0.13278369518155517), (2506, 0.13278369518155517), (2960, 0.13278369518155517), (3124, 0.13278369518155517), (3129, 0.13278369518155517), (3135, 0.13278369518155517), (3136, 0.13278369518155517), (3156, 0.13278369518155517), (3163, 0.13278369518155517), (3215, 0.13278369518155517), (3448, 0.13278369518155517), (3486, 0.13278369518155517), (3520, 0.13278369518155517), (3555, 0.13278369518155517), (3782, 0.13278369518155517), (4103, 0.13278369518155517), (4211, 0.13278369518155517), (4703, 0.13278369518155517), (86, 0.13095163219943884), (474, 0.13095163219943884), (1585, 0.13095163219943884), (1806, 0.13095163219943884), (1816, 0.13095163219943884), (2026, 0.13095163219943884), (2519, 0.13095163219943884), (2897, 0.13095163219943884), (88, 0.13078825409370246), (170, 0.13078825409370246), (244, 0.13078825409370246), (435, 0.13078825409370246), (500, 0.13078825409370246), (560, 0.13078825409370246), (621, 0.13078825409370246), (668, 0.13078825409370246), (682, 0.13078825409370246), (753, 0.13078825409370246), (825, 0.13078825409370246), (827, 0.13078825409370246), (928, 0.13078825409370246), (1054, 0.13078825409370246), (1092, 0.13078825409370246), (1162, 0.13078825409370246), (1226, 0.13078825409370246), (1259, 0.13078825409370246), (1276, 0.13078825409370246), (1406, 0.13078825409370246), (1419, 0.13078825409370246), (1455, 0.13078825409370246), (1591, 0.13078825409370246), (1681, 0.13078825409370246), (1815, 0.13078825409370246), (1937, 0.13078825409370246), (2206, 0.13078825409370246), (2275, 0.13078825409370246), (2276, 0.13078825409370246), (2383, 0.13078825409370246), (2429, 0.13078825409370246), (2742, 0.13078825409370246), (2751, 0.13078825409370246), (2788, 0.13078825409370246), (2791, 0.13078825409370246), (2918, 0.13078825409370246), (2963, 0.13078825409370246), (3085, 0.13078825409370246), (3312, 0.13078825409370246), (3384, 0.13078825409370246), (3465, 0.13078825409370246), (3466, 0.13078825409370246), (3507, 0.13078825409370246), (3708, 0.13078825409370246), (3741, 0.13078825409370246), (3794, 0.13078825409370246), (3860, 0.13078825409370246), (3946, 0.13078825409370246), (3993, 0.13078825409370246), (4088, 0.13078825409370246), (4148, 0.13078825409370246), (4436, 0.13078825409370246), (4450, 0.13078825409370246), (4481, 0.13078825409370246), (4543, 0.13078825409370246), (4553, 0.13078825409370246), (4684, 0.13078825409370246), (4709, 0.13078825409370246), (4747, 0.13078825409370246), (898, 0.13074880165178304), (970, 0.13074880165178304), (1211, 0.13074880165178304), (1914, 0.13074880165178304), (3844, 0.13074880165178304), (4426, 0.13074880165178304), (4537, 0.13074880165178304), (4746, 0.13074880165178304), (797, 0.1299198839684924), (1473, 0.1299198839684924), (2200, 0.1299198839684924), (4562, 0.1299198839684924), (1560, 0.12960469148247145), (2493, 0.12960469148247145), (2979, 0.12960469148247145), (2810, 0.12937123636081402), (3221, 0.12937123636081402), (3554, 0.12937123636081402), (4447, 0.12937123636081402), (1194, 0.12915249310987165), (1231, 0.12915249310987165), (1738, 0.12915249310987165), (663, 0.12914093023833523), (812, 0.12914093023833523), (1055, 0.12914093023833523), (1101, 0.12914093023833523), (1584, 0.12914093023833523), (2578, 0.12914093023833523), (3047, 0.12914093023833523), (3201, 0.12914093023833523), (3294, 0.12914093023833523), (3305, 0.12914093023833523), (3625, 0.12914093023833523), (4406, 0.12914093023833523), (4547, 0.12914093023833523), (4714, 0.12914093023833523), (2835, 0.1282706039938143), (1236, 0.12734298251306028), (2101, 0.12624974188063348), (3758, 0.12624974188063348), (3859, 0.12624974188063348), (1128, 0.1261372924472868), (3440, 0.12610331867758162), (4044, 0.12610331867758162), (4392, 0.12610331867758162), (4534, 0.12610331867758162), (4630, 0.12610331867758162), (4646, 0.12610331867758162), (4698, 0.12610331867758162), (4708, 0.12610331867758162), (1482, 0.12603392139334885), (1523, 0.12603392139334885), (2331, 0.12603392139334885), (2582, 0.12603392139334885), (3078, 0.12603392139334885), (3189, 0.12603392139334885), (3753, 0.12603392139334885), (4483, 0.12603392139334885), (4599, 0.12603392139334885), (3377, 0.12568667249623058), (4114, 0.12535915996473038), (539, 0.1246693603405489), (1945, 0.1246693603405489), (3597, 0.1246693603405489), (4289, 0.1246693603405489), (319, 0.12466725786016215), (521, 0.12466725786016215), (972, 0.12466725786016215), (1156, 0.12466725786016215), (1447, 0.12466725786016215), (1491, 0.12466725786016215), (1596, 0.12466725786016215), (2145, 0.12466725786016215), (2157, 0.12466725786016215), (2222, 0.12466725786016215), (2225, 0.12466725786016215), (2395, 0.12466725786016215), (2514, 0.12466725786016215), (2586, 0.12466725786016215), (2665, 0.12466725786016215), (3265, 0.12466725786016215), (3319, 0.12466725786016215), (3649, 0.12466725786016215), (4026, 0.12466725786016215), (4433, 0.12466725786016215), (3439, 0.12463518878010646), (4454, 0.12463518878010646), (1889, 0.12442752943226194), (1961, 0.12442752943226194), (2050, 0.12442752943226194), (2364, 0.12442752943226194), (2615, 0.12442752943226194), (2763, 0.12442752943226194), (1302, 0.12397625205212041), (1881, 0.12397625205212041), (2992, 0.12397625205212041), (3168, 0.12397625205212041), (1900, 0.12383624528683045), (4721, 0.12383624528683045), (133, 0.12375448631866116), (462, 0.12375448631866116), (486, 0.12375448631866116), (573, 0.12375448631866116), (575, 0.12375448631866116), (704, 0.12375448631866116), (718, 0.12375448631866116), (1086, 0.12375448631866116), (1147, 0.12375448631866116), (1972, 0.12375448631866116), (2175, 0.12375448631866116), (2220, 0.12375448631866116), (2244, 0.12375448631866116), (2247, 0.12375448631866116), (2341, 0.12375448631866116), (2342, 0.12375448631866116), (2343, 0.12375448631866116), (2345, 0.12375448631866116), (2471, 0.12375448631866116), (2627, 0.12375448631866116), (2658, 0.12375448631866116), (2762, 0.12375448631866116), (2869, 0.12375448631866116), (2905, 0.12375448631866116), (3006, 0.12375448631866116), (3029, 0.12375448631866116), (3107, 0.12375448631866116), (3176, 0.12375448631866116), (3222, 0.12375448631866116), (3251, 0.12375448631866116), (3261, 0.12375448631866116), (3333, 0.12375448631866116), (3345, 0.12375448631866116), (3356, 0.12375448631866116), (3420, 0.12375448631866116), (3573, 0.12375448631866116), (3663, 0.12375448631866116), (3717, 0.12375448631866116), (3750, 0.12375448631866116), (3760, 0.12375448631866116), (3825, 0.12375448631866116), (3830, 0.12375448631866116), (3838, 0.12375448631866116), (3887, 0.12375448631866116), (3891, 0.12375448631866116), (3918, 0.12375448631866116), (3929, 0.12375448631866116), (3981, 0.12375448631866116), (4057, 0.12375448631866116), (4065, 0.12375448631866116), (4067, 0.12375448631866116), (4072, 0.12375448631866116), (4201, 0.12375448631866116), (4212, 0.12375448631866116), (4215, 0.12375448631866116), (4415, 0.12375448631866116), (4417, 0.12375448631866116), (4424, 0.12375448631866116), (4425, 0.12375448631866116), (4508, 0.12375448631866116), (4541, 0.12375448631866116), (4561, 0.12375448631866116), (4578, 0.12375448631866116), (4644, 0.12375448631866116), (4671, 0.12375448631866116), (4681, 0.12375448631866116), (4728, 0.12375448631866116), (4759, 0.12375448631866116), (311, 0.12298061018657402), (3142, 0.12278109865581116), (793, 0.12244631857835774), (1099, 0.12244631857835774), (1309, 0.12244631857835774), (1587, 0.12244631857835774), (1788, 0.12244631857835774), (1939, 0.12244631857835774), (2208, 0.12244631857835774), (3340, 0.1219911792890298), (248, 0.12191894638299103), (748, 0.12191894638299103), (834, 0.12191894638299103), (835, 0.12191894638299103), (1081, 0.12191894638299103), (1239, 0.12191894638299103), (1271, 0.12191894638299103), (1835, 0.12191894638299103), (2369, 0.12191894638299103), (2686, 0.12191894638299103), (2785, 0.12191894638299103), (2827, 0.12191894638299103), (2865, 0.12191894638299103), (2906, 0.12191894638299103), (3281, 0.12191894638299103), (3550, 0.12191894638299103), (3940, 0.12191894638299103), (4565, 0.12191894638299103), (4615, 0.12191894638299103), (239, 0.12151189764681765), (1272, 0.12151189764681765), (532, 0.1208763084359316), (904, 0.1208763084359316), (905, 0.1208763084359316), (1024, 0.1208763084359316), (1292, 0.1208763084359316), (1432, 0.1208763084359316), (1781, 0.1208763084359316), (3070, 0.1208763084359316), (3684, 0.1208763084359316), (4121, 0.1208763084359316), (4325, 0.1208763084359316), (1135, 0.12059190012755909), (1328, 0.12040377226494588), (1522, 0.12040377226494588), (2549, 0.12040377226494588), (2710, 0.12040377226494588), (99, 0.11997711051565467), (291, 0.11997711051565467), (1104, 0.11997711051565467), (1343, 0.11997711051565467), (2057, 0.11997711051565467), (2110, 0.11997711051565467), (2871, 0.11997711051565467), (3334, 0.11997711051565467), (3535, 0.11997711051565467), (3768, 0.11997711051565467), (4227, 0.11997711051565467), (4623, 0.11997711051565467), (2181, 0.1198677734831664), (2959, 0.1198677734831664), (3432, 0.1198677734831664), (3604, 0.1198677734831664), (4328, 0.1198677734831664), (4642, 0.1198677734831664), (22, 0.11957227164098491), (427, 0.11957227164098491), (702, 0.11957227164098491), (778, 0.11957227164098491), (2090, 0.11957227164098491), (3063, 0.11957227164098491), (4622, 0.11957227164098491), (618, 0.11918108637383942), (946, 0.11872770480383187), (2353, 0.11872770480383187), (1388, 0.11860472021791847), (1061, 0.11814085082857032), (2978, 0.11814085082857032), (2589, 0.11790240343848338), (2967, 0.11790240343848338), (3103, 0.11790240343848338), (2806, 0.11769955928609332), (795, 0.11729479344679129), (948, 0.11729479344679129), (2874, 0.11717620377818624), (3245, 0.11717620377818624), (1153, 0.11714896701219944), (13, 0.1171322141598015), (131, 0.1171322141598015), (155, 0.1171322141598015), (168, 0.1171322141598015), (186, 0.1171322141598015), (658, 0.1171322141598015), (789, 0.1171322141598015), (881, 0.1171322141598015), (906, 0.1171322141598015), (1988, 0.1171322141598015), (2022, 0.1171322141598015), (2054, 0.1171322141598015), (2291, 0.1171322141598015), (3053, 0.1171322141598015), (3223, 0.1171322141598015), (4313, 0.1171322141598015), (4499, 0.1171322141598015), (4736, 0.1171322141598015), (389, 0.11680614086116985), (460, 0.11680614086116985), (625, 0.11680614086116985), (877, 0.11680614086116985), (1120, 0.11680614086116985), (1701, 0.11680614086116985), (2326, 0.11680614086116985), (2790, 0.11680614086116985), (3897, 0.11680614086116985), (4339, 0.11680614086116985), (4383, 0.11680614086116985), (4468, 0.11680614086116985), (1674, 0.11641931456156605), (1567, 0.11599661640590882), (1987, 0.11599661640590882), (2444, 0.11599661640590882), (259, 0.11598823909645205), (394, 0.11598823909645205), (440, 0.11598823909645205), (554, 0.11598823909645205), (555, 0.11598823909645205), (561, 0.11598823909645205), (656, 0.11598823909645205), (763, 0.11598823909645205), (1066, 0.11598823909645205), (1651, 0.11598823909645205), (1657, 0.11598823909645205), (3059, 0.11598823909645205), (3368, 0.11598823909645205), (3453, 0.11598823909645205), (3955, 0.11598823909645205), (4100, 0.11598823909645205), (4276, 0.11598823909645205), (4373, 0.11598823909645205), (2130, 0.11590369711197415), (3426, 0.11590369711197415), (2, 0.1155785186912302), (423, 0.1155785186912302), (1307, 0.1155785186912302), (1704, 0.1155785186912302), (1720, 0.1155785186912302), (1758, 0.1155785186912302), (1800, 0.1155785186912302), (1820, 0.1155785186912302), (1979, 0.1155785186912302), (2030, 0.1155785186912302), (2135, 0.1155785186912302), (2171, 0.1155785186912302), (2263, 0.1155785186912302), (2267, 0.1155785186912302), (2372, 0.1155785186912302), (2408, 0.1155785186912302), (2462, 0.1155785186912302), (2583, 0.1155785186912302), (2704, 0.1155785186912302), (2719, 0.1155785186912302), (3138, 0.1155785186912302), (3208, 0.1155785186912302), (3457, 0.1155785186912302), (3476, 0.1155785186912302), (3505, 0.1155785186912302), (3631, 0.1155785186912302), (3816, 0.1155785186912302), (3843, 0.1155785186912302), (4146, 0.1155785186912302), (4559, 0.1155785186912302), (4662, 0.1155785186912302), (1193, 0.1152586118149726), (2140, 0.1152586118149726), (2179, 0.1152586118149726), (2597, 0.1152586118149726), (3585, 0.1152586118149726), (3764, 0.1152586118149726), (4217, 0.1152586118149726), (144, 0.11468033257025095), (3584, 0.11465373267570912), (145, 0.1145694900204234), (360, 0.1145694900204234), (695, 0.1145694900204234), (790, 0.1145694900204234), (801, 0.1145694900204234), (976, 0.1145694900204234), (1068, 0.1145694900204234), (1958, 0.1145694900204234), (2119, 0.1145694900204234), (2235, 0.1145694900204234), (2524, 0.1145694900204234), (3110, 0.1145694900204234), (3504, 0.1145694900204234), (3711, 0.1145694900204234), (4380, 0.1145694900204234), (3594, 0.11356492575946549), (201, 0.11346615739081832), (501, 0.11346615739081832), (692, 0.11346615739081832), (875, 0.11346615739081832), (1063, 0.11346615739081832), (1185, 0.11346615739081832), (1412, 0.11346615739081832), (1436, 0.11346615739081832), (1789, 0.11346615739081832), (2066, 0.11346615739081832), (3849, 0.11346615739081832), (4519, 0.11289774077820182), (2754, 0.11271443336269898), (153, 0.11253716569364308), (1552, 0.11253716569364308), (1898, 0.11253716569364308), (2381, 0.11253716569364308), (2646, 0.11253716569364308), (75, 0.112385473815189), (150, 0.112385473815189), (2177, 0.112385473815189), (4467, 0.112385473815189), (4588, 0.112385473815189), (1992, 0.1121885532268843), (2284, 0.1121885532268843), (4532, 0.11198430089586088), (273, 0.11138082555674446), (341, 0.11138082555674446), (633, 0.11138082555674446), (810, 0.11138082555674446), (811, 0.11138082555674446), (979, 0.11138082555674446), (1197, 0.11138082555674446), (1391, 0.11138082555674446), (1622, 0.11138082555674446), (1623, 0.11138082555674446), (1817, 0.11138082555674446), (1852, 0.11138082555674446), (1857, 0.11138082555674446), (1859, 0.11138082555674446), (1873, 0.11138082555674446), (1940, 0.11138082555674446), (1975, 0.11138082555674446), (1996, 0.11138082555674446), (2246, 0.11138082555674446), (2273, 0.11138082555674446), (2314, 0.11138082555674446), (2683, 0.11138082555674446), (2736, 0.11138082555674446), (2929, 0.11138082555674446), (2984, 0.11138082555674446), (3338, 0.11138082555674446), (3488, 0.11138082555674446), (3619, 0.11138082555674446), (3769, 0.11138082555674446), (3853, 0.11138082555674446), (3975, 0.11138082555674446), (4377, 0.11138082555674446), (4639, 0.11138082555674446), (3002, 0.1106710049714294), (398, 0.11048672006942493), (784, 0.11048672006942493), (786, 0.11048672006942493), (1424, 0.11048672006942493), (1888, 0.11048672006942493), (2107, 0.11048672006942493), (2308, 0.11048672006942493), (4027, 0.11048672006942493), (4198, 0.11048672006942493), (4580, 0.11048672006942493), (4663, 0.11038904738206932), (1207, 0.11036627375223211), (2139, 0.11036627375223211), (4193, 0.11036627375223211), (1731, 0.11031974129826906), (2006, 0.11031974129826906), (714, 0.10986636107501048), (1868, 0.10985215309639847), (3842, 0.10985215309639847), (4234, 0.10985215309639847), (4700, 0.10985215309639847), (148, 0.10921245407523593), (334, 0.10921245407523593), (1486, 0.10890683529252858), (1592, 0.10890683529252858), (2021, 0.10890683529252858), (2058, 0.10890683529252858), (2217, 0.10890683529252858), (3270, 0.10890683529252858), (3323, 0.10890683529252858), (3595, 0.10890683529252858), (3998, 0.10890683529252858), (4453, 0.10890683529252858), (4725, 0.10890683529252858), (14, 0.10856745756725035), (245, 0.10856745756725035), (391, 0.10856745756725035), (392, 0.10856745756725035), (1008, 0.10856745756725035), (1025, 0.10856745756725035), (1166, 0.10856745756725035), (1291, 0.10856745756725035), (1336, 0.10856745756725035), (1496, 0.10856745756725035), (1524, 0.10856745756725035), (1602, 0.10856745756725035), (1769, 0.10856745756725035), (1837, 0.10856745756725035), (2041, 0.10856745756725035), (2516, 0.10856745756725035), (2781, 0.10856745756725035), (3256, 0.10856745756725035), (3481, 0.10856745756725035), (3485, 0.10856745756725035), (3562, 0.10856745756725035), (3633, 0.10856745756725035), (3671, 0.10856745756725035), (3943, 0.10856745756725035), (4010, 0.10856745756725035), (4173, 0.10856745756725035), (4207, 0.10856745756725035), (1095, 0.10824780061160146), (1966, 0.10824780061160146), (2824, 0.10824780061160146), (3001, 0.10824780061160146), (3021, 0.10824780061160146), (3048, 0.10824780061160146), (3068, 0.10824780061160146), (3994, 0.10824780061160146), (4063, 0.10824780061160146), (4302, 0.10824780061160146), (4683, 0.10824780061160146), (345, 0.10811845459818861), (4118, 0.10811845459818861), (4730, 0.1081116707791104), (4144, 0.10780024981623891), (2486, 0.10772985331691443), (2044, 0.10710436362929093), (908, 0.10708717634346245), (2085, 0.10705359603949059), (2239, 0.10705359603949059), (2243, 0.10705359603949059), (3703, 0.10705359603949059), (1984, 0.10689340463464712), (417, 0.10681102828458613), (418, 0.10681102828458613), (842, 0.10681102828458613), (1115, 0.10681102828458613), (1173, 0.10681102828458613), (2093, 0.10681102828458613), (3232, 0.10681102828458613), (3582, 0.10681102828458613), (76, 0.10680448758745494), (102, 0.10680448758745494), (128, 0.10680448758745494), (135, 0.10680448758745494), (220, 0.10680448758745494), (762, 0.10680448758745494), (891, 0.10680448758745494), (992, 0.10680448758745494), (997, 0.10680448758745494), (1154, 0.10680448758745494), (1164, 0.10680448758745494), (1281, 0.10680448758745494), (1502, 0.10680448758745494), (1546, 0.10680448758745494), (1696, 0.10680448758745494), (1799, 0.10680448758745494), (1976, 0.10680448758745494), (2078, 0.10680448758745494), (2232, 0.10680448758745494), (2622, 0.10680448758745494), (2689, 0.10680448758745494), (2711, 0.10680448758745494), (3022, 0.10680448758745494), (3247, 0.10680448758745494), (3468, 0.10680448758745494), (3605, 0.10680448758745494), (3850, 0.10680448758745494), (3908, 0.10680448758745494), (4312, 0.10680448758745494), (81, 0.10646043888869822), (833, 0.10646043888869822), (661, 0.10611326891390957), (1812, 0.10611326891390957), (545, 0.10590810108889781), (1022, 0.10590810108889781), (2605, 0.10590810108889781), (2804, 0.10590810108889781), (3231, 0.10590810108889781), (2081, 0.10561756720825133), (2499, 0.10561756720825133), (1794, 0.10557217114241445), (3545, 0.10544587665039898), (3650, 0.10544587665039898), (1159, 0.10513943193805182), (654, 0.10508655077950065), (1314, 0.10508655077950065), (1949, 0.10508655077950065), (2780, 0.10508655077950065), (3947, 0.10508655077950065), (3180, 0.1049034193063831), (549, 0.10489182488587262), (2358, 0.10489182488587262), (3144, 0.10489182488587262), (367, 0.10488726980981274), (369, 0.10488726980981274), (1797, 0.10431582959670944), (747, 0.10422630650539216), (237, 0.10420141843570474), (650, 0.10420141843570474), (27, 0.10397165272381316), (4076, 0.10397165272381316), (4466, 0.10397165272381316), (1, 0.10339356284639707), (151, 0.10339356284639707), (171, 0.10339356284639707), (258, 0.10339356284639707), (379, 0.10339356284639707), (390, 0.10339356284639707), (565, 0.10339356284639707), (567, 0.10339356284639707), (572, 0.10339356284639707), (591, 0.10339356284639707), (599, 0.10339356284639707), (600, 0.10339356284639707), (601, 0.10339356284639707), (602, 0.10339356284639707), (603, 0.10339356284639707), (681, 0.10339356284639707), (1091, 0.10339356284639707), (1151, 0.10339356284639707), (1269, 0.10339356284639707), (1354, 0.10339356284639707), (1579, 0.10339356284639707), (1948, 0.10339356284639707), (2233, 0.10339356284639707), (2713, 0.10339356284639707), (2749, 0.10339356284639707), (2850, 0.10339356284639707), (2860, 0.10339356284639707), (2898, 0.10339356284639707), (2950, 0.10339356284639707), (3132, 0.10339356284639707), (3193, 0.10339356284639707), (3427, 0.10339356284639707), (3467, 0.10339356284639707), (3469, 0.10339356284639707), (3532, 0.10339356284639707), (3690, 0.10339356284639707), (3693, 0.10339356284639707), (3743, 0.10339356284639707), (3840, 0.10339356284639707), (3869, 0.10339356284639707), (3937, 0.10339356284639707), (3968, 0.10339356284639707), (3972, 0.10339356284639707), (3977, 0.10339356284639707), (3982, 0.10339356284639707), (4041, 0.10339356284639707), (4077, 0.10339356284639707), (4128, 0.10339356284639707), (4153, 0.10339356284639707), (4181, 0.10339356284639707), (4238, 0.10339356284639707), (4493, 0.10339356284639707), (1016, 0.1031030277483371), (1607, 0.1031030277483371), (1755, 0.1031030277483371), (2095, 0.1031030277483371), (2332, 0.1031030277483371), (2352, 0.1031030277483371), (2365, 0.1031030277483371), (2414, 0.1031030277483371), (2885, 0.1031030277483371), (3482, 0.1031030277483371), (3817, 0.1031030277483371), (3871, 0.1031030277483371), (3991, 0.1031030277483371), (4009, 0.1031030277483371), (4196, 0.1031030277483371), (4526, 0.1031030277483371), (4261, 0.10244308777775153), (776, 0.10242412545256913), (1205, 0.10242412545256913), (2644, 0.10242412545256913), (3688, 0.10242412545256913), (413, 0.10230878315119958), (1361, 0.10230878315119958), (1783, 0.10230878315119958), (2756, 0.10230878315119958), (2770, 0.10230878315119958), (3080, 0.10230878315119958), (4145, 0.10208340335435714), (1705, 0.10183266368471888), (3586, 0.10183266368471888), (2811, 0.10141073036807638), (1541, 0.10125690894865688), (1791, 0.1011988981953192), (4285, 0.1011988981953192), (77, 0.10066946911699012), (511, 0.10066946911699012), (932, 0.10066946911699012), (1003, 0.10066946911699012), (1146, 0.10066946911699012), (1590, 0.10066946911699012), (1662, 0.10066946911699012), (1925, 0.10066946911699012), (2278, 0.10066946911699012), (2599, 0.10066946911699012), (2618, 0.10066946911699012), (3160, 0.10066946911699012), (3484, 0.10066946911699012), (3502, 0.10066946911699012), (3576, 0.10066946911699012), (4165, 0.10066946911699012), (4240, 0.10066946911699012), (4697, 0.10066946911699012), (1894, 0.10056645972220707), (1714, 0.10039740368843696), (4037, 0.10039740368843696), (4357, 0.10039262154671338), (64, 0.10028965275304373), (2038, 0.10028965275304373), (3515, 0.10028965275304373), (4250, 0.10028965275304373), (926, 0.10020323776955511), (217, 0.10016648430956641), (516, 0.10014445626805085), (517, 0.10014445626805085), (1031, 0.10014445626805085), (1056, 0.10014445626805085), (1057, 0.10014445626805085), (1265, 0.10014445626805085), (1535, 0.10014445626805085), (2180, 0.10014445626805085), (3528, 0.10014445626805085), (3724, 0.10014445626805085), (1014, 0.10003663738220822), (1348, 0.09973391403382441), (2574, 0.09971670731862484), (3828, 0.0992985540060548), (1970, 0.09922703208136761), (3118, 0.09922703208136761), (2772, 0.0984032128375906), (263, 0.09828320985449998), (264, 0.09828320985449998), (760, 0.09818068145268384), (4322, 0.0981548003418585), (1323, 0.0981506759380954), (3202, 0.0980656291880279), (185, 0.098033559344478), (219, 0.098033559344478), (409, 0.098033559344478), (421, 0.098033559344478), (461, 0.098033559344478), (920, 0.098033559344478), (1085, 0.098033559344478), (1165, 0.098033559344478), (1327, 0.098033559344478), (1333, 0.098033559344478), (1521, 0.098033559344478), (1640, 0.098033559344478), (1700, 0.098033559344478), (1844, 0.098033559344478), (1999, 0.098033559344478), (2183, 0.098033559344478), (2329, 0.098033559344478), (2504, 0.098033559344478), (3287, 0.098033559344478), (3395, 0.098033559344478), (3397, 0.098033559344478), (3444, 0.098033559344478), (3574, 0.098033559344478), (3735, 0.098033559344478), (3803, 0.098033559344478), (3865, 0.098033559344478), (4086, 0.098033559344478), (4195, 0.098033559344478), (4303, 0.098033559344478), (4341, 0.098033559344478), (4347, 0.098033559344478), (4457, 0.098033559344478), (4492, 0.098033559344478), (4570, 0.098033559344478), (2280, 0.09794953378319898), (3105, 0.0977980200099224), (686, 0.09769759618486827), (2337, 0.09769759618486827), (4364, 0.09769759618486827), (187, 0.09741059365981483), (380, 0.09741059365981483), (438, 0.09741059365981483), (1575, 0.09741059365981483), (1991, 0.09741059365981483), (2789, 0.09741059365981483), (3079, 0.09741059365981483), (3158, 0.09741059365981483), (3385, 0.09741059365981483), (3966, 0.09741059365981483), (4365, 0.09741059365981483), (2709, 0.09737764146953994), (4557, 0.09693958827774646), (2205, 0.09693469853178692), (3568, 0.09691467604731512), (3700, 0.09691467604731512), (39, 0.09672973779191392), (46, 0.09672973779191392), (67, 0.09672973779191392), (69, 0.09672973779191392), (78, 0.09672973779191392), (80, 0.09672973779191392), (90, 0.09672973779191392), (93, 0.09672973779191392), (94, 0.09672973779191392), (95, 0.09672973779191392), (152, 0.09672973779191392), (189, 0.09672973779191392), (234, 0.09672973779191392), (260, 0.09672973779191392), (261, 0.09672973779191392), (314, 0.09672973779191392), (397, 0.09672973779191392), (537, 0.09672973779191392), (666, 0.09672973779191392), (756, 0.09672973779191392), (1134, 0.09672973779191392), (1262, 0.09672973779191392), (1280, 0.09672973779191392), (1396, 0.09672973779191392), (1554, 0.09672973779191392), (1566, 0.09672973779191392), (1772, 0.09672973779191392), (2413, 0.09672973779191392), (2442, 0.09672973779191392), (2501, 0.09672973779191392), (3100, 0.09672973779191392), (3133, 0.09672973779191392), (3134, 0.09672973779191392), (3361, 0.09672973779191392), (3367, 0.09672973779191392), (3405, 0.09672973779191392), (3744, 0.09672973779191392), (3787, 0.09672973779191392), (3907, 0.09672973779191392), (4091, 0.09672973779191392), (773, 0.09644251010941732), (574, 0.09608341433525026), (2118, 0.09608341433525026), (4635, 0.09608341433525026), (1460, 0.0960290928841871), (333, 0.09595011269269797), (1137, 0.09595011269269797), (1230, 0.09595011269269797), (3045, 0.09595011269269797), (3886, 0.09593453170886117), (3679, 0.09586606148527263), (2439, 0.0954798440717945), (915, 0.0954480060247614), (3099, 0.0954480060247614), (1039, 0.09540961227009447), (2256, 0.09540961227009447), (2300, 0.09540961227009447), (2750, 0.09540961227009447), (3025, 0.09540961227009447), (3145, 0.09540961227009447), (3976, 0.09540961227009447), (4170, 0.09540961227009447), (4179, 0.09540961227009447), (4485, 0.09540961227009447), (4651, 0.09540961227009447), (368, 0.09529860927580627), (2152, 0.09521672042882588), (1802, 0.094864805290069), (3834, 0.094864805290069), (19, 0.0948020350457674), (65, 0.0948020350457674), (553, 0.0948020350457674), (3718, 0.0948020350457674), (802, 0.09417390700954753), (2082, 0.09415664644732287), (2982, 0.09411436000670671), (160, 0.09405365538047297), (303, 0.09405365538047297), (619, 0.09405365538047297), (1082, 0.09405365538047297), (2432, 0.09405365538047297), (2573, 0.09405365538047297), (3720, 0.09405365538047297), (3802, 0.09405365538047297), (405, 0.0940248516298245), (1285, 0.09374368546079266), (45, 0.0933521810179795), (73, 0.0933521810179795), (91, 0.0933521810179795), (1013, 0.0933521810179795), (1911, 0.0933521810179795), (3513, 0.09316115146569826), (2398, 0.09288353422219377), (1830, 0.09269183952206887), (945, 0.09266843882923091), (1113, 0.09266843882923091), (2426, 0.09266843882923091), (3018, 0.0922959172512768), (376, 0.09227868358446567), (439, 0.09227868358446567), (1097, 0.09227868358446567), (1233, 0.09227868358446567), (1295, 0.09227868358446567), (1756, 0.09227868358446567), (2828, 0.09227868358446567), (2421, 0.09201791552793119), (632, 0.09198226829899368), (2150, 0.09189332541093187), (2153, 0.09189332541093187), (2433, 0.09189332541093187), (2584, 0.09189332541093187), (3628, 0.09189332541093187), (4112, 0.09189332541093187), (4199, 0.09189332541093187), (4210, 0.09189332541093187), (1074, 0.0918241093701141), (1315, 0.09169924537685628), (1745, 0.09169924537685628), (3114, 0.09169924537685628), (1358, 0.09161644645758449), (335, 0.09150906619405971), (3473, 0.09150906619405971), (3607, 0.09150906619405971), (84, 0.09137964461215384), (4264, 0.09137964461215384), (3676, 0.09135244012450239), (134, 0.09135004412762696), (1614, 0.09069192748013401), (4351, 0.09067408995405274), (2316, 0.09052519934876471), (4271, 0.09025205418289248), (347, 0.09018047663531746), (1469, 0.09015780315127453), (3034, 0.09015432885711398), (3205, 0.08978656201343502), (1530, 0.08963944320147127), (3747, 0.08963944320147127), (3773, 0.08921587482547898), (918, 0.0884464750724163), (497, 0.08800434745685856), (2125, 0.08800434745685856), (3923, 0.08800434745685856), (2856, 0.08790916092142584), (629, 0.08746271102998968), (1904, 0.0869544512331262), (3131, 0.0869544512331262), (2178, 0.08638679221884232), (1505, 0.0860665171499489), (2666, 0.0860665171499489), (3533, 0.08592341051241188), (3682, 0.08592341051241188), (745, 0.0858423076812407), (4168, 0.08547883787658304), (1606, 0.08543746854348301), (821, 0.08531573947460244), (1536, 0.08505062716593517), (902, 0.08482833750708024), (1381, 0.08482833750708024), (2944, 0.08482833750708024), (2521, 0.08470060495059771), (2357, 0.08455114052268309), (3332, 0.0839815844619607), (2318, 0.08373932785124837), (2479, 0.08362834912893077), (1810, 0.08326668576807426), (2451, 0.08326668576807426), (2680, 0.08300616277482464), (3181, 0.08182188003576044), (3963, 0.08178817601326403), (3255, 0.08138683686212107), (4110, 0.08138683686212107), (1316, 0.08087749517182016), (2450, 0.08052706717143976), (2539, 0.08052706717143976), (3685, 0.08052706717143976), (1011, 0.079404973134554), (2880, 0.0792124541798548), (2717, 0.07892511766888355), (1108, 0.07747319814651876), (1198, 0.0773507434395208), (3366, 0.0773507434395208), (4278, 0.05829254338934713), (4166, 0.05807818641690962), (2207, 0.053920581735844124)]\n"
          ]
        }
      ]
    },
    {
      "cell_type": "code",
      "source": [
        "print('Top 30 Movies Suggested for you:\\n')\n",
        "i=1\n",
        "for movie in Sorted_Similar_Movies:\n",
        "  index = movie[0]\n",
        "  title_from_index=df[df.index==index]['Movie_Title'].values[0]\n",
        "  if(i<31):\n",
        "    print(i,'.',title_from_index)\n",
        "    i+=1"
      ],
      "metadata": {
        "colab": {
          "base_uri": "https://localhost:8080/"
        },
        "id": "FTcnsCfMHz3a",
        "outputId": "907d93c3-4999-4421-f9be-be8c94cf7058"
      },
      "execution_count": 31,
      "outputs": [
        {
          "output_type": "stream",
          "name": "stdout",
          "text": [
            "Top 30 Movies Suggested for you:\n",
            "\n",
            "1 . Pan's Labyrinth\n",
            "2 . Dracula Untold\n",
            "3 . Jarhead\n",
            "4 . Apocalypse Now\n",
            "5 . The Pianist\n",
            "6 . Born on the Fourth of July\n",
            "7 . Stop-Loss\n",
            "8 . Hart's War\n",
            "9 . Redacted\n",
            "10 . The Deer Hunter\n",
            "11 . Miracle at St. Anna\n",
            "12 . The Children of Huang Shi\n",
            "13 . The Boy in the Striped Pyjamas\n",
            "14 . Ararat\n",
            "15 . Adam Resurrected\n",
            "16 . Richard III\n",
            "17 . Fateless\n",
            "18 . 5 Days of War\n",
            "19 . Sarah's Key\n",
            "20 . War Horse\n",
            "21 . Unbroken\n",
            "22 . The Water Diviner\n",
            "23 . Far from Men\n",
            "24 . The Last Legion\n",
            "25 . Enemy at the Gates\n",
            "26 . Glory\n",
            "27 . Good Morning, Vietnam\n",
            "28 . Dr. Strangelove or: How I Learned to Stop Worrying and Love the Bomb\n",
            "29 . Catch-22\n",
            "30 . Tea with Mussolini\n"
          ]
        }
      ]
    },
    {
      "cell_type": "markdown",
      "source": [
        "**Top 10 Movies Recommendation System**"
      ],
      "metadata": {
        "id": "bhOM-fPoJPP-"
      }
    },
    {
      "cell_type": "code",
      "source": [
        "Movie_Name = input(\"Enter your favourite movie name: \")\n",
        "\n",
        "list_of_all_titles = df['Movie_Title'].tolist()\n",
        "\n",
        "Find_Close_Match = difflib.get_close_matches (Movie_Name, list_of_all_titles)\n",
        "\n",
        "Close_Match = Find_Close_Match[0]\n",
        "\n",
        "Index_of_Movie = df[df.Movie_Title == Close_Match] ['Movie_ID'].values[0]\n",
        "\n",
        "Recommendation_Score = list(enumerate(Similarity_Score[Index_of_Movie]))\n",
        "\n",
        "sorted_similar_movies = sorted(Recommendation_Score, key = lambda x:x[1], reverse = True)\n",
        "\n",
        "print(\"Top 10 Movies suggested for you: \\n\")\n",
        "\n",
        "i=1\n",
        "\n",
        "for movie in sorted_similar_movies:\n",
        "\n",
        "  index=movie[0]\n",
        "\n",
        "  title_from_index = df [df.Movie_ID==index]['Movie_Title'].values\n",
        "\n",
        "  if (i<11):\n",
        "\n",
        "    print(i,'.',title_from_index)\n",
        "\n",
        "    i+=1"
      ],
      "metadata": {
        "colab": {
          "base_uri": "https://localhost:8080/"
        },
        "id": "dHi2TBpUJaHM",
        "outputId": "8d77fea4-5200-4708-9173-4ab4f093161c"
      },
      "execution_count": 34,
      "outputs": [
        {
          "output_type": "stream",
          "name": "stdout",
          "text": [
            "Enter your favourite movie name: Harry Potter\n",
            "Top 10 Movies suggested for you: \n",
            "\n",
            "1 . ['Party Monster']\n",
            "2 . ['Hall Pass']\n",
            "3 . ['Kill Bill: Vol. 1']\n",
            "4 . ['Jarhead']\n",
            "5 . ['The Life Aquatic with Steve Zissou']\n",
            "6 . ['Code 46']\n",
            "7 . ['The River Wild']\n",
            "8 . ['The Girl Next Door']\n",
            "9 . ['The Kentucky Fried Movie']\n",
            "10 . ['Intolerable Cruelty']\n"
          ]
        }
      ]
    },
    {
      "cell_type": "code",
      "source": [],
      "metadata": {
        "id": "RQVgljbBLcZq"
      },
      "execution_count": 34,
      "outputs": []
    }
  ]
}